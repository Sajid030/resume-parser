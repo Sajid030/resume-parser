{
 "cells": [
  {
   "cell_type": "markdown",
   "id": "261677a4",
   "metadata": {},
   "source": [
    "# Topperworld: Artificial Intelligence\n",
    "## Task2: Resume Parser\n",
    "### Objective: The objective of the resume parser project in AI is to develop a sophisticated system capable of automatically extracting relevant information from resumes or CVs, such as contact details, work experience, education, skills, and other relevant sections, and converting it into a structured format.\n"
   ]
  },
  {
   "cell_type": "code",
   "execution_count": 116,
   "id": "10796189",
   "metadata": {},
   "outputs": [],
   "source": [
    "# Importing basic libraries\n",
    "import numpy as np\n",
    "import pandas as pd\n",
    "import warnings\n",
    "warnings.filterwarnings('ignore')"
   ]
  },
  {
   "cell_type": "code",
   "execution_count": 117,
   "id": "c39b6fed",
   "metadata": {},
   "outputs": [
    {
     "data": {
      "text/html": [
       "<div>\n",
       "<style scoped>\n",
       "    .dataframe tbody tr th:only-of-type {\n",
       "        vertical-align: middle;\n",
       "    }\n",
       "\n",
       "    .dataframe tbody tr th {\n",
       "        vertical-align: top;\n",
       "    }\n",
       "\n",
       "    .dataframe thead th {\n",
       "        text-align: right;\n",
       "    }\n",
       "</style>\n",
       "<table border=\"1\" class=\"dataframe\">\n",
       "  <thead>\n",
       "    <tr style=\"text-align: right;\">\n",
       "      <th></th>\n",
       "      <th>Category</th>\n",
       "      <th>Resume</th>\n",
       "    </tr>\n",
       "  </thead>\n",
       "  <tbody>\n",
       "    <tr>\n",
       "      <th>0</th>\n",
       "      <td>Data Science</td>\n",
       "      <td>Skills * Programming Languages: Python (pandas...</td>\n",
       "    </tr>\n",
       "    <tr>\n",
       "      <th>1</th>\n",
       "      <td>Data Science</td>\n",
       "      <td>Education Details \\r\\nMay 2013 to May 2017 B.E...</td>\n",
       "    </tr>\n",
       "    <tr>\n",
       "      <th>2</th>\n",
       "      <td>Data Science</td>\n",
       "      <td>Areas of Interest Deep Learning, Control Syste...</td>\n",
       "    </tr>\n",
       "    <tr>\n",
       "      <th>3</th>\n",
       "      <td>Data Science</td>\n",
       "      <td>Skills â¢ R â¢ Python â¢ SAP HANA â¢ Table...</td>\n",
       "    </tr>\n",
       "    <tr>\n",
       "      <th>4</th>\n",
       "      <td>Data Science</td>\n",
       "      <td>Education Details \\r\\n MCA   YMCAUST,  Faridab...</td>\n",
       "    </tr>\n",
       "  </tbody>\n",
       "</table>\n",
       "</div>"
      ],
      "text/plain": [
       "       Category                                             Resume\n",
       "0  Data Science  Skills * Programming Languages: Python (pandas...\n",
       "1  Data Science  Education Details \\r\\nMay 2013 to May 2017 B.E...\n",
       "2  Data Science  Areas of Interest Deep Learning, Control Syste...\n",
       "3  Data Science  Skills â¢ R â¢ Python â¢ SAP HANA â¢ Table...\n",
       "4  Data Science  Education Details \\r\\n MCA   YMCAUST,  Faridab..."
      ]
     },
     "execution_count": 117,
     "metadata": {},
     "output_type": "execute_result"
    }
   ],
   "source": [
    "# Reading the dataset\n",
    "df = pd.read_csv('UpdatedResumeDataSet.csv')\n",
    "df.head()"
   ]
  },
  {
   "cell_type": "markdown",
   "id": "bb66e448",
   "metadata": {},
   "source": [
    "# Exploratory Data Analysis"
   ]
  },
  {
   "cell_type": "markdown",
   "id": "870973af",
   "metadata": {},
   "source": [
    "## Visualization"
   ]
  },
  {
   "cell_type": "code",
   "execution_count": 118,
   "id": "f46a1007",
   "metadata": {},
   "outputs": [],
   "source": [
    "# For visualization\n",
    "import plotly.express as px\n",
    "import plotly.graph_objects as go\n",
    "from wordcloud import WordCloud"
   ]
  },
  {
   "cell_type": "code",
   "execution_count": 119,
   "id": "aed4cb4e",
   "metadata": {},
   "outputs": [],
   "source": [
    "# Calculate value counts for each category\n",
    "category_counts = df['Category'].value_counts()"
   ]
  },
  {
   "cell_type": "code",
   "execution_count": 120,
   "id": "aa5fdd9d",
   "metadata": {
    "scrolled": false
   },
   "outputs": [
    {
     "data": {
      "text/html": [
       "<div>\n",
       "<style scoped>\n",
       "    .dataframe tbody tr th:only-of-type {\n",
       "        vertical-align: middle;\n",
       "    }\n",
       "\n",
       "    .dataframe tbody tr th {\n",
       "        vertical-align: top;\n",
       "    }\n",
       "\n",
       "    .dataframe thead th {\n",
       "        text-align: right;\n",
       "    }\n",
       "</style>\n",
       "<table border=\"1\" class=\"dataframe\">\n",
       "  <thead>\n",
       "    <tr style=\"text-align: right;\">\n",
       "      <th></th>\n",
       "      <th>Category</th>\n",
       "      <th>Count</th>\n",
       "    </tr>\n",
       "  </thead>\n",
       "  <tbody>\n",
       "    <tr>\n",
       "      <th>0</th>\n",
       "      <td>Java Developer</td>\n",
       "      <td>84</td>\n",
       "    </tr>\n",
       "    <tr>\n",
       "      <th>1</th>\n",
       "      <td>Testing</td>\n",
       "      <td>70</td>\n",
       "    </tr>\n",
       "    <tr>\n",
       "      <th>2</th>\n",
       "      <td>DevOps Engineer</td>\n",
       "      <td>55</td>\n",
       "    </tr>\n",
       "    <tr>\n",
       "      <th>3</th>\n",
       "      <td>Python Developer</td>\n",
       "      <td>48</td>\n",
       "    </tr>\n",
       "    <tr>\n",
       "      <th>4</th>\n",
       "      <td>Web Designing</td>\n",
       "      <td>45</td>\n",
       "    </tr>\n",
       "  </tbody>\n",
       "</table>\n",
       "</div>"
      ],
      "text/plain": [
       "           Category  Count\n",
       "0    Java Developer     84\n",
       "1           Testing     70\n",
       "2   DevOps Engineer     55\n",
       "3  Python Developer     48\n",
       "4     Web Designing     45"
      ]
     },
     "execution_count": 120,
     "metadata": {},
     "output_type": "execute_result"
    }
   ],
   "source": [
    "# Create a new DataFrame for plotting\n",
    "plot_data = pd.DataFrame({\n",
    "    'Category': category_counts.index,\n",
    "    'Count': category_counts.values\n",
    "})\n",
    "plot_data.head()"
   ]
  },
  {
   "cell_type": "code",
   "execution_count": 121,
   "id": "26a98fe4",
   "metadata": {},
   "outputs": [
    {
     "data": {
      "application/vnd.plotly.v1+json": {
       "config": {
        "plotlyServerURL": "https://plot.ly"
       },
       "data": [
        {
         "alignmentgroup": "True",
         "hovertemplate": "Job=%{x}<br>Count=%{y}<extra></extra>",
         "legendgroup": "Java Developer",
         "marker": {
          "color": "rgb(141,211,199)",
          "pattern": {
           "shape": ""
          }
         },
         "name": "Java Developer",
         "offsetgroup": "Java Developer",
         "orientation": "v",
         "showlegend": true,
         "textposition": "auto",
         "type": "bar",
         "x": [
          "Java Developer"
         ],
         "xaxis": "x",
         "y": [
          84
         ],
         "yaxis": "y"
        },
        {
         "alignmentgroup": "True",
         "hovertemplate": "Job=%{x}<br>Count=%{y}<extra></extra>",
         "legendgroup": "Testing",
         "marker": {
          "color": "rgb(255,255,179)",
          "pattern": {
           "shape": ""
          }
         },
         "name": "Testing",
         "offsetgroup": "Testing",
         "orientation": "v",
         "showlegend": true,
         "textposition": "auto",
         "type": "bar",
         "x": [
          "Testing"
         ],
         "xaxis": "x",
         "y": [
          70
         ],
         "yaxis": "y"
        },
        {
         "alignmentgroup": "True",
         "hovertemplate": "Job=%{x}<br>Count=%{y}<extra></extra>",
         "legendgroup": "DevOps Engineer",
         "marker": {
          "color": "rgb(190,186,218)",
          "pattern": {
           "shape": ""
          }
         },
         "name": "DevOps Engineer",
         "offsetgroup": "DevOps Engineer",
         "orientation": "v",
         "showlegend": true,
         "textposition": "auto",
         "type": "bar",
         "x": [
          "DevOps Engineer"
         ],
         "xaxis": "x",
         "y": [
          55
         ],
         "yaxis": "y"
        },
        {
         "alignmentgroup": "True",
         "hovertemplate": "Job=%{x}<br>Count=%{y}<extra></extra>",
         "legendgroup": "Python Developer",
         "marker": {
          "color": "rgb(251,128,114)",
          "pattern": {
           "shape": ""
          }
         },
         "name": "Python Developer",
         "offsetgroup": "Python Developer",
         "orientation": "v",
         "showlegend": true,
         "textposition": "auto",
         "type": "bar",
         "x": [
          "Python Developer"
         ],
         "xaxis": "x",
         "y": [
          48
         ],
         "yaxis": "y"
        },
        {
         "alignmentgroup": "True",
         "hovertemplate": "Job=%{x}<br>Count=%{y}<extra></extra>",
         "legendgroup": "Web Designing",
         "marker": {
          "color": "rgb(128,177,211)",
          "pattern": {
           "shape": ""
          }
         },
         "name": "Web Designing",
         "offsetgroup": "Web Designing",
         "orientation": "v",
         "showlegend": true,
         "textposition": "auto",
         "type": "bar",
         "x": [
          "Web Designing"
         ],
         "xaxis": "x",
         "y": [
          45
         ],
         "yaxis": "y"
        },
        {
         "alignmentgroup": "True",
         "hovertemplate": "Job=%{x}<br>Count=%{y}<extra></extra>",
         "legendgroup": "HR",
         "marker": {
          "color": "rgb(253,180,98)",
          "pattern": {
           "shape": ""
          }
         },
         "name": "HR",
         "offsetgroup": "HR",
         "orientation": "v",
         "showlegend": true,
         "textposition": "auto",
         "type": "bar",
         "x": [
          "HR"
         ],
         "xaxis": "x",
         "y": [
          44
         ],
         "yaxis": "y"
        },
        {
         "alignmentgroup": "True",
         "hovertemplate": "Job=%{x}<br>Count=%{y}<extra></extra>",
         "legendgroup": "Hadoop",
         "marker": {
          "color": "rgb(179,222,105)",
          "pattern": {
           "shape": ""
          }
         },
         "name": "Hadoop",
         "offsetgroup": "Hadoop",
         "orientation": "v",
         "showlegend": true,
         "textposition": "auto",
         "type": "bar",
         "x": [
          "Hadoop"
         ],
         "xaxis": "x",
         "y": [
          42
         ],
         "yaxis": "y"
        },
        {
         "alignmentgroup": "True",
         "hovertemplate": "Job=%{x}<br>Count=%{y}<extra></extra>",
         "legendgroup": "Blockchain",
         "marker": {
          "color": "rgb(252,205,229)",
          "pattern": {
           "shape": ""
          }
         },
         "name": "Blockchain",
         "offsetgroup": "Blockchain",
         "orientation": "v",
         "showlegend": true,
         "textposition": "auto",
         "type": "bar",
         "x": [
          "Blockchain"
         ],
         "xaxis": "x",
         "y": [
          40
         ],
         "yaxis": "y"
        },
        {
         "alignmentgroup": "True",
         "hovertemplate": "Job=%{x}<br>Count=%{y}<extra></extra>",
         "legendgroup": "ETL Developer",
         "marker": {
          "color": "rgb(217,217,217)",
          "pattern": {
           "shape": ""
          }
         },
         "name": "ETL Developer",
         "offsetgroup": "ETL Developer",
         "orientation": "v",
         "showlegend": true,
         "textposition": "auto",
         "type": "bar",
         "x": [
          "ETL Developer"
         ],
         "xaxis": "x",
         "y": [
          40
         ],
         "yaxis": "y"
        },
        {
         "alignmentgroup": "True",
         "hovertemplate": "Job=%{x}<br>Count=%{y}<extra></extra>",
         "legendgroup": "Operations Manager",
         "marker": {
          "color": "rgb(188,128,189)",
          "pattern": {
           "shape": ""
          }
         },
         "name": "Operations Manager",
         "offsetgroup": "Operations Manager",
         "orientation": "v",
         "showlegend": true,
         "textposition": "auto",
         "type": "bar",
         "x": [
          "Operations Manager"
         ],
         "xaxis": "x",
         "y": [
          40
         ],
         "yaxis": "y"
        },
        {
         "alignmentgroup": "True",
         "hovertemplate": "Job=%{x}<br>Count=%{y}<extra></extra>",
         "legendgroup": "Data Science",
         "marker": {
          "color": "rgb(204,235,197)",
          "pattern": {
           "shape": ""
          }
         },
         "name": "Data Science",
         "offsetgroup": "Data Science",
         "orientation": "v",
         "showlegend": true,
         "textposition": "auto",
         "type": "bar",
         "x": [
          "Data Science"
         ],
         "xaxis": "x",
         "y": [
          40
         ],
         "yaxis": "y"
        },
        {
         "alignmentgroup": "True",
         "hovertemplate": "Job=%{x}<br>Count=%{y}<extra></extra>",
         "legendgroup": "Sales",
         "marker": {
          "color": "rgb(255,237,111)",
          "pattern": {
           "shape": ""
          }
         },
         "name": "Sales",
         "offsetgroup": "Sales",
         "orientation": "v",
         "showlegend": true,
         "textposition": "auto",
         "type": "bar",
         "x": [
          "Sales"
         ],
         "xaxis": "x",
         "y": [
          40
         ],
         "yaxis": "y"
        },
        {
         "alignmentgroup": "True",
         "hovertemplate": "Job=%{x}<br>Count=%{y}<extra></extra>",
         "legendgroup": "Mechanical Engineer",
         "marker": {
          "color": "rgb(141,211,199)",
          "pattern": {
           "shape": ""
          }
         },
         "name": "Mechanical Engineer",
         "offsetgroup": "Mechanical Engineer",
         "orientation": "v",
         "showlegend": true,
         "textposition": "auto",
         "type": "bar",
         "x": [
          "Mechanical Engineer"
         ],
         "xaxis": "x",
         "y": [
          40
         ],
         "yaxis": "y"
        },
        {
         "alignmentgroup": "True",
         "hovertemplate": "Job=%{x}<br>Count=%{y}<extra></extra>",
         "legendgroup": "Arts",
         "marker": {
          "color": "rgb(255,255,179)",
          "pattern": {
           "shape": ""
          }
         },
         "name": "Arts",
         "offsetgroup": "Arts",
         "orientation": "v",
         "showlegend": true,
         "textposition": "auto",
         "type": "bar",
         "x": [
          "Arts"
         ],
         "xaxis": "x",
         "y": [
          36
         ],
         "yaxis": "y"
        },
        {
         "alignmentgroup": "True",
         "hovertemplate": "Job=%{x}<br>Count=%{y}<extra></extra>",
         "legendgroup": "Database",
         "marker": {
          "color": "rgb(190,186,218)",
          "pattern": {
           "shape": ""
          }
         },
         "name": "Database",
         "offsetgroup": "Database",
         "orientation": "v",
         "showlegend": true,
         "textposition": "auto",
         "type": "bar",
         "x": [
          "Database"
         ],
         "xaxis": "x",
         "y": [
          33
         ],
         "yaxis": "y"
        },
        {
         "alignmentgroup": "True",
         "hovertemplate": "Job=%{x}<br>Count=%{y}<extra></extra>",
         "legendgroup": "Electrical Engineering",
         "marker": {
          "color": "rgb(251,128,114)",
          "pattern": {
           "shape": ""
          }
         },
         "name": "Electrical Engineering",
         "offsetgroup": "Electrical Engineering",
         "orientation": "v",
         "showlegend": true,
         "textposition": "auto",
         "type": "bar",
         "x": [
          "Electrical Engineering"
         ],
         "xaxis": "x",
         "y": [
          30
         ],
         "yaxis": "y"
        },
        {
         "alignmentgroup": "True",
         "hovertemplate": "Job=%{x}<br>Count=%{y}<extra></extra>",
         "legendgroup": "Health and fitness",
         "marker": {
          "color": "rgb(128,177,211)",
          "pattern": {
           "shape": ""
          }
         },
         "name": "Health and fitness",
         "offsetgroup": "Health and fitness",
         "orientation": "v",
         "showlegend": true,
         "textposition": "auto",
         "type": "bar",
         "x": [
          "Health and fitness"
         ],
         "xaxis": "x",
         "y": [
          30
         ],
         "yaxis": "y"
        },
        {
         "alignmentgroup": "True",
         "hovertemplate": "Job=%{x}<br>Count=%{y}<extra></extra>",
         "legendgroup": "PMO",
         "marker": {
          "color": "rgb(253,180,98)",
          "pattern": {
           "shape": ""
          }
         },
         "name": "PMO",
         "offsetgroup": "PMO",
         "orientation": "v",
         "showlegend": true,
         "textposition": "auto",
         "type": "bar",
         "x": [
          "PMO"
         ],
         "xaxis": "x",
         "y": [
          30
         ],
         "yaxis": "y"
        },
        {
         "alignmentgroup": "True",
         "hovertemplate": "Job=%{x}<br>Count=%{y}<extra></extra>",
         "legendgroup": "Business Analyst",
         "marker": {
          "color": "rgb(179,222,105)",
          "pattern": {
           "shape": ""
          }
         },
         "name": "Business Analyst",
         "offsetgroup": "Business Analyst",
         "orientation": "v",
         "showlegend": true,
         "textposition": "auto",
         "type": "bar",
         "x": [
          "Business Analyst"
         ],
         "xaxis": "x",
         "y": [
          28
         ],
         "yaxis": "y"
        },
        {
         "alignmentgroup": "True",
         "hovertemplate": "Job=%{x}<br>Count=%{y}<extra></extra>",
         "legendgroup": "DotNet Developer",
         "marker": {
          "color": "rgb(252,205,229)",
          "pattern": {
           "shape": ""
          }
         },
         "name": "DotNet Developer",
         "offsetgroup": "DotNet Developer",
         "orientation": "v",
         "showlegend": true,
         "textposition": "auto",
         "type": "bar",
         "x": [
          "DotNet Developer"
         ],
         "xaxis": "x",
         "y": [
          28
         ],
         "yaxis": "y"
        },
        {
         "alignmentgroup": "True",
         "hovertemplate": "Job=%{x}<br>Count=%{y}<extra></extra>",
         "legendgroup": "Automation Testing",
         "marker": {
          "color": "rgb(217,217,217)",
          "pattern": {
           "shape": ""
          }
         },
         "name": "Automation Testing",
         "offsetgroup": "Automation Testing",
         "orientation": "v",
         "showlegend": true,
         "textposition": "auto",
         "type": "bar",
         "x": [
          "Automation Testing"
         ],
         "xaxis": "x",
         "y": [
          26
         ],
         "yaxis": "y"
        },
        {
         "alignmentgroup": "True",
         "hovertemplate": "Job=%{x}<br>Count=%{y}<extra></extra>",
         "legendgroup": "Network Security Engineer",
         "marker": {
          "color": "rgb(188,128,189)",
          "pattern": {
           "shape": ""
          }
         },
         "name": "Network Security Engineer",
         "offsetgroup": "Network Security Engineer",
         "orientation": "v",
         "showlegend": true,
         "textposition": "auto",
         "type": "bar",
         "x": [
          "Network Security Engineer"
         ],
         "xaxis": "x",
         "y": [
          25
         ],
         "yaxis": "y"
        },
        {
         "alignmentgroup": "True",
         "hovertemplate": "Job=%{x}<br>Count=%{y}<extra></extra>",
         "legendgroup": "SAP Developer",
         "marker": {
          "color": "rgb(204,235,197)",
          "pattern": {
           "shape": ""
          }
         },
         "name": "SAP Developer",
         "offsetgroup": "SAP Developer",
         "orientation": "v",
         "showlegend": true,
         "textposition": "auto",
         "type": "bar",
         "x": [
          "SAP Developer"
         ],
         "xaxis": "x",
         "y": [
          24
         ],
         "yaxis": "y"
        },
        {
         "alignmentgroup": "True",
         "hovertemplate": "Job=%{x}<br>Count=%{y}<extra></extra>",
         "legendgroup": "Civil Engineer",
         "marker": {
          "color": "rgb(255,237,111)",
          "pattern": {
           "shape": ""
          }
         },
         "name": "Civil Engineer",
         "offsetgroup": "Civil Engineer",
         "orientation": "v",
         "showlegend": true,
         "textposition": "auto",
         "type": "bar",
         "x": [
          "Civil Engineer"
         ],
         "xaxis": "x",
         "y": [
          24
         ],
         "yaxis": "y"
        },
        {
         "alignmentgroup": "True",
         "hovertemplate": "Job=%{x}<br>Count=%{y}<extra></extra>",
         "legendgroup": "Advocate",
         "marker": {
          "color": "rgb(141,211,199)",
          "pattern": {
           "shape": ""
          }
         },
         "name": "Advocate",
         "offsetgroup": "Advocate",
         "orientation": "v",
         "showlegend": true,
         "textposition": "auto",
         "type": "bar",
         "x": [
          "Advocate"
         ],
         "xaxis": "x",
         "y": [
          20
         ],
         "yaxis": "y"
        }
       ],
       "layout": {
        "barmode": "relative",
        "font": {
         "family": "Arial",
         "size": 12
        },
        "legend": {
         "title": {
          "text": "Job Categories"
         },
         "tracegroupgap": 0
        },
        "margin": {
         "t": 60
        },
        "plot_bgcolor": "white",
        "showlegend": true,
        "template": {
         "data": {
          "bar": [
           {
            "error_x": {
             "color": "#2a3f5f"
            },
            "error_y": {
             "color": "#2a3f5f"
            },
            "marker": {
             "line": {
              "color": "#E5ECF6",
              "width": 0.5
             },
             "pattern": {
              "fillmode": "overlay",
              "size": 10,
              "solidity": 0.2
             }
            },
            "type": "bar"
           }
          ],
          "barpolar": [
           {
            "marker": {
             "line": {
              "color": "#E5ECF6",
              "width": 0.5
             },
             "pattern": {
              "fillmode": "overlay",
              "size": 10,
              "solidity": 0.2
             }
            },
            "type": "barpolar"
           }
          ],
          "carpet": [
           {
            "aaxis": {
             "endlinecolor": "#2a3f5f",
             "gridcolor": "white",
             "linecolor": "white",
             "minorgridcolor": "white",
             "startlinecolor": "#2a3f5f"
            },
            "baxis": {
             "endlinecolor": "#2a3f5f",
             "gridcolor": "white",
             "linecolor": "white",
             "minorgridcolor": "white",
             "startlinecolor": "#2a3f5f"
            },
            "type": "carpet"
           }
          ],
          "choropleth": [
           {
            "colorbar": {
             "outlinewidth": 0,
             "ticks": ""
            },
            "type": "choropleth"
           }
          ],
          "contour": [
           {
            "colorbar": {
             "outlinewidth": 0,
             "ticks": ""
            },
            "colorscale": [
             [
              0,
              "#0d0887"
             ],
             [
              0.1111111111111111,
              "#46039f"
             ],
             [
              0.2222222222222222,
              "#7201a8"
             ],
             [
              0.3333333333333333,
              "#9c179e"
             ],
             [
              0.4444444444444444,
              "#bd3786"
             ],
             [
              0.5555555555555556,
              "#d8576b"
             ],
             [
              0.6666666666666666,
              "#ed7953"
             ],
             [
              0.7777777777777778,
              "#fb9f3a"
             ],
             [
              0.8888888888888888,
              "#fdca26"
             ],
             [
              1,
              "#f0f921"
             ]
            ],
            "type": "contour"
           }
          ],
          "contourcarpet": [
           {
            "colorbar": {
             "outlinewidth": 0,
             "ticks": ""
            },
            "type": "contourcarpet"
           }
          ],
          "heatmap": [
           {
            "colorbar": {
             "outlinewidth": 0,
             "ticks": ""
            },
            "colorscale": [
             [
              0,
              "#0d0887"
             ],
             [
              0.1111111111111111,
              "#46039f"
             ],
             [
              0.2222222222222222,
              "#7201a8"
             ],
             [
              0.3333333333333333,
              "#9c179e"
             ],
             [
              0.4444444444444444,
              "#bd3786"
             ],
             [
              0.5555555555555556,
              "#d8576b"
             ],
             [
              0.6666666666666666,
              "#ed7953"
             ],
             [
              0.7777777777777778,
              "#fb9f3a"
             ],
             [
              0.8888888888888888,
              "#fdca26"
             ],
             [
              1,
              "#f0f921"
             ]
            ],
            "type": "heatmap"
           }
          ],
          "heatmapgl": [
           {
            "colorbar": {
             "outlinewidth": 0,
             "ticks": ""
            },
            "colorscale": [
             [
              0,
              "#0d0887"
             ],
             [
              0.1111111111111111,
              "#46039f"
             ],
             [
              0.2222222222222222,
              "#7201a8"
             ],
             [
              0.3333333333333333,
              "#9c179e"
             ],
             [
              0.4444444444444444,
              "#bd3786"
             ],
             [
              0.5555555555555556,
              "#d8576b"
             ],
             [
              0.6666666666666666,
              "#ed7953"
             ],
             [
              0.7777777777777778,
              "#fb9f3a"
             ],
             [
              0.8888888888888888,
              "#fdca26"
             ],
             [
              1,
              "#f0f921"
             ]
            ],
            "type": "heatmapgl"
           }
          ],
          "histogram": [
           {
            "marker": {
             "pattern": {
              "fillmode": "overlay",
              "size": 10,
              "solidity": 0.2
             }
            },
            "type": "histogram"
           }
          ],
          "histogram2d": [
           {
            "colorbar": {
             "outlinewidth": 0,
             "ticks": ""
            },
            "colorscale": [
             [
              0,
              "#0d0887"
             ],
             [
              0.1111111111111111,
              "#46039f"
             ],
             [
              0.2222222222222222,
              "#7201a8"
             ],
             [
              0.3333333333333333,
              "#9c179e"
             ],
             [
              0.4444444444444444,
              "#bd3786"
             ],
             [
              0.5555555555555556,
              "#d8576b"
             ],
             [
              0.6666666666666666,
              "#ed7953"
             ],
             [
              0.7777777777777778,
              "#fb9f3a"
             ],
             [
              0.8888888888888888,
              "#fdca26"
             ],
             [
              1,
              "#f0f921"
             ]
            ],
            "type": "histogram2d"
           }
          ],
          "histogram2dcontour": [
           {
            "colorbar": {
             "outlinewidth": 0,
             "ticks": ""
            },
            "colorscale": [
             [
              0,
              "#0d0887"
             ],
             [
              0.1111111111111111,
              "#46039f"
             ],
             [
              0.2222222222222222,
              "#7201a8"
             ],
             [
              0.3333333333333333,
              "#9c179e"
             ],
             [
              0.4444444444444444,
              "#bd3786"
             ],
             [
              0.5555555555555556,
              "#d8576b"
             ],
             [
              0.6666666666666666,
              "#ed7953"
             ],
             [
              0.7777777777777778,
              "#fb9f3a"
             ],
             [
              0.8888888888888888,
              "#fdca26"
             ],
             [
              1,
              "#f0f921"
             ]
            ],
            "type": "histogram2dcontour"
           }
          ],
          "mesh3d": [
           {
            "colorbar": {
             "outlinewidth": 0,
             "ticks": ""
            },
            "type": "mesh3d"
           }
          ],
          "parcoords": [
           {
            "line": {
             "colorbar": {
              "outlinewidth": 0,
              "ticks": ""
             }
            },
            "type": "parcoords"
           }
          ],
          "pie": [
           {
            "automargin": true,
            "type": "pie"
           }
          ],
          "scatter": [
           {
            "fillpattern": {
             "fillmode": "overlay",
             "size": 10,
             "solidity": 0.2
            },
            "type": "scatter"
           }
          ],
          "scatter3d": [
           {
            "line": {
             "colorbar": {
              "outlinewidth": 0,
              "ticks": ""
             }
            },
            "marker": {
             "colorbar": {
              "outlinewidth": 0,
              "ticks": ""
             }
            },
            "type": "scatter3d"
           }
          ],
          "scattercarpet": [
           {
            "marker": {
             "colorbar": {
              "outlinewidth": 0,
              "ticks": ""
             }
            },
            "type": "scattercarpet"
           }
          ],
          "scattergeo": [
           {
            "marker": {
             "colorbar": {
              "outlinewidth": 0,
              "ticks": ""
             }
            },
            "type": "scattergeo"
           }
          ],
          "scattergl": [
           {
            "marker": {
             "colorbar": {
              "outlinewidth": 0,
              "ticks": ""
             }
            },
            "type": "scattergl"
           }
          ],
          "scattermapbox": [
           {
            "marker": {
             "colorbar": {
              "outlinewidth": 0,
              "ticks": ""
             }
            },
            "type": "scattermapbox"
           }
          ],
          "scatterpolar": [
           {
            "marker": {
             "colorbar": {
              "outlinewidth": 0,
              "ticks": ""
             }
            },
            "type": "scatterpolar"
           }
          ],
          "scatterpolargl": [
           {
            "marker": {
             "colorbar": {
              "outlinewidth": 0,
              "ticks": ""
             }
            },
            "type": "scatterpolargl"
           }
          ],
          "scatterternary": [
           {
            "marker": {
             "colorbar": {
              "outlinewidth": 0,
              "ticks": ""
             }
            },
            "type": "scatterternary"
           }
          ],
          "surface": [
           {
            "colorbar": {
             "outlinewidth": 0,
             "ticks": ""
            },
            "colorscale": [
             [
              0,
              "#0d0887"
             ],
             [
              0.1111111111111111,
              "#46039f"
             ],
             [
              0.2222222222222222,
              "#7201a8"
             ],
             [
              0.3333333333333333,
              "#9c179e"
             ],
             [
              0.4444444444444444,
              "#bd3786"
             ],
             [
              0.5555555555555556,
              "#d8576b"
             ],
             [
              0.6666666666666666,
              "#ed7953"
             ],
             [
              0.7777777777777778,
              "#fb9f3a"
             ],
             [
              0.8888888888888888,
              "#fdca26"
             ],
             [
              1,
              "#f0f921"
             ]
            ],
            "type": "surface"
           }
          ],
          "table": [
           {
            "cells": {
             "fill": {
              "color": "#EBF0F8"
             },
             "line": {
              "color": "white"
             }
            },
            "header": {
             "fill": {
              "color": "#C8D4E3"
             },
             "line": {
              "color": "white"
             }
            },
            "type": "table"
           }
          ]
         },
         "layout": {
          "annotationdefaults": {
           "arrowcolor": "#2a3f5f",
           "arrowhead": 0,
           "arrowwidth": 1
          },
          "autotypenumbers": "strict",
          "coloraxis": {
           "colorbar": {
            "outlinewidth": 0,
            "ticks": ""
           }
          },
          "colorscale": {
           "diverging": [
            [
             0,
             "#8e0152"
            ],
            [
             0.1,
             "#c51b7d"
            ],
            [
             0.2,
             "#de77ae"
            ],
            [
             0.3,
             "#f1b6da"
            ],
            [
             0.4,
             "#fde0ef"
            ],
            [
             0.5,
             "#f7f7f7"
            ],
            [
             0.6,
             "#e6f5d0"
            ],
            [
             0.7,
             "#b8e186"
            ],
            [
             0.8,
             "#7fbc41"
            ],
            [
             0.9,
             "#4d9221"
            ],
            [
             1,
             "#276419"
            ]
           ],
           "sequential": [
            [
             0,
             "#0d0887"
            ],
            [
             0.1111111111111111,
             "#46039f"
            ],
            [
             0.2222222222222222,
             "#7201a8"
            ],
            [
             0.3333333333333333,
             "#9c179e"
            ],
            [
             0.4444444444444444,
             "#bd3786"
            ],
            [
             0.5555555555555556,
             "#d8576b"
            ],
            [
             0.6666666666666666,
             "#ed7953"
            ],
            [
             0.7777777777777778,
             "#fb9f3a"
            ],
            [
             0.8888888888888888,
             "#fdca26"
            ],
            [
             1,
             "#f0f921"
            ]
           ],
           "sequentialminus": [
            [
             0,
             "#0d0887"
            ],
            [
             0.1111111111111111,
             "#46039f"
            ],
            [
             0.2222222222222222,
             "#7201a8"
            ],
            [
             0.3333333333333333,
             "#9c179e"
            ],
            [
             0.4444444444444444,
             "#bd3786"
            ],
            [
             0.5555555555555556,
             "#d8576b"
            ],
            [
             0.6666666666666666,
             "#ed7953"
            ],
            [
             0.7777777777777778,
             "#fb9f3a"
            ],
            [
             0.8888888888888888,
             "#fdca26"
            ],
            [
             1,
             "#f0f921"
            ]
           ]
          },
          "colorway": [
           "#636efa",
           "#EF553B",
           "#00cc96",
           "#ab63fa",
           "#FFA15A",
           "#19d3f3",
           "#FF6692",
           "#B6E880",
           "#FF97FF",
           "#FECB52"
          ],
          "font": {
           "color": "#2a3f5f"
          },
          "geo": {
           "bgcolor": "white",
           "lakecolor": "white",
           "landcolor": "#E5ECF6",
           "showlakes": true,
           "showland": true,
           "subunitcolor": "white"
          },
          "hoverlabel": {
           "align": "left"
          },
          "hovermode": "closest",
          "mapbox": {
           "style": "light"
          },
          "paper_bgcolor": "white",
          "plot_bgcolor": "#E5ECF6",
          "polar": {
           "angularaxis": {
            "gridcolor": "white",
            "linecolor": "white",
            "ticks": ""
           },
           "bgcolor": "#E5ECF6",
           "radialaxis": {
            "gridcolor": "white",
            "linecolor": "white",
            "ticks": ""
           }
          },
          "scene": {
           "xaxis": {
            "backgroundcolor": "#E5ECF6",
            "gridcolor": "white",
            "gridwidth": 2,
            "linecolor": "white",
            "showbackground": true,
            "ticks": "",
            "zerolinecolor": "white"
           },
           "yaxis": {
            "backgroundcolor": "#E5ECF6",
            "gridcolor": "white",
            "gridwidth": 2,
            "linecolor": "white",
            "showbackground": true,
            "ticks": "",
            "zerolinecolor": "white"
           },
           "zaxis": {
            "backgroundcolor": "#E5ECF6",
            "gridcolor": "white",
            "gridwidth": 2,
            "linecolor": "white",
            "showbackground": true,
            "ticks": "",
            "zerolinecolor": "white"
           }
          },
          "shapedefaults": {
           "line": {
            "color": "#2a3f5f"
           }
          },
          "ternary": {
           "aaxis": {
            "gridcolor": "white",
            "linecolor": "white",
            "ticks": ""
           },
           "baxis": {
            "gridcolor": "white",
            "linecolor": "white",
            "ticks": ""
           },
           "bgcolor": "#E5ECF6",
           "caxis": {
            "gridcolor": "white",
            "linecolor": "white",
            "ticks": ""
           }
          },
          "title": {
           "x": 0.05
          },
          "xaxis": {
           "automargin": true,
           "gridcolor": "white",
           "linecolor": "white",
           "ticks": "",
           "title": {
            "standoff": 15
           },
           "zerolinecolor": "white",
           "zerolinewidth": 2
          },
          "yaxis": {
           "automargin": true,
           "gridcolor": "white",
           "linecolor": "white",
           "ticks": "",
           "title": {
            "standoff": 15
           },
           "zerolinecolor": "white",
           "zerolinewidth": 2
          }
         }
        },
        "title": {
         "text": "Bar plot depicting count of a particular Job"
        },
        "xaxis": {
         "anchor": "y",
         "categoryarray": [
          "Java Developer",
          "Testing",
          "DevOps Engineer",
          "Python Developer",
          "Web Designing",
          "HR",
          "Hadoop",
          "Blockchain",
          "ETL Developer",
          "Operations Manager",
          "Data Science",
          "Sales",
          "Mechanical Engineer",
          "Arts",
          "Database",
          "Electrical Engineering",
          "Health and fitness",
          "PMO",
          "Business Analyst",
          "DotNet Developer",
          "Automation Testing",
          "Network Security Engineer",
          "SAP Developer",
          "Civil Engineer",
          "Advocate"
         ],
         "categoryorder": "array",
         "domain": [
          0,
          1
         ],
         "tickangle": -45,
         "title": {
          "text": "Job Type"
         }
        },
        "yaxis": {
         "anchor": "x",
         "domain": [
          0,
          1
         ],
         "title": {
          "text": "Count"
         }
        }
       }
      },
      "text/html": [
       "<div>                            <div id=\"6b44bfbe-ec05-413e-a6c6-719d519f3d8c\" class=\"plotly-graph-div\" style=\"height:525px; width:100%;\"></div>            <script type=\"text/javascript\">                require([\"plotly\"], function(Plotly) {                    window.PLOTLYENV=window.PLOTLYENV || {};                                    if (document.getElementById(\"6b44bfbe-ec05-413e-a6c6-719d519f3d8c\")) {                    Plotly.newPlot(                        \"6b44bfbe-ec05-413e-a6c6-719d519f3d8c\",                        [{\"alignmentgroup\":\"True\",\"hovertemplate\":\"Job=%{x}<br>Count=%{y}<extra></extra>\",\"legendgroup\":\"Java Developer\",\"marker\":{\"color\":\"rgb(141,211,199)\",\"pattern\":{\"shape\":\"\"}},\"name\":\"Java Developer\",\"offsetgroup\":\"Java Developer\",\"orientation\":\"v\",\"showlegend\":true,\"textposition\":\"auto\",\"x\":[\"Java Developer\"],\"xaxis\":\"x\",\"y\":[84],\"yaxis\":\"y\",\"type\":\"bar\"},{\"alignmentgroup\":\"True\",\"hovertemplate\":\"Job=%{x}<br>Count=%{y}<extra></extra>\",\"legendgroup\":\"Testing\",\"marker\":{\"color\":\"rgb(255,255,179)\",\"pattern\":{\"shape\":\"\"}},\"name\":\"Testing\",\"offsetgroup\":\"Testing\",\"orientation\":\"v\",\"showlegend\":true,\"textposition\":\"auto\",\"x\":[\"Testing\"],\"xaxis\":\"x\",\"y\":[70],\"yaxis\":\"y\",\"type\":\"bar\"},{\"alignmentgroup\":\"True\",\"hovertemplate\":\"Job=%{x}<br>Count=%{y}<extra></extra>\",\"legendgroup\":\"DevOps Engineer\",\"marker\":{\"color\":\"rgb(190,186,218)\",\"pattern\":{\"shape\":\"\"}},\"name\":\"DevOps Engineer\",\"offsetgroup\":\"DevOps Engineer\",\"orientation\":\"v\",\"showlegend\":true,\"textposition\":\"auto\",\"x\":[\"DevOps Engineer\"],\"xaxis\":\"x\",\"y\":[55],\"yaxis\":\"y\",\"type\":\"bar\"},{\"alignmentgroup\":\"True\",\"hovertemplate\":\"Job=%{x}<br>Count=%{y}<extra></extra>\",\"legendgroup\":\"Python Developer\",\"marker\":{\"color\":\"rgb(251,128,114)\",\"pattern\":{\"shape\":\"\"}},\"name\":\"Python Developer\",\"offsetgroup\":\"Python Developer\",\"orientation\":\"v\",\"showlegend\":true,\"textposition\":\"auto\",\"x\":[\"Python Developer\"],\"xaxis\":\"x\",\"y\":[48],\"yaxis\":\"y\",\"type\":\"bar\"},{\"alignmentgroup\":\"True\",\"hovertemplate\":\"Job=%{x}<br>Count=%{y}<extra></extra>\",\"legendgroup\":\"Web Designing\",\"marker\":{\"color\":\"rgb(128,177,211)\",\"pattern\":{\"shape\":\"\"}},\"name\":\"Web Designing\",\"offsetgroup\":\"Web Designing\",\"orientation\":\"v\",\"showlegend\":true,\"textposition\":\"auto\",\"x\":[\"Web Designing\"],\"xaxis\":\"x\",\"y\":[45],\"yaxis\":\"y\",\"type\":\"bar\"},{\"alignmentgroup\":\"True\",\"hovertemplate\":\"Job=%{x}<br>Count=%{y}<extra></extra>\",\"legendgroup\":\"HR\",\"marker\":{\"color\":\"rgb(253,180,98)\",\"pattern\":{\"shape\":\"\"}},\"name\":\"HR\",\"offsetgroup\":\"HR\",\"orientation\":\"v\",\"showlegend\":true,\"textposition\":\"auto\",\"x\":[\"HR\"],\"xaxis\":\"x\",\"y\":[44],\"yaxis\":\"y\",\"type\":\"bar\"},{\"alignmentgroup\":\"True\",\"hovertemplate\":\"Job=%{x}<br>Count=%{y}<extra></extra>\",\"legendgroup\":\"Hadoop\",\"marker\":{\"color\":\"rgb(179,222,105)\",\"pattern\":{\"shape\":\"\"}},\"name\":\"Hadoop\",\"offsetgroup\":\"Hadoop\",\"orientation\":\"v\",\"showlegend\":true,\"textposition\":\"auto\",\"x\":[\"Hadoop\"],\"xaxis\":\"x\",\"y\":[42],\"yaxis\":\"y\",\"type\":\"bar\"},{\"alignmentgroup\":\"True\",\"hovertemplate\":\"Job=%{x}<br>Count=%{y}<extra></extra>\",\"legendgroup\":\"Blockchain\",\"marker\":{\"color\":\"rgb(252,205,229)\",\"pattern\":{\"shape\":\"\"}},\"name\":\"Blockchain\",\"offsetgroup\":\"Blockchain\",\"orientation\":\"v\",\"showlegend\":true,\"textposition\":\"auto\",\"x\":[\"Blockchain\"],\"xaxis\":\"x\",\"y\":[40],\"yaxis\":\"y\",\"type\":\"bar\"},{\"alignmentgroup\":\"True\",\"hovertemplate\":\"Job=%{x}<br>Count=%{y}<extra></extra>\",\"legendgroup\":\"ETL Developer\",\"marker\":{\"color\":\"rgb(217,217,217)\",\"pattern\":{\"shape\":\"\"}},\"name\":\"ETL Developer\",\"offsetgroup\":\"ETL Developer\",\"orientation\":\"v\",\"showlegend\":true,\"textposition\":\"auto\",\"x\":[\"ETL Developer\"],\"xaxis\":\"x\",\"y\":[40],\"yaxis\":\"y\",\"type\":\"bar\"},{\"alignmentgroup\":\"True\",\"hovertemplate\":\"Job=%{x}<br>Count=%{y}<extra></extra>\",\"legendgroup\":\"Operations Manager\",\"marker\":{\"color\":\"rgb(188,128,189)\",\"pattern\":{\"shape\":\"\"}},\"name\":\"Operations Manager\",\"offsetgroup\":\"Operations Manager\",\"orientation\":\"v\",\"showlegend\":true,\"textposition\":\"auto\",\"x\":[\"Operations Manager\"],\"xaxis\":\"x\",\"y\":[40],\"yaxis\":\"y\",\"type\":\"bar\"},{\"alignmentgroup\":\"True\",\"hovertemplate\":\"Job=%{x}<br>Count=%{y}<extra></extra>\",\"legendgroup\":\"Data Science\",\"marker\":{\"color\":\"rgb(204,235,197)\",\"pattern\":{\"shape\":\"\"}},\"name\":\"Data Science\",\"offsetgroup\":\"Data Science\",\"orientation\":\"v\",\"showlegend\":true,\"textposition\":\"auto\",\"x\":[\"Data Science\"],\"xaxis\":\"x\",\"y\":[40],\"yaxis\":\"y\",\"type\":\"bar\"},{\"alignmentgroup\":\"True\",\"hovertemplate\":\"Job=%{x}<br>Count=%{y}<extra></extra>\",\"legendgroup\":\"Sales\",\"marker\":{\"color\":\"rgb(255,237,111)\",\"pattern\":{\"shape\":\"\"}},\"name\":\"Sales\",\"offsetgroup\":\"Sales\",\"orientation\":\"v\",\"showlegend\":true,\"textposition\":\"auto\",\"x\":[\"Sales\"],\"xaxis\":\"x\",\"y\":[40],\"yaxis\":\"y\",\"type\":\"bar\"},{\"alignmentgroup\":\"True\",\"hovertemplate\":\"Job=%{x}<br>Count=%{y}<extra></extra>\",\"legendgroup\":\"Mechanical Engineer\",\"marker\":{\"color\":\"rgb(141,211,199)\",\"pattern\":{\"shape\":\"\"}},\"name\":\"Mechanical Engineer\",\"offsetgroup\":\"Mechanical Engineer\",\"orientation\":\"v\",\"showlegend\":true,\"textposition\":\"auto\",\"x\":[\"Mechanical Engineer\"],\"xaxis\":\"x\",\"y\":[40],\"yaxis\":\"y\",\"type\":\"bar\"},{\"alignmentgroup\":\"True\",\"hovertemplate\":\"Job=%{x}<br>Count=%{y}<extra></extra>\",\"legendgroup\":\"Arts\",\"marker\":{\"color\":\"rgb(255,255,179)\",\"pattern\":{\"shape\":\"\"}},\"name\":\"Arts\",\"offsetgroup\":\"Arts\",\"orientation\":\"v\",\"showlegend\":true,\"textposition\":\"auto\",\"x\":[\"Arts\"],\"xaxis\":\"x\",\"y\":[36],\"yaxis\":\"y\",\"type\":\"bar\"},{\"alignmentgroup\":\"True\",\"hovertemplate\":\"Job=%{x}<br>Count=%{y}<extra></extra>\",\"legendgroup\":\"Database\",\"marker\":{\"color\":\"rgb(190,186,218)\",\"pattern\":{\"shape\":\"\"}},\"name\":\"Database\",\"offsetgroup\":\"Database\",\"orientation\":\"v\",\"showlegend\":true,\"textposition\":\"auto\",\"x\":[\"Database\"],\"xaxis\":\"x\",\"y\":[33],\"yaxis\":\"y\",\"type\":\"bar\"},{\"alignmentgroup\":\"True\",\"hovertemplate\":\"Job=%{x}<br>Count=%{y}<extra></extra>\",\"legendgroup\":\"Electrical Engineering\",\"marker\":{\"color\":\"rgb(251,128,114)\",\"pattern\":{\"shape\":\"\"}},\"name\":\"Electrical Engineering\",\"offsetgroup\":\"Electrical Engineering\",\"orientation\":\"v\",\"showlegend\":true,\"textposition\":\"auto\",\"x\":[\"Electrical Engineering\"],\"xaxis\":\"x\",\"y\":[30],\"yaxis\":\"y\",\"type\":\"bar\"},{\"alignmentgroup\":\"True\",\"hovertemplate\":\"Job=%{x}<br>Count=%{y}<extra></extra>\",\"legendgroup\":\"Health and fitness\",\"marker\":{\"color\":\"rgb(128,177,211)\",\"pattern\":{\"shape\":\"\"}},\"name\":\"Health and fitness\",\"offsetgroup\":\"Health and fitness\",\"orientation\":\"v\",\"showlegend\":true,\"textposition\":\"auto\",\"x\":[\"Health and fitness\"],\"xaxis\":\"x\",\"y\":[30],\"yaxis\":\"y\",\"type\":\"bar\"},{\"alignmentgroup\":\"True\",\"hovertemplate\":\"Job=%{x}<br>Count=%{y}<extra></extra>\",\"legendgroup\":\"PMO\",\"marker\":{\"color\":\"rgb(253,180,98)\",\"pattern\":{\"shape\":\"\"}},\"name\":\"PMO\",\"offsetgroup\":\"PMO\",\"orientation\":\"v\",\"showlegend\":true,\"textposition\":\"auto\",\"x\":[\"PMO\"],\"xaxis\":\"x\",\"y\":[30],\"yaxis\":\"y\",\"type\":\"bar\"},{\"alignmentgroup\":\"True\",\"hovertemplate\":\"Job=%{x}<br>Count=%{y}<extra></extra>\",\"legendgroup\":\"Business Analyst\",\"marker\":{\"color\":\"rgb(179,222,105)\",\"pattern\":{\"shape\":\"\"}},\"name\":\"Business Analyst\",\"offsetgroup\":\"Business Analyst\",\"orientation\":\"v\",\"showlegend\":true,\"textposition\":\"auto\",\"x\":[\"Business Analyst\"],\"xaxis\":\"x\",\"y\":[28],\"yaxis\":\"y\",\"type\":\"bar\"},{\"alignmentgroup\":\"True\",\"hovertemplate\":\"Job=%{x}<br>Count=%{y}<extra></extra>\",\"legendgroup\":\"DotNet Developer\",\"marker\":{\"color\":\"rgb(252,205,229)\",\"pattern\":{\"shape\":\"\"}},\"name\":\"DotNet Developer\",\"offsetgroup\":\"DotNet Developer\",\"orientation\":\"v\",\"showlegend\":true,\"textposition\":\"auto\",\"x\":[\"DotNet Developer\"],\"xaxis\":\"x\",\"y\":[28],\"yaxis\":\"y\",\"type\":\"bar\"},{\"alignmentgroup\":\"True\",\"hovertemplate\":\"Job=%{x}<br>Count=%{y}<extra></extra>\",\"legendgroup\":\"Automation Testing\",\"marker\":{\"color\":\"rgb(217,217,217)\",\"pattern\":{\"shape\":\"\"}},\"name\":\"Automation Testing\",\"offsetgroup\":\"Automation Testing\",\"orientation\":\"v\",\"showlegend\":true,\"textposition\":\"auto\",\"x\":[\"Automation Testing\"],\"xaxis\":\"x\",\"y\":[26],\"yaxis\":\"y\",\"type\":\"bar\"},{\"alignmentgroup\":\"True\",\"hovertemplate\":\"Job=%{x}<br>Count=%{y}<extra></extra>\",\"legendgroup\":\"Network Security Engineer\",\"marker\":{\"color\":\"rgb(188,128,189)\",\"pattern\":{\"shape\":\"\"}},\"name\":\"Network Security Engineer\",\"offsetgroup\":\"Network Security Engineer\",\"orientation\":\"v\",\"showlegend\":true,\"textposition\":\"auto\",\"x\":[\"Network Security Engineer\"],\"xaxis\":\"x\",\"y\":[25],\"yaxis\":\"y\",\"type\":\"bar\"},{\"alignmentgroup\":\"True\",\"hovertemplate\":\"Job=%{x}<br>Count=%{y}<extra></extra>\",\"legendgroup\":\"SAP Developer\",\"marker\":{\"color\":\"rgb(204,235,197)\",\"pattern\":{\"shape\":\"\"}},\"name\":\"SAP Developer\",\"offsetgroup\":\"SAP Developer\",\"orientation\":\"v\",\"showlegend\":true,\"textposition\":\"auto\",\"x\":[\"SAP Developer\"],\"xaxis\":\"x\",\"y\":[24],\"yaxis\":\"y\",\"type\":\"bar\"},{\"alignmentgroup\":\"True\",\"hovertemplate\":\"Job=%{x}<br>Count=%{y}<extra></extra>\",\"legendgroup\":\"Civil Engineer\",\"marker\":{\"color\":\"rgb(255,237,111)\",\"pattern\":{\"shape\":\"\"}},\"name\":\"Civil Engineer\",\"offsetgroup\":\"Civil Engineer\",\"orientation\":\"v\",\"showlegend\":true,\"textposition\":\"auto\",\"x\":[\"Civil Engineer\"],\"xaxis\":\"x\",\"y\":[24],\"yaxis\":\"y\",\"type\":\"bar\"},{\"alignmentgroup\":\"True\",\"hovertemplate\":\"Job=%{x}<br>Count=%{y}<extra></extra>\",\"legendgroup\":\"Advocate\",\"marker\":{\"color\":\"rgb(141,211,199)\",\"pattern\":{\"shape\":\"\"}},\"name\":\"Advocate\",\"offsetgroup\":\"Advocate\",\"orientation\":\"v\",\"showlegend\":true,\"textposition\":\"auto\",\"x\":[\"Advocate\"],\"xaxis\":\"x\",\"y\":[20],\"yaxis\":\"y\",\"type\":\"bar\"}],                        {\"template\":{\"data\":{\"histogram2dcontour\":[{\"type\":\"histogram2dcontour\",\"colorbar\":{\"outlinewidth\":0,\"ticks\":\"\"},\"colorscale\":[[0.0,\"#0d0887\"],[0.1111111111111111,\"#46039f\"],[0.2222222222222222,\"#7201a8\"],[0.3333333333333333,\"#9c179e\"],[0.4444444444444444,\"#bd3786\"],[0.5555555555555556,\"#d8576b\"],[0.6666666666666666,\"#ed7953\"],[0.7777777777777778,\"#fb9f3a\"],[0.8888888888888888,\"#fdca26\"],[1.0,\"#f0f921\"]]}],\"choropleth\":[{\"type\":\"choropleth\",\"colorbar\":{\"outlinewidth\":0,\"ticks\":\"\"}}],\"histogram2d\":[{\"type\":\"histogram2d\",\"colorbar\":{\"outlinewidth\":0,\"ticks\":\"\"},\"colorscale\":[[0.0,\"#0d0887\"],[0.1111111111111111,\"#46039f\"],[0.2222222222222222,\"#7201a8\"],[0.3333333333333333,\"#9c179e\"],[0.4444444444444444,\"#bd3786\"],[0.5555555555555556,\"#d8576b\"],[0.6666666666666666,\"#ed7953\"],[0.7777777777777778,\"#fb9f3a\"],[0.8888888888888888,\"#fdca26\"],[1.0,\"#f0f921\"]]}],\"heatmap\":[{\"type\":\"heatmap\",\"colorbar\":{\"outlinewidth\":0,\"ticks\":\"\"},\"colorscale\":[[0.0,\"#0d0887\"],[0.1111111111111111,\"#46039f\"],[0.2222222222222222,\"#7201a8\"],[0.3333333333333333,\"#9c179e\"],[0.4444444444444444,\"#bd3786\"],[0.5555555555555556,\"#d8576b\"],[0.6666666666666666,\"#ed7953\"],[0.7777777777777778,\"#fb9f3a\"],[0.8888888888888888,\"#fdca26\"],[1.0,\"#f0f921\"]]}],\"heatmapgl\":[{\"type\":\"heatmapgl\",\"colorbar\":{\"outlinewidth\":0,\"ticks\":\"\"},\"colorscale\":[[0.0,\"#0d0887\"],[0.1111111111111111,\"#46039f\"],[0.2222222222222222,\"#7201a8\"],[0.3333333333333333,\"#9c179e\"],[0.4444444444444444,\"#bd3786\"],[0.5555555555555556,\"#d8576b\"],[0.6666666666666666,\"#ed7953\"],[0.7777777777777778,\"#fb9f3a\"],[0.8888888888888888,\"#fdca26\"],[1.0,\"#f0f921\"]]}],\"contourcarpet\":[{\"type\":\"contourcarpet\",\"colorbar\":{\"outlinewidth\":0,\"ticks\":\"\"}}],\"contour\":[{\"type\":\"contour\",\"colorbar\":{\"outlinewidth\":0,\"ticks\":\"\"},\"colorscale\":[[0.0,\"#0d0887\"],[0.1111111111111111,\"#46039f\"],[0.2222222222222222,\"#7201a8\"],[0.3333333333333333,\"#9c179e\"],[0.4444444444444444,\"#bd3786\"],[0.5555555555555556,\"#d8576b\"],[0.6666666666666666,\"#ed7953\"],[0.7777777777777778,\"#fb9f3a\"],[0.8888888888888888,\"#fdca26\"],[1.0,\"#f0f921\"]]}],\"surface\":[{\"type\":\"surface\",\"colorbar\":{\"outlinewidth\":0,\"ticks\":\"\"},\"colorscale\":[[0.0,\"#0d0887\"],[0.1111111111111111,\"#46039f\"],[0.2222222222222222,\"#7201a8\"],[0.3333333333333333,\"#9c179e\"],[0.4444444444444444,\"#bd3786\"],[0.5555555555555556,\"#d8576b\"],[0.6666666666666666,\"#ed7953\"],[0.7777777777777778,\"#fb9f3a\"],[0.8888888888888888,\"#fdca26\"],[1.0,\"#f0f921\"]]}],\"mesh3d\":[{\"type\":\"mesh3d\",\"colorbar\":{\"outlinewidth\":0,\"ticks\":\"\"}}],\"scatter\":[{\"fillpattern\":{\"fillmode\":\"overlay\",\"size\":10,\"solidity\":0.2},\"type\":\"scatter\"}],\"parcoords\":[{\"type\":\"parcoords\",\"line\":{\"colorbar\":{\"outlinewidth\":0,\"ticks\":\"\"}}}],\"scatterpolargl\":[{\"type\":\"scatterpolargl\",\"marker\":{\"colorbar\":{\"outlinewidth\":0,\"ticks\":\"\"}}}],\"bar\":[{\"error_x\":{\"color\":\"#2a3f5f\"},\"error_y\":{\"color\":\"#2a3f5f\"},\"marker\":{\"line\":{\"color\":\"#E5ECF6\",\"width\":0.5},\"pattern\":{\"fillmode\":\"overlay\",\"size\":10,\"solidity\":0.2}},\"type\":\"bar\"}],\"scattergeo\":[{\"type\":\"scattergeo\",\"marker\":{\"colorbar\":{\"outlinewidth\":0,\"ticks\":\"\"}}}],\"scatterpolar\":[{\"type\":\"scatterpolar\",\"marker\":{\"colorbar\":{\"outlinewidth\":0,\"ticks\":\"\"}}}],\"histogram\":[{\"marker\":{\"pattern\":{\"fillmode\":\"overlay\",\"size\":10,\"solidity\":0.2}},\"type\":\"histogram\"}],\"scattergl\":[{\"type\":\"scattergl\",\"marker\":{\"colorbar\":{\"outlinewidth\":0,\"ticks\":\"\"}}}],\"scatter3d\":[{\"type\":\"scatter3d\",\"line\":{\"colorbar\":{\"outlinewidth\":0,\"ticks\":\"\"}},\"marker\":{\"colorbar\":{\"outlinewidth\":0,\"ticks\":\"\"}}}],\"scattermapbox\":[{\"type\":\"scattermapbox\",\"marker\":{\"colorbar\":{\"outlinewidth\":0,\"ticks\":\"\"}}}],\"scatterternary\":[{\"type\":\"scatterternary\",\"marker\":{\"colorbar\":{\"outlinewidth\":0,\"ticks\":\"\"}}}],\"scattercarpet\":[{\"type\":\"scattercarpet\",\"marker\":{\"colorbar\":{\"outlinewidth\":0,\"ticks\":\"\"}}}],\"carpet\":[{\"aaxis\":{\"endlinecolor\":\"#2a3f5f\",\"gridcolor\":\"white\",\"linecolor\":\"white\",\"minorgridcolor\":\"white\",\"startlinecolor\":\"#2a3f5f\"},\"baxis\":{\"endlinecolor\":\"#2a3f5f\",\"gridcolor\":\"white\",\"linecolor\":\"white\",\"minorgridcolor\":\"white\",\"startlinecolor\":\"#2a3f5f\"},\"type\":\"carpet\"}],\"table\":[{\"cells\":{\"fill\":{\"color\":\"#EBF0F8\"},\"line\":{\"color\":\"white\"}},\"header\":{\"fill\":{\"color\":\"#C8D4E3\"},\"line\":{\"color\":\"white\"}},\"type\":\"table\"}],\"barpolar\":[{\"marker\":{\"line\":{\"color\":\"#E5ECF6\",\"width\":0.5},\"pattern\":{\"fillmode\":\"overlay\",\"size\":10,\"solidity\":0.2}},\"type\":\"barpolar\"}],\"pie\":[{\"automargin\":true,\"type\":\"pie\"}]},\"layout\":{\"autotypenumbers\":\"strict\",\"colorway\":[\"#636efa\",\"#EF553B\",\"#00cc96\",\"#ab63fa\",\"#FFA15A\",\"#19d3f3\",\"#FF6692\",\"#B6E880\",\"#FF97FF\",\"#FECB52\"],\"font\":{\"color\":\"#2a3f5f\"},\"hovermode\":\"closest\",\"hoverlabel\":{\"align\":\"left\"},\"paper_bgcolor\":\"white\",\"plot_bgcolor\":\"#E5ECF6\",\"polar\":{\"bgcolor\":\"#E5ECF6\",\"angularaxis\":{\"gridcolor\":\"white\",\"linecolor\":\"white\",\"ticks\":\"\"},\"radialaxis\":{\"gridcolor\":\"white\",\"linecolor\":\"white\",\"ticks\":\"\"}},\"ternary\":{\"bgcolor\":\"#E5ECF6\",\"aaxis\":{\"gridcolor\":\"white\",\"linecolor\":\"white\",\"ticks\":\"\"},\"baxis\":{\"gridcolor\":\"white\",\"linecolor\":\"white\",\"ticks\":\"\"},\"caxis\":{\"gridcolor\":\"white\",\"linecolor\":\"white\",\"ticks\":\"\"}},\"coloraxis\":{\"colorbar\":{\"outlinewidth\":0,\"ticks\":\"\"}},\"colorscale\":{\"sequential\":[[0.0,\"#0d0887\"],[0.1111111111111111,\"#46039f\"],[0.2222222222222222,\"#7201a8\"],[0.3333333333333333,\"#9c179e\"],[0.4444444444444444,\"#bd3786\"],[0.5555555555555556,\"#d8576b\"],[0.6666666666666666,\"#ed7953\"],[0.7777777777777778,\"#fb9f3a\"],[0.8888888888888888,\"#fdca26\"],[1.0,\"#f0f921\"]],\"sequentialminus\":[[0.0,\"#0d0887\"],[0.1111111111111111,\"#46039f\"],[0.2222222222222222,\"#7201a8\"],[0.3333333333333333,\"#9c179e\"],[0.4444444444444444,\"#bd3786\"],[0.5555555555555556,\"#d8576b\"],[0.6666666666666666,\"#ed7953\"],[0.7777777777777778,\"#fb9f3a\"],[0.8888888888888888,\"#fdca26\"],[1.0,\"#f0f921\"]],\"diverging\":[[0,\"#8e0152\"],[0.1,\"#c51b7d\"],[0.2,\"#de77ae\"],[0.3,\"#f1b6da\"],[0.4,\"#fde0ef\"],[0.5,\"#f7f7f7\"],[0.6,\"#e6f5d0\"],[0.7,\"#b8e186\"],[0.8,\"#7fbc41\"],[0.9,\"#4d9221\"],[1,\"#276419\"]]},\"xaxis\":{\"gridcolor\":\"white\",\"linecolor\":\"white\",\"ticks\":\"\",\"title\":{\"standoff\":15},\"zerolinecolor\":\"white\",\"automargin\":true,\"zerolinewidth\":2},\"yaxis\":{\"gridcolor\":\"white\",\"linecolor\":\"white\",\"ticks\":\"\",\"title\":{\"standoff\":15},\"zerolinecolor\":\"white\",\"automargin\":true,\"zerolinewidth\":2},\"scene\":{\"xaxis\":{\"backgroundcolor\":\"#E5ECF6\",\"gridcolor\":\"white\",\"linecolor\":\"white\",\"showbackground\":true,\"ticks\":\"\",\"zerolinecolor\":\"white\",\"gridwidth\":2},\"yaxis\":{\"backgroundcolor\":\"#E5ECF6\",\"gridcolor\":\"white\",\"linecolor\":\"white\",\"showbackground\":true,\"ticks\":\"\",\"zerolinecolor\":\"white\",\"gridwidth\":2},\"zaxis\":{\"backgroundcolor\":\"#E5ECF6\",\"gridcolor\":\"white\",\"linecolor\":\"white\",\"showbackground\":true,\"ticks\":\"\",\"zerolinecolor\":\"white\",\"gridwidth\":2}},\"shapedefaults\":{\"line\":{\"color\":\"#2a3f5f\"}},\"annotationdefaults\":{\"arrowcolor\":\"#2a3f5f\",\"arrowhead\":0,\"arrowwidth\":1},\"geo\":{\"bgcolor\":\"white\",\"landcolor\":\"#E5ECF6\",\"subunitcolor\":\"white\",\"showland\":true,\"showlakes\":true,\"lakecolor\":\"white\"},\"title\":{\"x\":0.05},\"mapbox\":{\"style\":\"light\"}}},\"xaxis\":{\"anchor\":\"y\",\"domain\":[0.0,1.0],\"title\":{\"text\":\"Job Type\"},\"categoryorder\":\"array\",\"categoryarray\":[\"Java Developer\",\"Testing\",\"DevOps Engineer\",\"Python Developer\",\"Web Designing\",\"HR\",\"Hadoop\",\"Blockchain\",\"ETL Developer\",\"Operations Manager\",\"Data Science\",\"Sales\",\"Mechanical Engineer\",\"Arts\",\"Database\",\"Electrical Engineering\",\"Health and fitness\",\"PMO\",\"Business Analyst\",\"DotNet Developer\",\"Automation Testing\",\"Network Security Engineer\",\"SAP Developer\",\"Civil Engineer\",\"Advocate\"],\"tickangle\":-45},\"yaxis\":{\"anchor\":\"x\",\"domain\":[0.0,1.0],\"title\":{\"text\":\"Count\"}},\"legend\":{\"title\":{\"text\":\"Job Categories\"},\"tracegroupgap\":0},\"margin\":{\"t\":60},\"barmode\":\"relative\",\"font\":{\"family\":\"Arial\",\"size\":12},\"title\":{\"text\":\"Bar plot depicting count of a particular Job\"},\"showlegend\":true,\"plot_bgcolor\":\"white\"},                        {\"responsive\": true}                    ).then(function(){\n",
       "                            \n",
       "var gd = document.getElementById('6b44bfbe-ec05-413e-a6c6-719d519f3d8c');\n",
       "var x = new MutationObserver(function (mutations, observer) {{\n",
       "        var display = window.getComputedStyle(gd).display;\n",
       "        if (!display || display === 'none') {{\n",
       "            console.log([gd, 'removed!']);\n",
       "            Plotly.purge(gd);\n",
       "            observer.disconnect();\n",
       "        }}\n",
       "}});\n",
       "\n",
       "// Listen for the removal of the full notebook cells\n",
       "var notebookContainer = gd.closest('#notebook-container');\n",
       "if (notebookContainer) {{\n",
       "    x.observe(notebookContainer, {childList: true});\n",
       "}}\n",
       "\n",
       "// Listen for the clearing of the current output cell\n",
       "var outputEl = gd.closest('.output');\n",
       "if (outputEl) {{\n",
       "    x.observe(outputEl, {childList: true});\n",
       "}}\n",
       "\n",
       "                        })                };                });            </script>        </div>"
      ]
     },
     "metadata": {},
     "output_type": "display_data"
    }
   ],
   "source": [
    "# Creating the bar plot\n",
    "fig = px.bar(plot_data, x='Category', y='Count',\n",
    "             color='Category', \n",
    "             labels={'Category': 'Job', 'Count': 'Count'},\n",
    "             color_discrete_sequence=px.colors.qualitative.Set3)\n",
    "\n",
    "fig.update_layout(\n",
    "    title='Bar plot depicting count of a particular Job',\n",
    "    xaxis_title='Job Type',\n",
    "    yaxis_title='Count',\n",
    "    legend_title='Job Categories',\n",
    "    showlegend=True,\n",
    "    xaxis=dict(tickangle=-45),\n",
    "    font=dict(family='Arial', size=12),\n",
    "    plot_bgcolor='white'\n",
    ")\n",
    "\n",
    "fig.show()"
   ]
  },
  {
   "cell_type": "code",
   "execution_count": 122,
   "id": "86c1de57",
   "metadata": {},
   "outputs": [
    {
     "data": {
      "application/vnd.plotly.v1+json": {
       "config": {
        "plotlyServerURL": "https://plot.ly"
       },
       "data": [
        {
         "domain": {
          "x": [
           0,
           1
          ],
          "y": [
           0,
           1
          ]
         },
         "hole": 0.4,
         "hovertemplate": "Categories=%{label}<br>Count=%{value}<extra></extra>",
         "labels": [
          "Java Developer",
          "Testing",
          "DevOps Engineer",
          "Python Developer",
          "Web Designing",
          "HR",
          "Hadoop",
          "Blockchain",
          "ETL Developer",
          "Operations Manager",
          "Data Science",
          "Sales",
          "Mechanical Engineer",
          "Arts",
          "Database",
          "Electrical Engineering",
          "Health and fitness",
          "PMO",
          "Business Analyst",
          "DotNet Developer",
          "Automation Testing",
          "Network Security Engineer",
          "SAP Developer",
          "Civil Engineer",
          "Advocate"
         ],
         "legendgroup": "",
         "name": "",
         "opacity": 0.8,
         "showlegend": true,
         "type": "pie",
         "values": [
          84,
          70,
          55,
          48,
          45,
          44,
          42,
          40,
          40,
          40,
          40,
          40,
          40,
          36,
          33,
          30,
          30,
          30,
          28,
          28,
          26,
          25,
          24,
          24,
          20
         ]
        }
       ],
       "layout": {
        "font": {
         "color": "black",
         "family": "Arial",
         "size": 16
        },
        "legend": {
         "title": {
          "text": "Categories"
         },
         "tracegroupgap": 0
        },
        "margin": {
         "b": 50,
         "l": 50,
         "r": 50,
         "t": 50
        },
        "piecolorway": [
         "rgb(103,0,31)",
         "rgb(178,24,43)",
         "rgb(214,96,77)",
         "rgb(244,165,130)",
         "rgb(253,219,199)",
         "rgb(247,247,247)",
         "rgb(209,229,240)",
         "rgb(146,197,222)",
         "rgb(67,147,195)",
         "rgb(33,102,172)",
         "rgb(5,48,97)"
        ],
        "plot_bgcolor": "white",
        "template": {
         "data": {
          "bar": [
           {
            "error_x": {
             "color": "#2a3f5f"
            },
            "error_y": {
             "color": "#2a3f5f"
            },
            "marker": {
             "line": {
              "color": "#E5ECF6",
              "width": 0.5
             },
             "pattern": {
              "fillmode": "overlay",
              "size": 10,
              "solidity": 0.2
             }
            },
            "type": "bar"
           }
          ],
          "barpolar": [
           {
            "marker": {
             "line": {
              "color": "#E5ECF6",
              "width": 0.5
             },
             "pattern": {
              "fillmode": "overlay",
              "size": 10,
              "solidity": 0.2
             }
            },
            "type": "barpolar"
           }
          ],
          "carpet": [
           {
            "aaxis": {
             "endlinecolor": "#2a3f5f",
             "gridcolor": "white",
             "linecolor": "white",
             "minorgridcolor": "white",
             "startlinecolor": "#2a3f5f"
            },
            "baxis": {
             "endlinecolor": "#2a3f5f",
             "gridcolor": "white",
             "linecolor": "white",
             "minorgridcolor": "white",
             "startlinecolor": "#2a3f5f"
            },
            "type": "carpet"
           }
          ],
          "choropleth": [
           {
            "colorbar": {
             "outlinewidth": 0,
             "ticks": ""
            },
            "type": "choropleth"
           }
          ],
          "contour": [
           {
            "colorbar": {
             "outlinewidth": 0,
             "ticks": ""
            },
            "colorscale": [
             [
              0,
              "#0d0887"
             ],
             [
              0.1111111111111111,
              "#46039f"
             ],
             [
              0.2222222222222222,
              "#7201a8"
             ],
             [
              0.3333333333333333,
              "#9c179e"
             ],
             [
              0.4444444444444444,
              "#bd3786"
             ],
             [
              0.5555555555555556,
              "#d8576b"
             ],
             [
              0.6666666666666666,
              "#ed7953"
             ],
             [
              0.7777777777777778,
              "#fb9f3a"
             ],
             [
              0.8888888888888888,
              "#fdca26"
             ],
             [
              1,
              "#f0f921"
             ]
            ],
            "type": "contour"
           }
          ],
          "contourcarpet": [
           {
            "colorbar": {
             "outlinewidth": 0,
             "ticks": ""
            },
            "type": "contourcarpet"
           }
          ],
          "heatmap": [
           {
            "colorbar": {
             "outlinewidth": 0,
             "ticks": ""
            },
            "colorscale": [
             [
              0,
              "#0d0887"
             ],
             [
              0.1111111111111111,
              "#46039f"
             ],
             [
              0.2222222222222222,
              "#7201a8"
             ],
             [
              0.3333333333333333,
              "#9c179e"
             ],
             [
              0.4444444444444444,
              "#bd3786"
             ],
             [
              0.5555555555555556,
              "#d8576b"
             ],
             [
              0.6666666666666666,
              "#ed7953"
             ],
             [
              0.7777777777777778,
              "#fb9f3a"
             ],
             [
              0.8888888888888888,
              "#fdca26"
             ],
             [
              1,
              "#f0f921"
             ]
            ],
            "type": "heatmap"
           }
          ],
          "heatmapgl": [
           {
            "colorbar": {
             "outlinewidth": 0,
             "ticks": ""
            },
            "colorscale": [
             [
              0,
              "#0d0887"
             ],
             [
              0.1111111111111111,
              "#46039f"
             ],
             [
              0.2222222222222222,
              "#7201a8"
             ],
             [
              0.3333333333333333,
              "#9c179e"
             ],
             [
              0.4444444444444444,
              "#bd3786"
             ],
             [
              0.5555555555555556,
              "#d8576b"
             ],
             [
              0.6666666666666666,
              "#ed7953"
             ],
             [
              0.7777777777777778,
              "#fb9f3a"
             ],
             [
              0.8888888888888888,
              "#fdca26"
             ],
             [
              1,
              "#f0f921"
             ]
            ],
            "type": "heatmapgl"
           }
          ],
          "histogram": [
           {
            "marker": {
             "pattern": {
              "fillmode": "overlay",
              "size": 10,
              "solidity": 0.2
             }
            },
            "type": "histogram"
           }
          ],
          "histogram2d": [
           {
            "colorbar": {
             "outlinewidth": 0,
             "ticks": ""
            },
            "colorscale": [
             [
              0,
              "#0d0887"
             ],
             [
              0.1111111111111111,
              "#46039f"
             ],
             [
              0.2222222222222222,
              "#7201a8"
             ],
             [
              0.3333333333333333,
              "#9c179e"
             ],
             [
              0.4444444444444444,
              "#bd3786"
             ],
             [
              0.5555555555555556,
              "#d8576b"
             ],
             [
              0.6666666666666666,
              "#ed7953"
             ],
             [
              0.7777777777777778,
              "#fb9f3a"
             ],
             [
              0.8888888888888888,
              "#fdca26"
             ],
             [
              1,
              "#f0f921"
             ]
            ],
            "type": "histogram2d"
           }
          ],
          "histogram2dcontour": [
           {
            "colorbar": {
             "outlinewidth": 0,
             "ticks": ""
            },
            "colorscale": [
             [
              0,
              "#0d0887"
             ],
             [
              0.1111111111111111,
              "#46039f"
             ],
             [
              0.2222222222222222,
              "#7201a8"
             ],
             [
              0.3333333333333333,
              "#9c179e"
             ],
             [
              0.4444444444444444,
              "#bd3786"
             ],
             [
              0.5555555555555556,
              "#d8576b"
             ],
             [
              0.6666666666666666,
              "#ed7953"
             ],
             [
              0.7777777777777778,
              "#fb9f3a"
             ],
             [
              0.8888888888888888,
              "#fdca26"
             ],
             [
              1,
              "#f0f921"
             ]
            ],
            "type": "histogram2dcontour"
           }
          ],
          "mesh3d": [
           {
            "colorbar": {
             "outlinewidth": 0,
             "ticks": ""
            },
            "type": "mesh3d"
           }
          ],
          "parcoords": [
           {
            "line": {
             "colorbar": {
              "outlinewidth": 0,
              "ticks": ""
             }
            },
            "type": "parcoords"
           }
          ],
          "pie": [
           {
            "automargin": true,
            "type": "pie"
           }
          ],
          "scatter": [
           {
            "fillpattern": {
             "fillmode": "overlay",
             "size": 10,
             "solidity": 0.2
            },
            "type": "scatter"
           }
          ],
          "scatter3d": [
           {
            "line": {
             "colorbar": {
              "outlinewidth": 0,
              "ticks": ""
             }
            },
            "marker": {
             "colorbar": {
              "outlinewidth": 0,
              "ticks": ""
             }
            },
            "type": "scatter3d"
           }
          ],
          "scattercarpet": [
           {
            "marker": {
             "colorbar": {
              "outlinewidth": 0,
              "ticks": ""
             }
            },
            "type": "scattercarpet"
           }
          ],
          "scattergeo": [
           {
            "marker": {
             "colorbar": {
              "outlinewidth": 0,
              "ticks": ""
             }
            },
            "type": "scattergeo"
           }
          ],
          "scattergl": [
           {
            "marker": {
             "colorbar": {
              "outlinewidth": 0,
              "ticks": ""
             }
            },
            "type": "scattergl"
           }
          ],
          "scattermapbox": [
           {
            "marker": {
             "colorbar": {
              "outlinewidth": 0,
              "ticks": ""
             }
            },
            "type": "scattermapbox"
           }
          ],
          "scatterpolar": [
           {
            "marker": {
             "colorbar": {
              "outlinewidth": 0,
              "ticks": ""
             }
            },
            "type": "scatterpolar"
           }
          ],
          "scatterpolargl": [
           {
            "marker": {
             "colorbar": {
              "outlinewidth": 0,
              "ticks": ""
             }
            },
            "type": "scatterpolargl"
           }
          ],
          "scatterternary": [
           {
            "marker": {
             "colorbar": {
              "outlinewidth": 0,
              "ticks": ""
             }
            },
            "type": "scatterternary"
           }
          ],
          "surface": [
           {
            "colorbar": {
             "outlinewidth": 0,
             "ticks": ""
            },
            "colorscale": [
             [
              0,
              "#0d0887"
             ],
             [
              0.1111111111111111,
              "#46039f"
             ],
             [
              0.2222222222222222,
              "#7201a8"
             ],
             [
              0.3333333333333333,
              "#9c179e"
             ],
             [
              0.4444444444444444,
              "#bd3786"
             ],
             [
              0.5555555555555556,
              "#d8576b"
             ],
             [
              0.6666666666666666,
              "#ed7953"
             ],
             [
              0.7777777777777778,
              "#fb9f3a"
             ],
             [
              0.8888888888888888,
              "#fdca26"
             ],
             [
              1,
              "#f0f921"
             ]
            ],
            "type": "surface"
           }
          ],
          "table": [
           {
            "cells": {
             "fill": {
              "color": "#EBF0F8"
             },
             "line": {
              "color": "white"
             }
            },
            "header": {
             "fill": {
              "color": "#C8D4E3"
             },
             "line": {
              "color": "white"
             }
            },
            "type": "table"
           }
          ]
         },
         "layout": {
          "annotationdefaults": {
           "arrowcolor": "#2a3f5f",
           "arrowhead": 0,
           "arrowwidth": 1
          },
          "autotypenumbers": "strict",
          "coloraxis": {
           "colorbar": {
            "outlinewidth": 0,
            "ticks": ""
           }
          },
          "colorscale": {
           "diverging": [
            [
             0,
             "#8e0152"
            ],
            [
             0.1,
             "#c51b7d"
            ],
            [
             0.2,
             "#de77ae"
            ],
            [
             0.3,
             "#f1b6da"
            ],
            [
             0.4,
             "#fde0ef"
            ],
            [
             0.5,
             "#f7f7f7"
            ],
            [
             0.6,
             "#e6f5d0"
            ],
            [
             0.7,
             "#b8e186"
            ],
            [
             0.8,
             "#7fbc41"
            ],
            [
             0.9,
             "#4d9221"
            ],
            [
             1,
             "#276419"
            ]
           ],
           "sequential": [
            [
             0,
             "#0d0887"
            ],
            [
             0.1111111111111111,
             "#46039f"
            ],
            [
             0.2222222222222222,
             "#7201a8"
            ],
            [
             0.3333333333333333,
             "#9c179e"
            ],
            [
             0.4444444444444444,
             "#bd3786"
            ],
            [
             0.5555555555555556,
             "#d8576b"
            ],
            [
             0.6666666666666666,
             "#ed7953"
            ],
            [
             0.7777777777777778,
             "#fb9f3a"
            ],
            [
             0.8888888888888888,
             "#fdca26"
            ],
            [
             1,
             "#f0f921"
            ]
           ],
           "sequentialminus": [
            [
             0,
             "#0d0887"
            ],
            [
             0.1111111111111111,
             "#46039f"
            ],
            [
             0.2222222222222222,
             "#7201a8"
            ],
            [
             0.3333333333333333,
             "#9c179e"
            ],
            [
             0.4444444444444444,
             "#bd3786"
            ],
            [
             0.5555555555555556,
             "#d8576b"
            ],
            [
             0.6666666666666666,
             "#ed7953"
            ],
            [
             0.7777777777777778,
             "#fb9f3a"
            ],
            [
             0.8888888888888888,
             "#fdca26"
            ],
            [
             1,
             "#f0f921"
            ]
           ]
          },
          "colorway": [
           "#636efa",
           "#EF553B",
           "#00cc96",
           "#ab63fa",
           "#FFA15A",
           "#19d3f3",
           "#FF6692",
           "#B6E880",
           "#FF97FF",
           "#FECB52"
          ],
          "font": {
           "color": "#2a3f5f"
          },
          "geo": {
           "bgcolor": "white",
           "lakecolor": "white",
           "landcolor": "#E5ECF6",
           "showlakes": true,
           "showland": true,
           "subunitcolor": "white"
          },
          "hoverlabel": {
           "align": "left"
          },
          "hovermode": "closest",
          "mapbox": {
           "style": "light"
          },
          "paper_bgcolor": "white",
          "plot_bgcolor": "#E5ECF6",
          "polar": {
           "angularaxis": {
            "gridcolor": "white",
            "linecolor": "white",
            "ticks": ""
           },
           "bgcolor": "#E5ECF6",
           "radialaxis": {
            "gridcolor": "white",
            "linecolor": "white",
            "ticks": ""
           }
          },
          "scene": {
           "xaxis": {
            "backgroundcolor": "#E5ECF6",
            "gridcolor": "white",
            "gridwidth": 2,
            "linecolor": "white",
            "showbackground": true,
            "ticks": "",
            "zerolinecolor": "white"
           },
           "yaxis": {
            "backgroundcolor": "#E5ECF6",
            "gridcolor": "white",
            "gridwidth": 2,
            "linecolor": "white",
            "showbackground": true,
            "ticks": "",
            "zerolinecolor": "white"
           },
           "zaxis": {
            "backgroundcolor": "#E5ECF6",
            "gridcolor": "white",
            "gridwidth": 2,
            "linecolor": "white",
            "showbackground": true,
            "ticks": "",
            "zerolinecolor": "white"
           }
          },
          "shapedefaults": {
           "line": {
            "color": "#2a3f5f"
           }
          },
          "ternary": {
           "aaxis": {
            "gridcolor": "white",
            "linecolor": "white",
            "ticks": ""
           },
           "baxis": {
            "gridcolor": "white",
            "linecolor": "white",
            "ticks": ""
           },
           "bgcolor": "#E5ECF6",
           "caxis": {
            "gridcolor": "white",
            "linecolor": "white",
            "ticks": ""
           }
          },
          "title": {
           "x": 0.05
          },
          "xaxis": {
           "automargin": true,
           "gridcolor": "white",
           "linecolor": "white",
           "ticks": "",
           "title": {
            "standoff": 15
           },
           "zerolinecolor": "white",
           "zerolinewidth": 2
          },
          "yaxis": {
           "automargin": true,
           "gridcolor": "white",
           "linecolor": "white",
           "ticks": "",
           "title": {
            "standoff": 15
           },
           "zerolinecolor": "white",
           "zerolinewidth": 2
          }
         }
        },
        "title": {
         "text": "Pie plot depicting count of a particular Job"
        }
       }
      },
      "text/html": [
       "<div>                            <div id=\"c5c5ad6a-2e45-4937-bafc-daa706f165ad\" class=\"plotly-graph-div\" style=\"height:525px; width:100%;\"></div>            <script type=\"text/javascript\">                require([\"plotly\"], function(Plotly) {                    window.PLOTLYENV=window.PLOTLYENV || {};                                    if (document.getElementById(\"c5c5ad6a-2e45-4937-bafc-daa706f165ad\")) {                    Plotly.newPlot(                        \"c5c5ad6a-2e45-4937-bafc-daa706f165ad\",                        [{\"domain\":{\"x\":[0.0,1.0],\"y\":[0.0,1.0]},\"hole\":0.4,\"hovertemplate\":\"Categories=%{label}<br>Count=%{value}<extra></extra>\",\"labels\":[\"Java Developer\",\"Testing\",\"DevOps Engineer\",\"Python Developer\",\"Web Designing\",\"HR\",\"Hadoop\",\"Blockchain\",\"ETL Developer\",\"Operations Manager\",\"Data Science\",\"Sales\",\"Mechanical Engineer\",\"Arts\",\"Database\",\"Electrical Engineering\",\"Health and fitness\",\"PMO\",\"Business Analyst\",\"DotNet Developer\",\"Automation Testing\",\"Network Security Engineer\",\"SAP Developer\",\"Civil Engineer\",\"Advocate\"],\"legendgroup\":\"\",\"name\":\"\",\"opacity\":0.8,\"showlegend\":true,\"values\":[84,70,55,48,45,44,42,40,40,40,40,40,40,36,33,30,30,30,28,28,26,25,24,24,20],\"type\":\"pie\"}],                        {\"template\":{\"data\":{\"histogram2dcontour\":[{\"type\":\"histogram2dcontour\",\"colorbar\":{\"outlinewidth\":0,\"ticks\":\"\"},\"colorscale\":[[0.0,\"#0d0887\"],[0.1111111111111111,\"#46039f\"],[0.2222222222222222,\"#7201a8\"],[0.3333333333333333,\"#9c179e\"],[0.4444444444444444,\"#bd3786\"],[0.5555555555555556,\"#d8576b\"],[0.6666666666666666,\"#ed7953\"],[0.7777777777777778,\"#fb9f3a\"],[0.8888888888888888,\"#fdca26\"],[1.0,\"#f0f921\"]]}],\"choropleth\":[{\"type\":\"choropleth\",\"colorbar\":{\"outlinewidth\":0,\"ticks\":\"\"}}],\"histogram2d\":[{\"type\":\"histogram2d\",\"colorbar\":{\"outlinewidth\":0,\"ticks\":\"\"},\"colorscale\":[[0.0,\"#0d0887\"],[0.1111111111111111,\"#46039f\"],[0.2222222222222222,\"#7201a8\"],[0.3333333333333333,\"#9c179e\"],[0.4444444444444444,\"#bd3786\"],[0.5555555555555556,\"#d8576b\"],[0.6666666666666666,\"#ed7953\"],[0.7777777777777778,\"#fb9f3a\"],[0.8888888888888888,\"#fdca26\"],[1.0,\"#f0f921\"]]}],\"heatmap\":[{\"type\":\"heatmap\",\"colorbar\":{\"outlinewidth\":0,\"ticks\":\"\"},\"colorscale\":[[0.0,\"#0d0887\"],[0.1111111111111111,\"#46039f\"],[0.2222222222222222,\"#7201a8\"],[0.3333333333333333,\"#9c179e\"],[0.4444444444444444,\"#bd3786\"],[0.5555555555555556,\"#d8576b\"],[0.6666666666666666,\"#ed7953\"],[0.7777777777777778,\"#fb9f3a\"],[0.8888888888888888,\"#fdca26\"],[1.0,\"#f0f921\"]]}],\"heatmapgl\":[{\"type\":\"heatmapgl\",\"colorbar\":{\"outlinewidth\":0,\"ticks\":\"\"},\"colorscale\":[[0.0,\"#0d0887\"],[0.1111111111111111,\"#46039f\"],[0.2222222222222222,\"#7201a8\"],[0.3333333333333333,\"#9c179e\"],[0.4444444444444444,\"#bd3786\"],[0.5555555555555556,\"#d8576b\"],[0.6666666666666666,\"#ed7953\"],[0.7777777777777778,\"#fb9f3a\"],[0.8888888888888888,\"#fdca26\"],[1.0,\"#f0f921\"]]}],\"contourcarpet\":[{\"type\":\"contourcarpet\",\"colorbar\":{\"outlinewidth\":0,\"ticks\":\"\"}}],\"contour\":[{\"type\":\"contour\",\"colorbar\":{\"outlinewidth\":0,\"ticks\":\"\"},\"colorscale\":[[0.0,\"#0d0887\"],[0.1111111111111111,\"#46039f\"],[0.2222222222222222,\"#7201a8\"],[0.3333333333333333,\"#9c179e\"],[0.4444444444444444,\"#bd3786\"],[0.5555555555555556,\"#d8576b\"],[0.6666666666666666,\"#ed7953\"],[0.7777777777777778,\"#fb9f3a\"],[0.8888888888888888,\"#fdca26\"],[1.0,\"#f0f921\"]]}],\"surface\":[{\"type\":\"surface\",\"colorbar\":{\"outlinewidth\":0,\"ticks\":\"\"},\"colorscale\":[[0.0,\"#0d0887\"],[0.1111111111111111,\"#46039f\"],[0.2222222222222222,\"#7201a8\"],[0.3333333333333333,\"#9c179e\"],[0.4444444444444444,\"#bd3786\"],[0.5555555555555556,\"#d8576b\"],[0.6666666666666666,\"#ed7953\"],[0.7777777777777778,\"#fb9f3a\"],[0.8888888888888888,\"#fdca26\"],[1.0,\"#f0f921\"]]}],\"mesh3d\":[{\"type\":\"mesh3d\",\"colorbar\":{\"outlinewidth\":0,\"ticks\":\"\"}}],\"scatter\":[{\"fillpattern\":{\"fillmode\":\"overlay\",\"size\":10,\"solidity\":0.2},\"type\":\"scatter\"}],\"parcoords\":[{\"type\":\"parcoords\",\"line\":{\"colorbar\":{\"outlinewidth\":0,\"ticks\":\"\"}}}],\"scatterpolargl\":[{\"type\":\"scatterpolargl\",\"marker\":{\"colorbar\":{\"outlinewidth\":0,\"ticks\":\"\"}}}],\"bar\":[{\"error_x\":{\"color\":\"#2a3f5f\"},\"error_y\":{\"color\":\"#2a3f5f\"},\"marker\":{\"line\":{\"color\":\"#E5ECF6\",\"width\":0.5},\"pattern\":{\"fillmode\":\"overlay\",\"size\":10,\"solidity\":0.2}},\"type\":\"bar\"}],\"scattergeo\":[{\"type\":\"scattergeo\",\"marker\":{\"colorbar\":{\"outlinewidth\":0,\"ticks\":\"\"}}}],\"scatterpolar\":[{\"type\":\"scatterpolar\",\"marker\":{\"colorbar\":{\"outlinewidth\":0,\"ticks\":\"\"}}}],\"histogram\":[{\"marker\":{\"pattern\":{\"fillmode\":\"overlay\",\"size\":10,\"solidity\":0.2}},\"type\":\"histogram\"}],\"scattergl\":[{\"type\":\"scattergl\",\"marker\":{\"colorbar\":{\"outlinewidth\":0,\"ticks\":\"\"}}}],\"scatter3d\":[{\"type\":\"scatter3d\",\"line\":{\"colorbar\":{\"outlinewidth\":0,\"ticks\":\"\"}},\"marker\":{\"colorbar\":{\"outlinewidth\":0,\"ticks\":\"\"}}}],\"scattermapbox\":[{\"type\":\"scattermapbox\",\"marker\":{\"colorbar\":{\"outlinewidth\":0,\"ticks\":\"\"}}}],\"scatterternary\":[{\"type\":\"scatterternary\",\"marker\":{\"colorbar\":{\"outlinewidth\":0,\"ticks\":\"\"}}}],\"scattercarpet\":[{\"type\":\"scattercarpet\",\"marker\":{\"colorbar\":{\"outlinewidth\":0,\"ticks\":\"\"}}}],\"carpet\":[{\"aaxis\":{\"endlinecolor\":\"#2a3f5f\",\"gridcolor\":\"white\",\"linecolor\":\"white\",\"minorgridcolor\":\"white\",\"startlinecolor\":\"#2a3f5f\"},\"baxis\":{\"endlinecolor\":\"#2a3f5f\",\"gridcolor\":\"white\",\"linecolor\":\"white\",\"minorgridcolor\":\"white\",\"startlinecolor\":\"#2a3f5f\"},\"type\":\"carpet\"}],\"table\":[{\"cells\":{\"fill\":{\"color\":\"#EBF0F8\"},\"line\":{\"color\":\"white\"}},\"header\":{\"fill\":{\"color\":\"#C8D4E3\"},\"line\":{\"color\":\"white\"}},\"type\":\"table\"}],\"barpolar\":[{\"marker\":{\"line\":{\"color\":\"#E5ECF6\",\"width\":0.5},\"pattern\":{\"fillmode\":\"overlay\",\"size\":10,\"solidity\":0.2}},\"type\":\"barpolar\"}],\"pie\":[{\"automargin\":true,\"type\":\"pie\"}]},\"layout\":{\"autotypenumbers\":\"strict\",\"colorway\":[\"#636efa\",\"#EF553B\",\"#00cc96\",\"#ab63fa\",\"#FFA15A\",\"#19d3f3\",\"#FF6692\",\"#B6E880\",\"#FF97FF\",\"#FECB52\"],\"font\":{\"color\":\"#2a3f5f\"},\"hovermode\":\"closest\",\"hoverlabel\":{\"align\":\"left\"},\"paper_bgcolor\":\"white\",\"plot_bgcolor\":\"#E5ECF6\",\"polar\":{\"bgcolor\":\"#E5ECF6\",\"angularaxis\":{\"gridcolor\":\"white\",\"linecolor\":\"white\",\"ticks\":\"\"},\"radialaxis\":{\"gridcolor\":\"white\",\"linecolor\":\"white\",\"ticks\":\"\"}},\"ternary\":{\"bgcolor\":\"#E5ECF6\",\"aaxis\":{\"gridcolor\":\"white\",\"linecolor\":\"white\",\"ticks\":\"\"},\"baxis\":{\"gridcolor\":\"white\",\"linecolor\":\"white\",\"ticks\":\"\"},\"caxis\":{\"gridcolor\":\"white\",\"linecolor\":\"white\",\"ticks\":\"\"}},\"coloraxis\":{\"colorbar\":{\"outlinewidth\":0,\"ticks\":\"\"}},\"colorscale\":{\"sequential\":[[0.0,\"#0d0887\"],[0.1111111111111111,\"#46039f\"],[0.2222222222222222,\"#7201a8\"],[0.3333333333333333,\"#9c179e\"],[0.4444444444444444,\"#bd3786\"],[0.5555555555555556,\"#d8576b\"],[0.6666666666666666,\"#ed7953\"],[0.7777777777777778,\"#fb9f3a\"],[0.8888888888888888,\"#fdca26\"],[1.0,\"#f0f921\"]],\"sequentialminus\":[[0.0,\"#0d0887\"],[0.1111111111111111,\"#46039f\"],[0.2222222222222222,\"#7201a8\"],[0.3333333333333333,\"#9c179e\"],[0.4444444444444444,\"#bd3786\"],[0.5555555555555556,\"#d8576b\"],[0.6666666666666666,\"#ed7953\"],[0.7777777777777778,\"#fb9f3a\"],[0.8888888888888888,\"#fdca26\"],[1.0,\"#f0f921\"]],\"diverging\":[[0,\"#8e0152\"],[0.1,\"#c51b7d\"],[0.2,\"#de77ae\"],[0.3,\"#f1b6da\"],[0.4,\"#fde0ef\"],[0.5,\"#f7f7f7\"],[0.6,\"#e6f5d0\"],[0.7,\"#b8e186\"],[0.8,\"#7fbc41\"],[0.9,\"#4d9221\"],[1,\"#276419\"]]},\"xaxis\":{\"gridcolor\":\"white\",\"linecolor\":\"white\",\"ticks\":\"\",\"title\":{\"standoff\":15},\"zerolinecolor\":\"white\",\"automargin\":true,\"zerolinewidth\":2},\"yaxis\":{\"gridcolor\":\"white\",\"linecolor\":\"white\",\"ticks\":\"\",\"title\":{\"standoff\":15},\"zerolinecolor\":\"white\",\"automargin\":true,\"zerolinewidth\":2},\"scene\":{\"xaxis\":{\"backgroundcolor\":\"#E5ECF6\",\"gridcolor\":\"white\",\"linecolor\":\"white\",\"showbackground\":true,\"ticks\":\"\",\"zerolinecolor\":\"white\",\"gridwidth\":2},\"yaxis\":{\"backgroundcolor\":\"#E5ECF6\",\"gridcolor\":\"white\",\"linecolor\":\"white\",\"showbackground\":true,\"ticks\":\"\",\"zerolinecolor\":\"white\",\"gridwidth\":2},\"zaxis\":{\"backgroundcolor\":\"#E5ECF6\",\"gridcolor\":\"white\",\"linecolor\":\"white\",\"showbackground\":true,\"ticks\":\"\",\"zerolinecolor\":\"white\",\"gridwidth\":2}},\"shapedefaults\":{\"line\":{\"color\":\"#2a3f5f\"}},\"annotationdefaults\":{\"arrowcolor\":\"#2a3f5f\",\"arrowhead\":0,\"arrowwidth\":1},\"geo\":{\"bgcolor\":\"white\",\"landcolor\":\"#E5ECF6\",\"subunitcolor\":\"white\",\"showland\":true,\"showlakes\":true,\"lakecolor\":\"white\"},\"title\":{\"x\":0.05},\"mapbox\":{\"style\":\"light\"}}},\"legend\":{\"tracegroupgap\":0,\"title\":{\"text\":\"Categories\"}},\"title\":{\"text\":\"Pie plot depicting count of a particular Job\"},\"piecolorway\":[\"rgb(103,0,31)\",\"rgb(178,24,43)\",\"rgb(214,96,77)\",\"rgb(244,165,130)\",\"rgb(253,219,199)\",\"rgb(247,247,247)\",\"rgb(209,229,240)\",\"rgb(146,197,222)\",\"rgb(67,147,195)\",\"rgb(33,102,172)\",\"rgb(5,48,97)\"],\"font\":{\"family\":\"Arial\",\"size\":16,\"color\":\"black\"},\"margin\":{\"t\":50,\"b\":50,\"l\":50,\"r\":50},\"plot_bgcolor\":\"white\"},                        {\"responsive\": true}                    ).then(function(){\n",
       "                            \n",
       "var gd = document.getElementById('c5c5ad6a-2e45-4937-bafc-daa706f165ad');\n",
       "var x = new MutationObserver(function (mutations, observer) {{\n",
       "        var display = window.getComputedStyle(gd).display;\n",
       "        if (!display || display === 'none') {{\n",
       "            console.log([gd, 'removed!']);\n",
       "            Plotly.purge(gd);\n",
       "            observer.disconnect();\n",
       "        }}\n",
       "}});\n",
       "\n",
       "// Listen for the removal of the full notebook cells\n",
       "var notebookContainer = gd.closest('#notebook-container');\n",
       "if (notebookContainer) {{\n",
       "    x.observe(notebookContainer, {childList: true});\n",
       "}}\n",
       "\n",
       "// Listen for the clearing of the current output cell\n",
       "var outputEl = gd.closest('.output');\n",
       "if (outputEl) {{\n",
       "    x.observe(outputEl, {childList: true});\n",
       "}}\n",
       "\n",
       "                        })                };                });            </script>        </div>"
      ]
     },
     "metadata": {},
     "output_type": "display_data"
    }
   ],
   "source": [
    "# Creating the pie plot\n",
    "fig = px.pie(plot_data, values='Count', names='Category',\n",
    "             title='Pie plot depicting count of a particular Job',\n",
    "             color_discrete_sequence=px.colors.sequential.RdBu,\n",
    "             hole=0.4,\n",
    "             labels={'Category': 'Categories', 'Count': 'Count'},\n",
    "             opacity=0.8,\n",
    "             )\n",
    "\n",
    "# Customize the layout\n",
    "fig.update_layout(\n",
    "    legend_title='Categories',\n",
    "    font=dict(family='Arial', size=16, color='black'),\n",
    "    plot_bgcolor='white',\n",
    "    margin=dict(t=50, b=50, l=50, r=50)\n",
    ")\n",
    "\n",
    "fig.show()"
   ]
  },
  {
   "cell_type": "markdown",
   "id": "f87ffdf6",
   "metadata": {},
   "source": [
    "## Data Pre-processing"
   ]
  },
  {
   "cell_type": "code",
   "execution_count": 123,
   "id": "2aadedb5",
   "metadata": {},
   "outputs": [
    {
     "name": "stderr",
     "output_type": "stream",
     "text": [
      "[nltk_data] Downloading package stopwords to C:\\Users\\MD\n",
      "[nltk_data]     KAMALUDDIN\\AppData\\Roaming\\nltk_data...\n",
      "[nltk_data]   Package stopwords is already up-to-date!\n"
     ]
    }
   ],
   "source": [
    "# Preprocessing libraries\n",
    "import re\n",
    "from sklearn.preprocessing import LabelEncoder\n",
    "import nltk\n",
    "from nltk.corpus import stopwords\n",
    "nltk.download('stopwords')\n",
    "import string\n",
    "from sklearn.feature_extraction.text import TfidfVectorizer"
   ]
  },
  {
   "cell_type": "code",
   "execution_count": 124,
   "id": "c9f07908",
   "metadata": {},
   "outputs": [],
   "source": [
    "def preprocess_text(text_to_clean):\n",
    "    # Remove URLs\n",
    "    cleaned_text = re.sub('http\\S+\\s*', ' ', text_to_clean)\n",
    "    # Remove RT and cc\n",
    "    cleaned_text = re.sub('RT|cc', ' ', cleaned_text)\n",
    "    # Remove hashtags\n",
    "    cleaned_text = re.sub('#\\S+', '', cleaned_text)\n",
    "    # Remove mentions\n",
    "    cleaned_text = re.sub('@\\S+', ' ', cleaned_text)\n",
    "    # Remove punctuations\n",
    "    cleaned_text = re.sub('[%s]' % re.escape(\"\"\"!\"#$%&'()*+,-./:;<=>?@[\\]^_`{|}~\"\"\"), ' ', cleaned_text)\n",
    "    # Remove non-ASCII characters\n",
    "    cleaned_text = re.sub(r'[^\\x00-\\x7f]', r' ', cleaned_text)\n",
    "    # Replace multiple spaces with a single space\n",
    "    cleaned_text = re.sub('\\s+', ' ', cleaned_text)\n",
    "    # Remove leading and trailing whitespaces\n",
    "    cleaned_text = cleaned_text.strip()\n",
    "    \n",
    "    return cleaned_text"
   ]
  },
  {
   "cell_type": "code",
   "execution_count": 125,
   "id": "61d9940e",
   "metadata": {},
   "outputs": [
    {
     "data": {
      "text/html": [
       "<div>\n",
       "<style scoped>\n",
       "    .dataframe tbody tr th:only-of-type {\n",
       "        vertical-align: middle;\n",
       "    }\n",
       "\n",
       "    .dataframe tbody tr th {\n",
       "        vertical-align: top;\n",
       "    }\n",
       "\n",
       "    .dataframe thead th {\n",
       "        text-align: right;\n",
       "    }\n",
       "</style>\n",
       "<table border=\"1\" class=\"dataframe\">\n",
       "  <thead>\n",
       "    <tr style=\"text-align: right;\">\n",
       "      <th></th>\n",
       "      <th>Category</th>\n",
       "      <th>Resume</th>\n",
       "      <th>cleaned_text</th>\n",
       "    </tr>\n",
       "  </thead>\n",
       "  <tbody>\n",
       "    <tr>\n",
       "      <th>0</th>\n",
       "      <td>Data Science</td>\n",
       "      <td>Skills * Programming Languages: Python (pandas...</td>\n",
       "      <td>Skills Programming Languages Python pandas num...</td>\n",
       "    </tr>\n",
       "    <tr>\n",
       "      <th>1</th>\n",
       "      <td>Data Science</td>\n",
       "      <td>Education Details \\r\\nMay 2013 to May 2017 B.E...</td>\n",
       "      <td>Education Details May 2013 to May 2017 B E UIT...</td>\n",
       "    </tr>\n",
       "    <tr>\n",
       "      <th>2</th>\n",
       "      <td>Data Science</td>\n",
       "      <td>Areas of Interest Deep Learning, Control Syste...</td>\n",
       "      <td>Areas of Interest Deep Learning Control System...</td>\n",
       "    </tr>\n",
       "    <tr>\n",
       "      <th>3</th>\n",
       "      <td>Data Science</td>\n",
       "      <td>Skills â¢ R â¢ Python â¢ SAP HANA â¢ Table...</td>\n",
       "      <td>Skills R Python SAP HANA Tableau SAP HANA SQL ...</td>\n",
       "    </tr>\n",
       "    <tr>\n",
       "      <th>4</th>\n",
       "      <td>Data Science</td>\n",
       "      <td>Education Details \\r\\n MCA   YMCAUST,  Faridab...</td>\n",
       "      <td>Education Details MCA YMCAUST Faridabad Haryan...</td>\n",
       "    </tr>\n",
       "  </tbody>\n",
       "</table>\n",
       "</div>"
      ],
      "text/plain": [
       "       Category                                             Resume  \\\n",
       "0  Data Science  Skills * Programming Languages: Python (pandas...   \n",
       "1  Data Science  Education Details \\r\\nMay 2013 to May 2017 B.E...   \n",
       "2  Data Science  Areas of Interest Deep Learning, Control Syste...   \n",
       "3  Data Science  Skills â¢ R â¢ Python â¢ SAP HANA â¢ Table...   \n",
       "4  Data Science  Education Details \\r\\n MCA   YMCAUST,  Faridab...   \n",
       "\n",
       "                                        cleaned_text  \n",
       "0  Skills Programming Languages Python pandas num...  \n",
       "1  Education Details May 2013 to May 2017 B E UIT...  \n",
       "2  Areas of Interest Deep Learning Control System...  \n",
       "3  Skills R Python SAP HANA Tableau SAP HANA SQL ...  \n",
       "4  Education Details MCA YMCAUST Faridabad Haryan...  "
      ]
     },
     "execution_count": 125,
     "metadata": {},
     "output_type": "execute_result"
    }
   ],
   "source": [
    "df['cleaned_text'] = df['Resume'].apply(lambda x:preprocess_text(x))\n",
    "df.head()"
   ]
  },
  {
   "cell_type": "code",
   "execution_count": 126,
   "id": "57ce6883",
   "metadata": {},
   "outputs": [
    {
     "data": {
      "application/vnd.plotly.v1+json": {
       "config": {
        "plotlyServerURL": "https://plot.ly"
       },
       "data": [
        {
         "hovertemplate": "x: %{x}<br>y: %{y}<br>color: [%{z[0]}, %{z[1]}, %{z[2]}]<extra></extra>",
         "name": "0",
         "source": "data:image/png;base64,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",
         "type": "image",
         "xaxis": "x",
         "yaxis": "y"
        }
       ],
       "layout": {
        "margin": {
         "t": 60
        },
        "plot_bgcolor": "white",
        "template": {
         "data": {
          "bar": [
           {
            "error_x": {
             "color": "#2a3f5f"
            },
            "error_y": {
             "color": "#2a3f5f"
            },
            "marker": {
             "line": {
              "color": "#E5ECF6",
              "width": 0.5
             },
             "pattern": {
              "fillmode": "overlay",
              "size": 10,
              "solidity": 0.2
             }
            },
            "type": "bar"
           }
          ],
          "barpolar": [
           {
            "marker": {
             "line": {
              "color": "#E5ECF6",
              "width": 0.5
             },
             "pattern": {
              "fillmode": "overlay",
              "size": 10,
              "solidity": 0.2
             }
            },
            "type": "barpolar"
           }
          ],
          "carpet": [
           {
            "aaxis": {
             "endlinecolor": "#2a3f5f",
             "gridcolor": "white",
             "linecolor": "white",
             "minorgridcolor": "white",
             "startlinecolor": "#2a3f5f"
            },
            "baxis": {
             "endlinecolor": "#2a3f5f",
             "gridcolor": "white",
             "linecolor": "white",
             "minorgridcolor": "white",
             "startlinecolor": "#2a3f5f"
            },
            "type": "carpet"
           }
          ],
          "choropleth": [
           {
            "colorbar": {
             "outlinewidth": 0,
             "ticks": ""
            },
            "type": "choropleth"
           }
          ],
          "contour": [
           {
            "colorbar": {
             "outlinewidth": 0,
             "ticks": ""
            },
            "colorscale": [
             [
              0,
              "#0d0887"
             ],
             [
              0.1111111111111111,
              "#46039f"
             ],
             [
              0.2222222222222222,
              "#7201a8"
             ],
             [
              0.3333333333333333,
              "#9c179e"
             ],
             [
              0.4444444444444444,
              "#bd3786"
             ],
             [
              0.5555555555555556,
              "#d8576b"
             ],
             [
              0.6666666666666666,
              "#ed7953"
             ],
             [
              0.7777777777777778,
              "#fb9f3a"
             ],
             [
              0.8888888888888888,
              "#fdca26"
             ],
             [
              1,
              "#f0f921"
             ]
            ],
            "type": "contour"
           }
          ],
          "contourcarpet": [
           {
            "colorbar": {
             "outlinewidth": 0,
             "ticks": ""
            },
            "type": "contourcarpet"
           }
          ],
          "heatmap": [
           {
            "colorbar": {
             "outlinewidth": 0,
             "ticks": ""
            },
            "colorscale": [
             [
              0,
              "#0d0887"
             ],
             [
              0.1111111111111111,
              "#46039f"
             ],
             [
              0.2222222222222222,
              "#7201a8"
             ],
             [
              0.3333333333333333,
              "#9c179e"
             ],
             [
              0.4444444444444444,
              "#bd3786"
             ],
             [
              0.5555555555555556,
              "#d8576b"
             ],
             [
              0.6666666666666666,
              "#ed7953"
             ],
             [
              0.7777777777777778,
              "#fb9f3a"
             ],
             [
              0.8888888888888888,
              "#fdca26"
             ],
             [
              1,
              "#f0f921"
             ]
            ],
            "type": "heatmap"
           }
          ],
          "heatmapgl": [
           {
            "colorbar": {
             "outlinewidth": 0,
             "ticks": ""
            },
            "colorscale": [
             [
              0,
              "#0d0887"
             ],
             [
              0.1111111111111111,
              "#46039f"
             ],
             [
              0.2222222222222222,
              "#7201a8"
             ],
             [
              0.3333333333333333,
              "#9c179e"
             ],
             [
              0.4444444444444444,
              "#bd3786"
             ],
             [
              0.5555555555555556,
              "#d8576b"
             ],
             [
              0.6666666666666666,
              "#ed7953"
             ],
             [
              0.7777777777777778,
              "#fb9f3a"
             ],
             [
              0.8888888888888888,
              "#fdca26"
             ],
             [
              1,
              "#f0f921"
             ]
            ],
            "type": "heatmapgl"
           }
          ],
          "histogram": [
           {
            "marker": {
             "pattern": {
              "fillmode": "overlay",
              "size": 10,
              "solidity": 0.2
             }
            },
            "type": "histogram"
           }
          ],
          "histogram2d": [
           {
            "colorbar": {
             "outlinewidth": 0,
             "ticks": ""
            },
            "colorscale": [
             [
              0,
              "#0d0887"
             ],
             [
              0.1111111111111111,
              "#46039f"
             ],
             [
              0.2222222222222222,
              "#7201a8"
             ],
             [
              0.3333333333333333,
              "#9c179e"
             ],
             [
              0.4444444444444444,
              "#bd3786"
             ],
             [
              0.5555555555555556,
              "#d8576b"
             ],
             [
              0.6666666666666666,
              "#ed7953"
             ],
             [
              0.7777777777777778,
              "#fb9f3a"
             ],
             [
              0.8888888888888888,
              "#fdca26"
             ],
             [
              1,
              "#f0f921"
             ]
            ],
            "type": "histogram2d"
           }
          ],
          "histogram2dcontour": [
           {
            "colorbar": {
             "outlinewidth": 0,
             "ticks": ""
            },
            "colorscale": [
             [
              0,
              "#0d0887"
             ],
             [
              0.1111111111111111,
              "#46039f"
             ],
             [
              0.2222222222222222,
              "#7201a8"
             ],
             [
              0.3333333333333333,
              "#9c179e"
             ],
             [
              0.4444444444444444,
              "#bd3786"
             ],
             [
              0.5555555555555556,
              "#d8576b"
             ],
             [
              0.6666666666666666,
              "#ed7953"
             ],
             [
              0.7777777777777778,
              "#fb9f3a"
             ],
             [
              0.8888888888888888,
              "#fdca26"
             ],
             [
              1,
              "#f0f921"
             ]
            ],
            "type": "histogram2dcontour"
           }
          ],
          "mesh3d": [
           {
            "colorbar": {
             "outlinewidth": 0,
             "ticks": ""
            },
            "type": "mesh3d"
           }
          ],
          "parcoords": [
           {
            "line": {
             "colorbar": {
              "outlinewidth": 0,
              "ticks": ""
             }
            },
            "type": "parcoords"
           }
          ],
          "pie": [
           {
            "automargin": true,
            "type": "pie"
           }
          ],
          "scatter": [
           {
            "fillpattern": {
             "fillmode": "overlay",
             "size": 10,
             "solidity": 0.2
            },
            "type": "scatter"
           }
          ],
          "scatter3d": [
           {
            "line": {
             "colorbar": {
              "outlinewidth": 0,
              "ticks": ""
             }
            },
            "marker": {
             "colorbar": {
              "outlinewidth": 0,
              "ticks": ""
             }
            },
            "type": "scatter3d"
           }
          ],
          "scattercarpet": [
           {
            "marker": {
             "colorbar": {
              "outlinewidth": 0,
              "ticks": ""
             }
            },
            "type": "scattercarpet"
           }
          ],
          "scattergeo": [
           {
            "marker": {
             "colorbar": {
              "outlinewidth": 0,
              "ticks": ""
             }
            },
            "type": "scattergeo"
           }
          ],
          "scattergl": [
           {
            "marker": {
             "colorbar": {
              "outlinewidth": 0,
              "ticks": ""
             }
            },
            "type": "scattergl"
           }
          ],
          "scattermapbox": [
           {
            "marker": {
             "colorbar": {
              "outlinewidth": 0,
              "ticks": ""
             }
            },
            "type": "scattermapbox"
           }
          ],
          "scatterpolar": [
           {
            "marker": {
             "colorbar": {
              "outlinewidth": 0,
              "ticks": ""
             }
            },
            "type": "scatterpolar"
           }
          ],
          "scatterpolargl": [
           {
            "marker": {
             "colorbar": {
              "outlinewidth": 0,
              "ticks": ""
             }
            },
            "type": "scatterpolargl"
           }
          ],
          "scatterternary": [
           {
            "marker": {
             "colorbar": {
              "outlinewidth": 0,
              "ticks": ""
             }
            },
            "type": "scatterternary"
           }
          ],
          "surface": [
           {
            "colorbar": {
             "outlinewidth": 0,
             "ticks": ""
            },
            "colorscale": [
             [
              0,
              "#0d0887"
             ],
             [
              0.1111111111111111,
              "#46039f"
             ],
             [
              0.2222222222222222,
              "#7201a8"
             ],
             [
              0.3333333333333333,
              "#9c179e"
             ],
             [
              0.4444444444444444,
              "#bd3786"
             ],
             [
              0.5555555555555556,
              "#d8576b"
             ],
             [
              0.6666666666666666,
              "#ed7953"
             ],
             [
              0.7777777777777778,
              "#fb9f3a"
             ],
             [
              0.8888888888888888,
              "#fdca26"
             ],
             [
              1,
              "#f0f921"
             ]
            ],
            "type": "surface"
           }
          ],
          "table": [
           {
            "cells": {
             "fill": {
              "color": "#EBF0F8"
             },
             "line": {
              "color": "white"
             }
            },
            "header": {
             "fill": {
              "color": "#C8D4E3"
             },
             "line": {
              "color": "white"
             }
            },
            "type": "table"
           }
          ]
         },
         "layout": {
          "annotationdefaults": {
           "arrowcolor": "#2a3f5f",
           "arrowhead": 0,
           "arrowwidth": 1
          },
          "autotypenumbers": "strict",
          "coloraxis": {
           "colorbar": {
            "outlinewidth": 0,
            "ticks": ""
           }
          },
          "colorscale": {
           "diverging": [
            [
             0,
             "#8e0152"
            ],
            [
             0.1,
             "#c51b7d"
            ],
            [
             0.2,
             "#de77ae"
            ],
            [
             0.3,
             "#f1b6da"
            ],
            [
             0.4,
             "#fde0ef"
            ],
            [
             0.5,
             "#f7f7f7"
            ],
            [
             0.6,
             "#e6f5d0"
            ],
            [
             0.7,
             "#b8e186"
            ],
            [
             0.8,
             "#7fbc41"
            ],
            [
             0.9,
             "#4d9221"
            ],
            [
             1,
             "#276419"
            ]
           ],
           "sequential": [
            [
             0,
             "#0d0887"
            ],
            [
             0.1111111111111111,
             "#46039f"
            ],
            [
             0.2222222222222222,
             "#7201a8"
            ],
            [
             0.3333333333333333,
             "#9c179e"
            ],
            [
             0.4444444444444444,
             "#bd3786"
            ],
            [
             0.5555555555555556,
             "#d8576b"
            ],
            [
             0.6666666666666666,
             "#ed7953"
            ],
            [
             0.7777777777777778,
             "#fb9f3a"
            ],
            [
             0.8888888888888888,
             "#fdca26"
            ],
            [
             1,
             "#f0f921"
            ]
           ],
           "sequentialminus": [
            [
             0,
             "#0d0887"
            ],
            [
             0.1111111111111111,
             "#46039f"
            ],
            [
             0.2222222222222222,
             "#7201a8"
            ],
            [
             0.3333333333333333,
             "#9c179e"
            ],
            [
             0.4444444444444444,
             "#bd3786"
            ],
            [
             0.5555555555555556,
             "#d8576b"
            ],
            [
             0.6666666666666666,
             "#ed7953"
            ],
            [
             0.7777777777777778,
             "#fb9f3a"
            ],
            [
             0.8888888888888888,
             "#fdca26"
            ],
            [
             1,
             "#f0f921"
            ]
           ]
          },
          "colorway": [
           "#636efa",
           "#EF553B",
           "#00cc96",
           "#ab63fa",
           "#FFA15A",
           "#19d3f3",
           "#FF6692",
           "#B6E880",
           "#FF97FF",
           "#FECB52"
          ],
          "font": {
           "color": "#2a3f5f"
          },
          "geo": {
           "bgcolor": "white",
           "lakecolor": "white",
           "landcolor": "#E5ECF6",
           "showlakes": true,
           "showland": true,
           "subunitcolor": "white"
          },
          "hoverlabel": {
           "align": "left"
          },
          "hovermode": "closest",
          "mapbox": {
           "style": "light"
          },
          "paper_bgcolor": "white",
          "plot_bgcolor": "#E5ECF6",
          "polar": {
           "angularaxis": {
            "gridcolor": "white",
            "linecolor": "white",
            "ticks": ""
           },
           "bgcolor": "#E5ECF6",
           "radialaxis": {
            "gridcolor": "white",
            "linecolor": "white",
            "ticks": ""
           }
          },
          "scene": {
           "xaxis": {
            "backgroundcolor": "#E5ECF6",
            "gridcolor": "white",
            "gridwidth": 2,
            "linecolor": "white",
            "showbackground": true,
            "ticks": "",
            "zerolinecolor": "white"
           },
           "yaxis": {
            "backgroundcolor": "#E5ECF6",
            "gridcolor": "white",
            "gridwidth": 2,
            "linecolor": "white",
            "showbackground": true,
            "ticks": "",
            "zerolinecolor": "white"
           },
           "zaxis": {
            "backgroundcolor": "#E5ECF6",
            "gridcolor": "white",
            "gridwidth": 2,
            "linecolor": "white",
            "showbackground": true,
            "ticks": "",
            "zerolinecolor": "white"
           }
          },
          "shapedefaults": {
           "line": {
            "color": "#2a3f5f"
           }
          },
          "ternary": {
           "aaxis": {
            "gridcolor": "white",
            "linecolor": "white",
            "ticks": ""
           },
           "baxis": {
            "gridcolor": "white",
            "linecolor": "white",
            "ticks": ""
           },
           "bgcolor": "#E5ECF6",
           "caxis": {
            "gridcolor": "white",
            "linecolor": "white",
            "ticks": ""
           }
          },
          "title": {
           "x": 0.05
          },
          "xaxis": {
           "automargin": true,
           "gridcolor": "white",
           "linecolor": "white",
           "ticks": "",
           "title": {
            "standoff": 15
           },
           "zerolinecolor": "white",
           "zerolinewidth": 2
          },
          "yaxis": {
           "automargin": true,
           "gridcolor": "white",
           "linecolor": "white",
           "ticks": "",
           "title": {
            "standoff": 15
           },
           "zerolinecolor": "white",
           "zerolinewidth": 2
          }
         }
        },
        "title": {
         "text": "Word Cloud of Cleaned Text"
        },
        "xaxis": {
         "anchor": "y",
         "domain": [
          0,
          1
         ],
         "showticklabels": false
        },
        "yaxis": {
         "anchor": "x",
         "domain": [
          0,
          1
         ],
         "showticklabels": false
        }
       }
      },
      "text/html": [
       "<div>                            <div id=\"84c3e34e-40f1-403f-8c58-e37574e4d4e5\" class=\"plotly-graph-div\" style=\"height:525px; width:100%;\"></div>            <script type=\"text/javascript\">                require([\"plotly\"], function(Plotly) {                    window.PLOTLYENV=window.PLOTLYENV || {};                                    if (document.getElementById(\"84c3e34e-40f1-403f-8c58-e37574e4d4e5\")) {                    Plotly.newPlot(                        \"84c3e34e-40f1-403f-8c58-e37574e4d4e5\",                        [{\"name\":\"0\",\"source\":\"data:image/png;base64,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\",\"type\":\"image\",\"xaxis\":\"x\",\"yaxis\":\"y\",\"hovertemplate\":\"x: %{x}<br>y: %{y}<br>color: [%{z[0]}, %{z[1]}, %{z[2]}]<extra></extra>\"}],                        {\"template\":{\"data\":{\"histogram2dcontour\":[{\"type\":\"histogram2dcontour\",\"colorbar\":{\"outlinewidth\":0,\"ticks\":\"\"},\"colorscale\":[[0.0,\"#0d0887\"],[0.1111111111111111,\"#46039f\"],[0.2222222222222222,\"#7201a8\"],[0.3333333333333333,\"#9c179e\"],[0.4444444444444444,\"#bd3786\"],[0.5555555555555556,\"#d8576b\"],[0.6666666666666666,\"#ed7953\"],[0.7777777777777778,\"#fb9f3a\"],[0.8888888888888888,\"#fdca26\"],[1.0,\"#f0f921\"]]}],\"choropleth\":[{\"type\":\"choropleth\",\"colorbar\":{\"outlinewidth\":0,\"ticks\":\"\"}}],\"histogram2d\":[{\"type\":\"histogram2d\",\"colorbar\":{\"outlinewidth\":0,\"ticks\":\"\"},\"colorscale\":[[0.0,\"#0d0887\"],[0.1111111111111111,\"#46039f\"],[0.2222222222222222,\"#7201a8\"],[0.3333333333333333,\"#9c179e\"],[0.4444444444444444,\"#bd3786\"],[0.5555555555555556,\"#d8576b\"],[0.6666666666666666,\"#ed7953\"],[0.7777777777777778,\"#fb9f3a\"],[0.8888888888888888,\"#fdca26\"],[1.0,\"#f0f921\"]]}],\"heatmap\":[{\"type\":\"heatmap\",\"colorbar\":{\"outlinewidth\":0,\"ticks\":\"\"},\"colorscale\":[[0.0,\"#0d0887\"],[0.1111111111111111,\"#46039f\"],[0.2222222222222222,\"#7201a8\"],[0.3333333333333333,\"#9c179e\"],[0.4444444444444444,\"#bd3786\"],[0.5555555555555556,\"#d8576b\"],[0.6666666666666666,\"#ed7953\"],[0.7777777777777778,\"#fb9f3a\"],[0.8888888888888888,\"#fdca26\"],[1.0,\"#f0f921\"]]}],\"heatmapgl\":[{\"type\":\"heatmapgl\",\"colorbar\":{\"outlinewidth\":0,\"ticks\":\"\"},\"colorscale\":[[0.0,\"#0d0887\"],[0.1111111111111111,\"#46039f\"],[0.2222222222222222,\"#7201a8\"],[0.3333333333333333,\"#9c179e\"],[0.4444444444444444,\"#bd3786\"],[0.5555555555555556,\"#d8576b\"],[0.6666666666666666,\"#ed7953\"],[0.7777777777777778,\"#fb9f3a\"],[0.8888888888888888,\"#fdca26\"],[1.0,\"#f0f921\"]]}],\"contourcarpet\":[{\"type\":\"contourcarpet\",\"colorbar\":{\"outlinewidth\":0,\"ticks\":\"\"}}],\"contour\":[{\"type\":\"contour\",\"colorbar\":{\"outlinewidth\":0,\"ticks\":\"\"},\"colorscale\":[[0.0,\"#0d0887\"],[0.1111111111111111,\"#46039f\"],[0.2222222222222222,\"#7201a8\"],[0.3333333333333333,\"#9c179e\"],[0.4444444444444444,\"#bd3786\"],[0.5555555555555556,\"#d8576b\"],[0.6666666666666666,\"#ed7953\"],[0.7777777777777778,\"#fb9f3a\"],[0.8888888888888888,\"#fdca26\"],[1.0,\"#f0f921\"]]}],\"surface\":[{\"type\":\"surface\",\"colorbar\":{\"outlinewidth\":0,\"ticks\":\"\"},\"colorscale\":[[0.0,\"#0d0887\"],[0.1111111111111111,\"#46039f\"],[0.2222222222222222,\"#7201a8\"],[0.3333333333333333,\"#9c179e\"],[0.4444444444444444,\"#bd3786\"],[0.5555555555555556,\"#d8576b\"],[0.6666666666666666,\"#ed7953\"],[0.7777777777777778,\"#fb9f3a\"],[0.8888888888888888,\"#fdca26\"],[1.0,\"#f0f921\"]]}],\"mesh3d\":[{\"type\":\"mesh3d\",\"colorbar\":{\"outlinewidth\":0,\"ticks\":\"\"}}],\"scatter\":[{\"fillpattern\":{\"fillmode\":\"overlay\",\"size\":10,\"solidity\":0.2},\"type\":\"scatter\"}],\"parcoords\":[{\"type\":\"parcoords\",\"line\":{\"colorbar\":{\"outlinewidth\":0,\"ticks\":\"\"}}}],\"scatterpolargl\":[{\"type\":\"scatterpolargl\",\"marker\":{\"colorbar\":{\"outlinewidth\":0,\"ticks\":\"\"}}}],\"bar\":[{\"error_x\":{\"color\":\"#2a3f5f\"},\"error_y\":{\"color\":\"#2a3f5f\"},\"marker\":{\"line\":{\"color\":\"#E5ECF6\",\"width\":0.5},\"pattern\":{\"fillmode\":\"overlay\",\"size\":10,\"solidity\":0.2}},\"type\":\"bar\"}],\"scattergeo\":[{\"type\":\"scattergeo\",\"marker\":{\"colorbar\":{\"outlinewidth\":0,\"ticks\":\"\"}}}],\"scatterpolar\":[{\"type\":\"scatterpolar\",\"marker\":{\"colorbar\":{\"outlinewidth\":0,\"ticks\":\"\"}}}],\"histogram\":[{\"marker\":{\"pattern\":{\"fillmode\":\"overlay\",\"size\":10,\"solidity\":0.2}},\"type\":\"histogram\"}],\"scattergl\":[{\"type\":\"scattergl\",\"marker\":{\"colorbar\":{\"outlinewidth\":0,\"ticks\":\"\"}}}],\"scatter3d\":[{\"type\":\"scatter3d\",\"line\":{\"colorbar\":{\"outlinewidth\":0,\"ticks\":\"\"}},\"marker\":{\"colorbar\":{\"outlinewidth\":0,\"ticks\":\"\"}}}],\"scattermapbox\":[{\"type\":\"scattermapbox\",\"marker\":{\"colorbar\":{\"outlinewidth\":0,\"ticks\":\"\"}}}],\"scatterternary\":[{\"type\":\"scatterternary\",\"marker\":{\"colorbar\":{\"outlinewidth\":0,\"ticks\":\"\"}}}],\"scattercarpet\":[{\"type\":\"scattercarpet\",\"marker\":{\"colorbar\":{\"outlinewidth\":0,\"ticks\":\"\"}}}],\"carpet\":[{\"aaxis\":{\"endlinecolor\":\"#2a3f5f\",\"gridcolor\":\"white\",\"linecolor\":\"white\",\"minorgridcolor\":\"white\",\"startlinecolor\":\"#2a3f5f\"},\"baxis\":{\"endlinecolor\":\"#2a3f5f\",\"gridcolor\":\"white\",\"linecolor\":\"white\",\"minorgridcolor\":\"white\",\"startlinecolor\":\"#2a3f5f\"},\"type\":\"carpet\"}],\"table\":[{\"cells\":{\"fill\":{\"color\":\"#EBF0F8\"},\"line\":{\"color\":\"white\"}},\"header\":{\"fill\":{\"color\":\"#C8D4E3\"},\"line\":{\"color\":\"white\"}},\"type\":\"table\"}],\"barpolar\":[{\"marker\":{\"line\":{\"color\":\"#E5ECF6\",\"width\":0.5},\"pattern\":{\"fillmode\":\"overlay\",\"size\":10,\"solidity\":0.2}},\"type\":\"barpolar\"}],\"pie\":[{\"automargin\":true,\"type\":\"pie\"}]},\"layout\":{\"autotypenumbers\":\"strict\",\"colorway\":[\"#636efa\",\"#EF553B\",\"#00cc96\",\"#ab63fa\",\"#FFA15A\",\"#19d3f3\",\"#FF6692\",\"#B6E880\",\"#FF97FF\",\"#FECB52\"],\"font\":{\"color\":\"#2a3f5f\"},\"hovermode\":\"closest\",\"hoverlabel\":{\"align\":\"left\"},\"paper_bgcolor\":\"white\",\"plot_bgcolor\":\"#E5ECF6\",\"polar\":{\"bgcolor\":\"#E5ECF6\",\"angularaxis\":{\"gridcolor\":\"white\",\"linecolor\":\"white\",\"ticks\":\"\"},\"radialaxis\":{\"gridcolor\":\"white\",\"linecolor\":\"white\",\"ticks\":\"\"}},\"ternary\":{\"bgcolor\":\"#E5ECF6\",\"aaxis\":{\"gridcolor\":\"white\",\"linecolor\":\"white\",\"ticks\":\"\"},\"baxis\":{\"gridcolor\":\"white\",\"linecolor\":\"white\",\"ticks\":\"\"},\"caxis\":{\"gridcolor\":\"white\",\"linecolor\":\"white\",\"ticks\":\"\"}},\"coloraxis\":{\"colorbar\":{\"outlinewidth\":0,\"ticks\":\"\"}},\"colorscale\":{\"sequential\":[[0.0,\"#0d0887\"],[0.1111111111111111,\"#46039f\"],[0.2222222222222222,\"#7201a8\"],[0.3333333333333333,\"#9c179e\"],[0.4444444444444444,\"#bd3786\"],[0.5555555555555556,\"#d8576b\"],[0.6666666666666666,\"#ed7953\"],[0.7777777777777778,\"#fb9f3a\"],[0.8888888888888888,\"#fdca26\"],[1.0,\"#f0f921\"]],\"sequentialminus\":[[0.0,\"#0d0887\"],[0.1111111111111111,\"#46039f\"],[0.2222222222222222,\"#7201a8\"],[0.3333333333333333,\"#9c179e\"],[0.4444444444444444,\"#bd3786\"],[0.5555555555555556,\"#d8576b\"],[0.6666666666666666,\"#ed7953\"],[0.7777777777777778,\"#fb9f3a\"],[0.8888888888888888,\"#fdca26\"],[1.0,\"#f0f921\"]],\"diverging\":[[0,\"#8e0152\"],[0.1,\"#c51b7d\"],[0.2,\"#de77ae\"],[0.3,\"#f1b6da\"],[0.4,\"#fde0ef\"],[0.5,\"#f7f7f7\"],[0.6,\"#e6f5d0\"],[0.7,\"#b8e186\"],[0.8,\"#7fbc41\"],[0.9,\"#4d9221\"],[1,\"#276419\"]]},\"xaxis\":{\"gridcolor\":\"white\",\"linecolor\":\"white\",\"ticks\":\"\",\"title\":{\"standoff\":15},\"zerolinecolor\":\"white\",\"automargin\":true,\"zerolinewidth\":2},\"yaxis\":{\"gridcolor\":\"white\",\"linecolor\":\"white\",\"ticks\":\"\",\"title\":{\"standoff\":15},\"zerolinecolor\":\"white\",\"automargin\":true,\"zerolinewidth\":2},\"scene\":{\"xaxis\":{\"backgroundcolor\":\"#E5ECF6\",\"gridcolor\":\"white\",\"linecolor\":\"white\",\"showbackground\":true,\"ticks\":\"\",\"zerolinecolor\":\"white\",\"gridwidth\":2},\"yaxis\":{\"backgroundcolor\":\"#E5ECF6\",\"gridcolor\":\"white\",\"linecolor\":\"white\",\"showbackground\":true,\"ticks\":\"\",\"zerolinecolor\":\"white\",\"gridwidth\":2},\"zaxis\":{\"backgroundcolor\":\"#E5ECF6\",\"gridcolor\":\"white\",\"linecolor\":\"white\",\"showbackground\":true,\"ticks\":\"\",\"zerolinecolor\":\"white\",\"gridwidth\":2}},\"shapedefaults\":{\"line\":{\"color\":\"#2a3f5f\"}},\"annotationdefaults\":{\"arrowcolor\":\"#2a3f5f\",\"arrowhead\":0,\"arrowwidth\":1},\"geo\":{\"bgcolor\":\"white\",\"landcolor\":\"#E5ECF6\",\"subunitcolor\":\"white\",\"showland\":true,\"showlakes\":true,\"lakecolor\":\"white\"},\"title\":{\"x\":0.05},\"mapbox\":{\"style\":\"light\"}}},\"xaxis\":{\"anchor\":\"y\",\"domain\":[0.0,1.0],\"showticklabels\":false},\"yaxis\":{\"anchor\":\"x\",\"domain\":[0.0,1.0],\"showticklabels\":false},\"margin\":{\"t\":60},\"title\":{\"text\":\"Word Cloud of Cleaned Text\"},\"plot_bgcolor\":\"white\"},                        {\"responsive\": true}                    ).then(function(){\n",
       "                            \n",
       "var gd = document.getElementById('84c3e34e-40f1-403f-8c58-e37574e4d4e5');\n",
       "var x = new MutationObserver(function (mutations, observer) {{\n",
       "        var display = window.getComputedStyle(gd).display;\n",
       "        if (!display || display === 'none') {{\n",
       "            console.log([gd, 'removed!']);\n",
       "            Plotly.purge(gd);\n",
       "            observer.disconnect();\n",
       "        }}\n",
       "}});\n",
       "\n",
       "// Listen for the removal of the full notebook cells\n",
       "var notebookContainer = gd.closest('#notebook-container');\n",
       "if (notebookContainer) {{\n",
       "    x.observe(notebookContainer, {childList: true});\n",
       "}}\n",
       "\n",
       "// Listen for the clearing of the current output cell\n",
       "var outputEl = gd.closest('.output');\n",
       "if (outputEl) {{\n",
       "    x.observe(outputEl, {childList: true});\n",
       "}}\n",
       "\n",
       "                        })                };                });            </script>        </div>"
      ]
     },
     "metadata": {},
     "output_type": "display_data"
    }
   ],
   "source": [
    "# Join the cleaned text into a single string\n",
    "text = ' '.join(df['cleaned_text'])\n",
    "\n",
    "# Create a word cloud\n",
    "wordcloud = WordCloud(background_color='white',\n",
    "                      width=800,\n",
    "                      height=600,\n",
    "                      max_words=100,\n",
    "                      colormap='viridis'\n",
    "                      ).generate(text)\n",
    "\n",
    "# Convert word cloud to an image\n",
    "wordcloud_image = wordcloud.to_image()\n",
    "\n",
    "# Display the word cloud using Plotly as an image\n",
    "fig = px.imshow(wordcloud_image)\n",
    "fig.update_layout(\n",
    "    title='Word Cloud of Cleaned Text',\n",
    "    xaxis_showticklabels=False,\n",
    "    yaxis_showticklabels=False,\n",
    "    plot_bgcolor='white'\n",
    ")\n",
    "fig.show()"
   ]
  },
  {
   "cell_type": "code",
   "execution_count": 127,
   "id": "86dc830d",
   "metadata": {},
   "outputs": [],
   "source": [
    "# Forming our corpus\n",
    "corpus=\" \"\n",
    "for i in range(0,len(df)):\n",
    "    corpus= corpus+ df[\"cleaned_text\"][i]"
   ]
  },
  {
   "cell_type": "code",
   "execution_count": 128,
   "id": "64dad06a",
   "metadata": {},
   "outputs": [
    {
     "name": "stdout",
     "output_type": "stream",
     "text": [
      "Number of tokens: 411281\n"
     ]
    }
   ],
   "source": [
    "# Tokenizing our cleaned text\n",
    "tokenizer = nltk.tokenize.RegexpTokenizer('\\w+')\n",
    "tokens = tokenizer.tokenize(corpus)\n",
    "print(\"Number of tokens:\", len(tokens))"
   ]
  },
  {
   "cell_type": "code",
   "execution_count": 129,
   "id": "db8933e5",
   "metadata": {},
   "outputs": [],
   "source": [
    "# Now lower everything in our corpus and storing it in new variable words\n",
    "words = []\n",
    "for word in tokens:\n",
    "    words.append(word.lower())"
   ]
  },
  {
   "cell_type": "code",
   "execution_count": 130,
   "id": "843368cf",
   "metadata": {},
   "outputs": [
    {
     "data": {
      "text/html": [
       "<div>\n",
       "<style scoped>\n",
       "    .dataframe tbody tr th:only-of-type {\n",
       "        vertical-align: middle;\n",
       "    }\n",
       "\n",
       "    .dataframe tbody tr th {\n",
       "        vertical-align: top;\n",
       "    }\n",
       "\n",
       "    .dataframe thead th {\n",
       "        text-align: right;\n",
       "    }\n",
       "</style>\n",
       "<table border=\"1\" class=\"dataframe\">\n",
       "  <thead>\n",
       "    <tr style=\"text-align: right;\">\n",
       "      <th></th>\n",
       "      <th>Category</th>\n",
       "      <th>Resume</th>\n",
       "      <th>cleaned_text</th>\n",
       "      <th>Category_but_Encoded</th>\n",
       "    </tr>\n",
       "  </thead>\n",
       "  <tbody>\n",
       "    <tr>\n",
       "      <th>0</th>\n",
       "      <td>Data Science</td>\n",
       "      <td>Skills * Programming Languages: Python (pandas...</td>\n",
       "      <td>Skills Programming Languages Python pandas num...</td>\n",
       "      <td>6</td>\n",
       "    </tr>\n",
       "    <tr>\n",
       "      <th>1</th>\n",
       "      <td>Data Science</td>\n",
       "      <td>Education Details \\r\\nMay 2013 to May 2017 B.E...</td>\n",
       "      <td>Education Details May 2013 to May 2017 B E UIT...</td>\n",
       "      <td>6</td>\n",
       "    </tr>\n",
       "    <tr>\n",
       "      <th>2</th>\n",
       "      <td>Data Science</td>\n",
       "      <td>Areas of Interest Deep Learning, Control Syste...</td>\n",
       "      <td>Areas of Interest Deep Learning Control System...</td>\n",
       "      <td>6</td>\n",
       "    </tr>\n",
       "    <tr>\n",
       "      <th>3</th>\n",
       "      <td>Data Science</td>\n",
       "      <td>Skills â¢ R â¢ Python â¢ SAP HANA â¢ Table...</td>\n",
       "      <td>Skills R Python SAP HANA Tableau SAP HANA SQL ...</td>\n",
       "      <td>6</td>\n",
       "    </tr>\n",
       "    <tr>\n",
       "      <th>4</th>\n",
       "      <td>Data Science</td>\n",
       "      <td>Education Details \\r\\n MCA   YMCAUST,  Faridab...</td>\n",
       "      <td>Education Details MCA YMCAUST Faridabad Haryan...</td>\n",
       "      <td>6</td>\n",
       "    </tr>\n",
       "  </tbody>\n",
       "</table>\n",
       "</div>"
      ],
      "text/plain": [
       "       Category                                             Resume  \\\n",
       "0  Data Science  Skills * Programming Languages: Python (pandas...   \n",
       "1  Data Science  Education Details \\r\\nMay 2013 to May 2017 B.E...   \n",
       "2  Data Science  Areas of Interest Deep Learning, Control Syste...   \n",
       "3  Data Science  Skills â¢ R â¢ Python â¢ SAP HANA â¢ Table...   \n",
       "4  Data Science  Education Details \\r\\n MCA   YMCAUST,  Faridab...   \n",
       "\n",
       "                                        cleaned_text  Category_but_Encoded  \n",
       "0  Skills Programming Languages Python pandas num...                     6  \n",
       "1  Education Details May 2013 to May 2017 B E UIT...                     6  \n",
       "2  Areas of Interest Deep Learning Control System...                     6  \n",
       "3  Skills R Python SAP HANA Tableau SAP HANA SQL ...                     6  \n",
       "4  Education Details MCA YMCAUST Faridabad Haryan...                     6  "
      ]
     },
     "execution_count": 130,
     "metadata": {},
     "output_type": "execute_result"
    }
   ],
   "source": [
    "# Label encoding our Category\n",
    "label = LabelEncoder()\n",
    "df['Category_but_Encoded'] = label.fit_transform(df['Category'])\n",
    "df.head()"
   ]
  },
  {
   "cell_type": "code",
   "execution_count": 135,
   "id": "ade51c41",
   "metadata": {},
   "outputs": [
    {
     "data": {
      "application/vnd.plotly.v1+json": {
       "config": {
        "plotlyServerURL": "https://plot.ly"
       },
       "data": [
        {
         "alignmentgroup": "True",
         "bingroup": "x",
         "hovertemplate": "Encoded Category=%{x}<br>count=%{y}<extra></extra>",
         "legendgroup": "",
         "marker": {
          "color": "#1f77b4",
          "opacity": 0.7,
          "pattern": {
           "shape": ""
          }
         },
         "name": "",
         "nbinsx": 10,
         "offsetgroup": "",
         "orientation": "v",
         "showlegend": false,
         "type": "histogram",
         "x": [
          6,
          6,
          6,
          6,
          6,
          6,
          6,
          6,
          6,
          6,
          6,
          6,
          6,
          6,
          6,
          6,
          6,
          6,
          6,
          6,
          6,
          6,
          6,
          6,
          6,
          6,
          6,
          6,
          6,
          6,
          6,
          6,
          6,
          6,
          6,
          6,
          6,
          6,
          6,
          6,
          12,
          12,
          12,
          12,
          12,
          12,
          12,
          12,
          12,
          12,
          12,
          12,
          12,
          12,
          12,
          12,
          12,
          12,
          12,
          12,
          12,
          12,
          12,
          12,
          12,
          12,
          12,
          12,
          12,
          12,
          12,
          12,
          12,
          12,
          12,
          12,
          12,
          12,
          12,
          12,
          12,
          12,
          12,
          12,
          0,
          0,
          0,
          0,
          0,
          0,
          0,
          0,
          0,
          0,
          0,
          0,
          0,
          0,
          0,
          0,
          0,
          0,
          0,
          0,
          1,
          1,
          1,
          1,
          1,
          1,
          1,
          1,
          1,
          1,
          1,
          1,
          1,
          1,
          1,
          1,
          1,
          1,
          1,
          1,
          1,
          1,
          1,
          1,
          1,
          1,
          1,
          1,
          1,
          1,
          1,
          1,
          1,
          1,
          1,
          1,
          24,
          24,
          24,
          24,
          24,
          24,
          24,
          24,
          24,
          24,
          24,
          24,
          24,
          24,
          24,
          24,
          24,
          24,
          24,
          24,
          24,
          24,
          24,
          24,
          24,
          24,
          24,
          24,
          24,
          24,
          24,
          24,
          24,
          24,
          24,
          24,
          24,
          24,
          24,
          24,
          24,
          24,
          24,
          24,
          24,
          16,
          16,
          16,
          16,
          16,
          16,
          16,
          16,
          16,
          16,
          16,
          16,
          16,
          16,
          16,
          16,
          16,
          16,
          16,
          16,
          16,
          16,
          16,
          16,
          16,
          16,
          16,
          16,
          16,
          16,
          16,
          16,
          16,
          16,
          16,
          16,
          16,
          16,
          16,
          16,
          22,
          22,
          22,
          22,
          22,
          22,
          22,
          22,
          22,
          22,
          22,
          22,
          22,
          22,
          22,
          22,
          22,
          22,
          22,
          22,
          22,
          22,
          22,
          22,
          22,
          22,
          22,
          22,
          22,
          22,
          22,
          22,
          22,
          22,
          22,
          22,
          22,
          22,
          22,
          22,
          14,
          14,
          14,
          14,
          14,
          14,
          14,
          14,
          14,
          14,
          14,
          14,
          14,
          14,
          14,
          14,
          14,
          14,
          14,
          14,
          14,
          14,
          14,
          14,
          14,
          14,
          14,
          14,
          14,
          14,
          5,
          5,
          5,
          5,
          5,
          5,
          5,
          5,
          5,
          5,
          5,
          5,
          5,
          5,
          5,
          5,
          5,
          5,
          5,
          5,
          5,
          5,
          5,
          5,
          15,
          15,
          15,
          15,
          15,
          15,
          15,
          15,
          15,
          15,
          15,
          15,
          15,
          15,
          15,
          15,
          15,
          15,
          15,
          15,
          15,
          15,
          15,
          15,
          15,
          15,
          15,
          15,
          15,
          15,
          15,
          15,
          15,
          15,
          15,
          15,
          15,
          15,
          15,
          15,
          15,
          15,
          15,
          15,
          15,
          15,
          15,
          15,
          15,
          15,
          15,
          15,
          15,
          15,
          15,
          15,
          15,
          15,
          15,
          15,
          15,
          15,
          15,
          15,
          15,
          15,
          15,
          15,
          15,
          15,
          15,
          15,
          15,
          15,
          15,
          15,
          15,
          15,
          15,
          15,
          15,
          15,
          15,
          15,
          4,
          4,
          4,
          4,
          4,
          4,
          4,
          4,
          4,
          4,
          4,
          4,
          4,
          4,
          4,
          4,
          4,
          4,
          4,
          4,
          4,
          4,
          4,
          4,
          4,
          4,
          4,
          4,
          21,
          21,
          21,
          21,
          21,
          21,
          21,
          21,
          21,
          21,
          21,
          21,
          21,
          21,
          21,
          21,
          21,
          21,
          21,
          21,
          21,
          21,
          21,
          21,
          2,
          2,
          2,
          2,
          2,
          2,
          2,
          2,
          2,
          2,
          2,
          2,
          2,
          2,
          2,
          2,
          2,
          2,
          2,
          2,
          2,
          2,
          2,
          2,
          2,
          2,
          11,
          11,
          11,
          11,
          11,
          11,
          11,
          11,
          11,
          11,
          11,
          11,
          11,
          11,
          11,
          11,
          11,
          11,
          11,
          11,
          11,
          11,
          11,
          11,
          11,
          11,
          11,
          11,
          11,
          11,
          18,
          18,
          18,
          18,
          18,
          18,
          18,
          18,
          18,
          18,
          18,
          18,
          18,
          18,
          18,
          18,
          18,
          18,
          18,
          18,
          18,
          18,
          18,
          18,
          18,
          18,
          18,
          18,
          18,
          18,
          18,
          18,
          18,
          18,
          18,
          18,
          18,
          18,
          18,
          18,
          20,
          20,
          20,
          20,
          20,
          20,
          20,
          20,
          20,
          20,
          20,
          20,
          20,
          20,
          20,
          20,
          20,
          20,
          20,
          20,
          20,
          20,
          20,
          20,
          20,
          20,
          20,
          20,
          20,
          20,
          20,
          20,
          20,
          20,
          20,
          20,
          20,
          20,
          20,
          20,
          20,
          20,
          20,
          20,
          20,
          20,
          20,
          20,
          8,
          8,
          8,
          8,
          8,
          8,
          8,
          8,
          8,
          8,
          8,
          8,
          8,
          8,
          8,
          8,
          8,
          8,
          8,
          8,
          8,
          8,
          8,
          8,
          8,
          8,
          8,
          8,
          8,
          8,
          8,
          8,
          8,
          8,
          8,
          8,
          8,
          8,
          8,
          8,
          8,
          8,
          8,
          8,
          8,
          8,
          8,
          8,
          8,
          8,
          8,
          8,
          8,
          8,
          8,
          17,
          17,
          17,
          17,
          17,
          17,
          17,
          17,
          17,
          17,
          17,
          17,
          17,
          17,
          17,
          17,
          17,
          17,
          17,
          17,
          17,
          17,
          17,
          17,
          17,
          19,
          19,
          19,
          19,
          19,
          19,
          19,
          19,
          19,
          19,
          19,
          19,
          19,
          19,
          19,
          19,
          19,
          19,
          19,
          19,
          19,
          19,
          19,
          19,
          19,
          19,
          19,
          19,
          19,
          19,
          7,
          7,
          7,
          7,
          7,
          7,
          7,
          7,
          7,
          7,
          7,
          7,
          7,
          7,
          7,
          7,
          7,
          7,
          7,
          7,
          7,
          7,
          7,
          7,
          7,
          7,
          7,
          7,
          7,
          7,
          7,
          7,
          7,
          13,
          13,
          13,
          13,
          13,
          13,
          13,
          13,
          13,
          13,
          13,
          13,
          13,
          13,
          13,
          13,
          13,
          13,
          13,
          13,
          13,
          13,
          13,
          13,
          13,
          13,
          13,
          13,
          13,
          13,
          13,
          13,
          13,
          13,
          13,
          13,
          13,
          13,
          13,
          13,
          13,
          13,
          10,
          10,
          10,
          10,
          10,
          10,
          10,
          10,
          10,
          10,
          10,
          10,
          10,
          10,
          10,
          10,
          10,
          10,
          10,
          10,
          10,
          10,
          10,
          10,
          10,
          10,
          10,
          10,
          10,
          10,
          10,
          10,
          10,
          10,
          10,
          10,
          10,
          10,
          10,
          10,
          9,
          9,
          9,
          9,
          9,
          9,
          9,
          9,
          9,
          9,
          9,
          9,
          9,
          9,
          9,
          9,
          9,
          9,
          9,
          9,
          9,
          9,
          9,
          9,
          9,
          9,
          9,
          9,
          3,
          3,
          3,
          3,
          3,
          3,
          3,
          3,
          3,
          3,
          3,
          3,
          3,
          3,
          3,
          3,
          3,
          3,
          3,
          3,
          3,
          3,
          3,
          3,
          3,
          3,
          3,
          3,
          3,
          3,
          3,
          3,
          3,
          3,
          3,
          3,
          3,
          3,
          3,
          3,
          23,
          23,
          23,
          23,
          23,
          23,
          23,
          23,
          23,
          23,
          23,
          23,
          23,
          23,
          23,
          23,
          23,
          23,
          23,
          23,
          23,
          23,
          23,
          23,
          23,
          23,
          23,
          23,
          23,
          23,
          23,
          23,
          23,
          23,
          23,
          23,
          23,
          23,
          23,
          23,
          23,
          23,
          23,
          23,
          23,
          23,
          23,
          23,
          23,
          23,
          23,
          23,
          23,
          23,
          23,
          23,
          23,
          23,
          23,
          23,
          23,
          23,
          23,
          23,
          23,
          23,
          23,
          23,
          23,
          23
         ],
         "xaxis": "x",
         "yaxis": "y"
        }
       ],
       "layout": {
        "barmode": "relative",
        "font": {
         "color": "black",
         "family": "Arial",
         "size": 12
        },
        "legend": {
         "orientation": "h",
         "title": {
          "text": "Categories"
         },
         "tracegroupgap": 0,
         "x": 0.5,
         "y": 1.15
        },
        "margin": {
         "b": 80,
         "l": 80,
         "r": 80,
         "t": 80
        },
        "template": {
         "data": {
          "bar": [
           {
            "error_x": {
             "color": "#2a3f5f"
            },
            "error_y": {
             "color": "#2a3f5f"
            },
            "marker": {
             "line": {
              "color": "#E5ECF6",
              "width": 0.5
             },
             "pattern": {
              "fillmode": "overlay",
              "size": 10,
              "solidity": 0.2
             }
            },
            "type": "bar"
           }
          ],
          "barpolar": [
           {
            "marker": {
             "line": {
              "color": "#E5ECF6",
              "width": 0.5
             },
             "pattern": {
              "fillmode": "overlay",
              "size": 10,
              "solidity": 0.2
             }
            },
            "type": "barpolar"
           }
          ],
          "carpet": [
           {
            "aaxis": {
             "endlinecolor": "#2a3f5f",
             "gridcolor": "white",
             "linecolor": "white",
             "minorgridcolor": "white",
             "startlinecolor": "#2a3f5f"
            },
            "baxis": {
             "endlinecolor": "#2a3f5f",
             "gridcolor": "white",
             "linecolor": "white",
             "minorgridcolor": "white",
             "startlinecolor": "#2a3f5f"
            },
            "type": "carpet"
           }
          ],
          "choropleth": [
           {
            "colorbar": {
             "outlinewidth": 0,
             "ticks": ""
            },
            "type": "choropleth"
           }
          ],
          "contour": [
           {
            "colorbar": {
             "outlinewidth": 0,
             "ticks": ""
            },
            "colorscale": [
             [
              0,
              "#0d0887"
             ],
             [
              0.1111111111111111,
              "#46039f"
             ],
             [
              0.2222222222222222,
              "#7201a8"
             ],
             [
              0.3333333333333333,
              "#9c179e"
             ],
             [
              0.4444444444444444,
              "#bd3786"
             ],
             [
              0.5555555555555556,
              "#d8576b"
             ],
             [
              0.6666666666666666,
              "#ed7953"
             ],
             [
              0.7777777777777778,
              "#fb9f3a"
             ],
             [
              0.8888888888888888,
              "#fdca26"
             ],
             [
              1,
              "#f0f921"
             ]
            ],
            "type": "contour"
           }
          ],
          "contourcarpet": [
           {
            "colorbar": {
             "outlinewidth": 0,
             "ticks": ""
            },
            "type": "contourcarpet"
           }
          ],
          "heatmap": [
           {
            "colorbar": {
             "outlinewidth": 0,
             "ticks": ""
            },
            "colorscale": [
             [
              0,
              "#0d0887"
             ],
             [
              0.1111111111111111,
              "#46039f"
             ],
             [
              0.2222222222222222,
              "#7201a8"
             ],
             [
              0.3333333333333333,
              "#9c179e"
             ],
             [
              0.4444444444444444,
              "#bd3786"
             ],
             [
              0.5555555555555556,
              "#d8576b"
             ],
             [
              0.6666666666666666,
              "#ed7953"
             ],
             [
              0.7777777777777778,
              "#fb9f3a"
             ],
             [
              0.8888888888888888,
              "#fdca26"
             ],
             [
              1,
              "#f0f921"
             ]
            ],
            "type": "heatmap"
           }
          ],
          "heatmapgl": [
           {
            "colorbar": {
             "outlinewidth": 0,
             "ticks": ""
            },
            "colorscale": [
             [
              0,
              "#0d0887"
             ],
             [
              0.1111111111111111,
              "#46039f"
             ],
             [
              0.2222222222222222,
              "#7201a8"
             ],
             [
              0.3333333333333333,
              "#9c179e"
             ],
             [
              0.4444444444444444,
              "#bd3786"
             ],
             [
              0.5555555555555556,
              "#d8576b"
             ],
             [
              0.6666666666666666,
              "#ed7953"
             ],
             [
              0.7777777777777778,
              "#fb9f3a"
             ],
             [
              0.8888888888888888,
              "#fdca26"
             ],
             [
              1,
              "#f0f921"
             ]
            ],
            "type": "heatmapgl"
           }
          ],
          "histogram": [
           {
            "marker": {
             "pattern": {
              "fillmode": "overlay",
              "size": 10,
              "solidity": 0.2
             }
            },
            "type": "histogram"
           }
          ],
          "histogram2d": [
           {
            "colorbar": {
             "outlinewidth": 0,
             "ticks": ""
            },
            "colorscale": [
             [
              0,
              "#0d0887"
             ],
             [
              0.1111111111111111,
              "#46039f"
             ],
             [
              0.2222222222222222,
              "#7201a8"
             ],
             [
              0.3333333333333333,
              "#9c179e"
             ],
             [
              0.4444444444444444,
              "#bd3786"
             ],
             [
              0.5555555555555556,
              "#d8576b"
             ],
             [
              0.6666666666666666,
              "#ed7953"
             ],
             [
              0.7777777777777778,
              "#fb9f3a"
             ],
             [
              0.8888888888888888,
              "#fdca26"
             ],
             [
              1,
              "#f0f921"
             ]
            ],
            "type": "histogram2d"
           }
          ],
          "histogram2dcontour": [
           {
            "colorbar": {
             "outlinewidth": 0,
             "ticks": ""
            },
            "colorscale": [
             [
              0,
              "#0d0887"
             ],
             [
              0.1111111111111111,
              "#46039f"
             ],
             [
              0.2222222222222222,
              "#7201a8"
             ],
             [
              0.3333333333333333,
              "#9c179e"
             ],
             [
              0.4444444444444444,
              "#bd3786"
             ],
             [
              0.5555555555555556,
              "#d8576b"
             ],
             [
              0.6666666666666666,
              "#ed7953"
             ],
             [
              0.7777777777777778,
              "#fb9f3a"
             ],
             [
              0.8888888888888888,
              "#fdca26"
             ],
             [
              1,
              "#f0f921"
             ]
            ],
            "type": "histogram2dcontour"
           }
          ],
          "mesh3d": [
           {
            "colorbar": {
             "outlinewidth": 0,
             "ticks": ""
            },
            "type": "mesh3d"
           }
          ],
          "parcoords": [
           {
            "line": {
             "colorbar": {
              "outlinewidth": 0,
              "ticks": ""
             }
            },
            "type": "parcoords"
           }
          ],
          "pie": [
           {
            "automargin": true,
            "type": "pie"
           }
          ],
          "scatter": [
           {
            "fillpattern": {
             "fillmode": "overlay",
             "size": 10,
             "solidity": 0.2
            },
            "type": "scatter"
           }
          ],
          "scatter3d": [
           {
            "line": {
             "colorbar": {
              "outlinewidth": 0,
              "ticks": ""
             }
            },
            "marker": {
             "colorbar": {
              "outlinewidth": 0,
              "ticks": ""
             }
            },
            "type": "scatter3d"
           }
          ],
          "scattercarpet": [
           {
            "marker": {
             "colorbar": {
              "outlinewidth": 0,
              "ticks": ""
             }
            },
            "type": "scattercarpet"
           }
          ],
          "scattergeo": [
           {
            "marker": {
             "colorbar": {
              "outlinewidth": 0,
              "ticks": ""
             }
            },
            "type": "scattergeo"
           }
          ],
          "scattergl": [
           {
            "marker": {
             "colorbar": {
              "outlinewidth": 0,
              "ticks": ""
             }
            },
            "type": "scattergl"
           }
          ],
          "scattermapbox": [
           {
            "marker": {
             "colorbar": {
              "outlinewidth": 0,
              "ticks": ""
             }
            },
            "type": "scattermapbox"
           }
          ],
          "scatterpolar": [
           {
            "marker": {
             "colorbar": {
              "outlinewidth": 0,
              "ticks": ""
             }
            },
            "type": "scatterpolar"
           }
          ],
          "scatterpolargl": [
           {
            "marker": {
             "colorbar": {
              "outlinewidth": 0,
              "ticks": ""
             }
            },
            "type": "scatterpolargl"
           }
          ],
          "scatterternary": [
           {
            "marker": {
             "colorbar": {
              "outlinewidth": 0,
              "ticks": ""
             }
            },
            "type": "scatterternary"
           }
          ],
          "surface": [
           {
            "colorbar": {
             "outlinewidth": 0,
             "ticks": ""
            },
            "colorscale": [
             [
              0,
              "#0d0887"
             ],
             [
              0.1111111111111111,
              "#46039f"
             ],
             [
              0.2222222222222222,
              "#7201a8"
             ],
             [
              0.3333333333333333,
              "#9c179e"
             ],
             [
              0.4444444444444444,
              "#bd3786"
             ],
             [
              0.5555555555555556,
              "#d8576b"
             ],
             [
              0.6666666666666666,
              "#ed7953"
             ],
             [
              0.7777777777777778,
              "#fb9f3a"
             ],
             [
              0.8888888888888888,
              "#fdca26"
             ],
             [
              1,
              "#f0f921"
             ]
            ],
            "type": "surface"
           }
          ],
          "table": [
           {
            "cells": {
             "fill": {
              "color": "#EBF0F8"
             },
             "line": {
              "color": "white"
             }
            },
            "header": {
             "fill": {
              "color": "#C8D4E3"
             },
             "line": {
              "color": "white"
             }
            },
            "type": "table"
           }
          ]
         },
         "layout": {
          "annotationdefaults": {
           "arrowcolor": "#2a3f5f",
           "arrowhead": 0,
           "arrowwidth": 1
          },
          "autotypenumbers": "strict",
          "coloraxis": {
           "colorbar": {
            "outlinewidth": 0,
            "ticks": ""
           }
          },
          "colorscale": {
           "diverging": [
            [
             0,
             "#8e0152"
            ],
            [
             0.1,
             "#c51b7d"
            ],
            [
             0.2,
             "#de77ae"
            ],
            [
             0.3,
             "#f1b6da"
            ],
            [
             0.4,
             "#fde0ef"
            ],
            [
             0.5,
             "#f7f7f7"
            ],
            [
             0.6,
             "#e6f5d0"
            ],
            [
             0.7,
             "#b8e186"
            ],
            [
             0.8,
             "#7fbc41"
            ],
            [
             0.9,
             "#4d9221"
            ],
            [
             1,
             "#276419"
            ]
           ],
           "sequential": [
            [
             0,
             "#0d0887"
            ],
            [
             0.1111111111111111,
             "#46039f"
            ],
            [
             0.2222222222222222,
             "#7201a8"
            ],
            [
             0.3333333333333333,
             "#9c179e"
            ],
            [
             0.4444444444444444,
             "#bd3786"
            ],
            [
             0.5555555555555556,
             "#d8576b"
            ],
            [
             0.6666666666666666,
             "#ed7953"
            ],
            [
             0.7777777777777778,
             "#fb9f3a"
            ],
            [
             0.8888888888888888,
             "#fdca26"
            ],
            [
             1,
             "#f0f921"
            ]
           ],
           "sequentialminus": [
            [
             0,
             "#0d0887"
            ],
            [
             0.1111111111111111,
             "#46039f"
            ],
            [
             0.2222222222222222,
             "#7201a8"
            ],
            [
             0.3333333333333333,
             "#9c179e"
            ],
            [
             0.4444444444444444,
             "#bd3786"
            ],
            [
             0.5555555555555556,
             "#d8576b"
            ],
            [
             0.6666666666666666,
             "#ed7953"
            ],
            [
             0.7777777777777778,
             "#fb9f3a"
            ],
            [
             0.8888888888888888,
             "#fdca26"
            ],
            [
             1,
             "#f0f921"
            ]
           ]
          },
          "colorway": [
           "#636efa",
           "#EF553B",
           "#00cc96",
           "#ab63fa",
           "#FFA15A",
           "#19d3f3",
           "#FF6692",
           "#B6E880",
           "#FF97FF",
           "#FECB52"
          ],
          "font": {
           "color": "#2a3f5f"
          },
          "geo": {
           "bgcolor": "white",
           "lakecolor": "white",
           "landcolor": "#E5ECF6",
           "showlakes": true,
           "showland": true,
           "subunitcolor": "white"
          },
          "hoverlabel": {
           "align": "left"
          },
          "hovermode": "closest",
          "mapbox": {
           "style": "light"
          },
          "paper_bgcolor": "white",
          "plot_bgcolor": "#E5ECF6",
          "polar": {
           "angularaxis": {
            "gridcolor": "white",
            "linecolor": "white",
            "ticks": ""
           },
           "bgcolor": "#E5ECF6",
           "radialaxis": {
            "gridcolor": "white",
            "linecolor": "white",
            "ticks": ""
           }
          },
          "scene": {
           "xaxis": {
            "backgroundcolor": "#E5ECF6",
            "gridcolor": "white",
            "gridwidth": 2,
            "linecolor": "white",
            "showbackground": true,
            "ticks": "",
            "zerolinecolor": "white"
           },
           "yaxis": {
            "backgroundcolor": "#E5ECF6",
            "gridcolor": "white",
            "gridwidth": 2,
            "linecolor": "white",
            "showbackground": true,
            "ticks": "",
            "zerolinecolor": "white"
           },
           "zaxis": {
            "backgroundcolor": "#E5ECF6",
            "gridcolor": "white",
            "gridwidth": 2,
            "linecolor": "white",
            "showbackground": true,
            "ticks": "",
            "zerolinecolor": "white"
           }
          },
          "shapedefaults": {
           "line": {
            "color": "#2a3f5f"
           }
          },
          "ternary": {
           "aaxis": {
            "gridcolor": "white",
            "linecolor": "white",
            "ticks": ""
           },
           "baxis": {
            "gridcolor": "white",
            "linecolor": "white",
            "ticks": ""
           },
           "bgcolor": "#E5ECF6",
           "caxis": {
            "gridcolor": "white",
            "linecolor": "white",
            "ticks": ""
           }
          },
          "title": {
           "x": 0.05
          },
          "xaxis": {
           "automargin": true,
           "gridcolor": "white",
           "linecolor": "white",
           "ticks": "",
           "title": {
            "standoff": 15
           },
           "zerolinecolor": "white",
           "zerolinewidth": 2
          },
          "yaxis": {
           "automargin": true,
           "gridcolor": "white",
           "linecolor": "white",
           "ticks": "",
           "title": {
            "standoff": 15
           },
           "zerolinecolor": "white",
           "zerolinewidth": 2
          }
         }
        },
        "title": {
         "text": "Histogram of Encoded Categories"
        },
        "xaxis": {
         "anchor": "y",
         "domain": [
          0,
          1
         ],
         "title": {
          "text": "Encoded Category"
         }
        },
        "yaxis": {
         "anchor": "x",
         "domain": [
          0,
          1
         ],
         "title": {
          "text": "Count"
         }
        }
       }
      },
      "text/html": [
       "<div>                            <div id=\"45c1f538-93a2-415c-a1f1-797534fb722d\" class=\"plotly-graph-div\" style=\"height:525px; width:100%;\"></div>            <script type=\"text/javascript\">                require([\"plotly\"], function(Plotly) {                    window.PLOTLYENV=window.PLOTLYENV || {};                                    if (document.getElementById(\"45c1f538-93a2-415c-a1f1-797534fb722d\")) {                    Plotly.newPlot(                        \"45c1f538-93a2-415c-a1f1-797534fb722d\",                        [{\"alignmentgroup\":\"True\",\"bingroup\":\"x\",\"hovertemplate\":\"Encoded Category=%{x}<br>count=%{y}<extra></extra>\",\"legendgroup\":\"\",\"marker\":{\"color\":\"#1f77b4\",\"opacity\":0.7,\"pattern\":{\"shape\":\"\"}},\"name\":\"\",\"nbinsx\":10,\"offsetgroup\":\"\",\"orientation\":\"v\",\"showlegend\":false,\"x\":[6,6,6,6,6,6,6,6,6,6,6,6,6,6,6,6,6,6,6,6,6,6,6,6,6,6,6,6,6,6,6,6,6,6,6,6,6,6,6,6,12,12,12,12,12,12,12,12,12,12,12,12,12,12,12,12,12,12,12,12,12,12,12,12,12,12,12,12,12,12,12,12,12,12,12,12,12,12,12,12,12,12,12,12,0,0,0,0,0,0,0,0,0,0,0,0,0,0,0,0,0,0,0,0,1,1,1,1,1,1,1,1,1,1,1,1,1,1,1,1,1,1,1,1,1,1,1,1,1,1,1,1,1,1,1,1,1,1,1,1,24,24,24,24,24,24,24,24,24,24,24,24,24,24,24,24,24,24,24,24,24,24,24,24,24,24,24,24,24,24,24,24,24,24,24,24,24,24,24,24,24,24,24,24,24,16,16,16,16,16,16,16,16,16,16,16,16,16,16,16,16,16,16,16,16,16,16,16,16,16,16,16,16,16,16,16,16,16,16,16,16,16,16,16,16,22,22,22,22,22,22,22,22,22,22,22,22,22,22,22,22,22,22,22,22,22,22,22,22,22,22,22,22,22,22,22,22,22,22,22,22,22,22,22,22,14,14,14,14,14,14,14,14,14,14,14,14,14,14,14,14,14,14,14,14,14,14,14,14,14,14,14,14,14,14,5,5,5,5,5,5,5,5,5,5,5,5,5,5,5,5,5,5,5,5,5,5,5,5,15,15,15,15,15,15,15,15,15,15,15,15,15,15,15,15,15,15,15,15,15,15,15,15,15,15,15,15,15,15,15,15,15,15,15,15,15,15,15,15,15,15,15,15,15,15,15,15,15,15,15,15,15,15,15,15,15,15,15,15,15,15,15,15,15,15,15,15,15,15,15,15,15,15,15,15,15,15,15,15,15,15,15,15,4,4,4,4,4,4,4,4,4,4,4,4,4,4,4,4,4,4,4,4,4,4,4,4,4,4,4,4,21,21,21,21,21,21,21,21,21,21,21,21,21,21,21,21,21,21,21,21,21,21,21,21,2,2,2,2,2,2,2,2,2,2,2,2,2,2,2,2,2,2,2,2,2,2,2,2,2,2,11,11,11,11,11,11,11,11,11,11,11,11,11,11,11,11,11,11,11,11,11,11,11,11,11,11,11,11,11,11,18,18,18,18,18,18,18,18,18,18,18,18,18,18,18,18,18,18,18,18,18,18,18,18,18,18,18,18,18,18,18,18,18,18,18,18,18,18,18,18,20,20,20,20,20,20,20,20,20,20,20,20,20,20,20,20,20,20,20,20,20,20,20,20,20,20,20,20,20,20,20,20,20,20,20,20,20,20,20,20,20,20,20,20,20,20,20,20,8,8,8,8,8,8,8,8,8,8,8,8,8,8,8,8,8,8,8,8,8,8,8,8,8,8,8,8,8,8,8,8,8,8,8,8,8,8,8,8,8,8,8,8,8,8,8,8,8,8,8,8,8,8,8,17,17,17,17,17,17,17,17,17,17,17,17,17,17,17,17,17,17,17,17,17,17,17,17,17,19,19,19,19,19,19,19,19,19,19,19,19,19,19,19,19,19,19,19,19,19,19,19,19,19,19,19,19,19,19,7,7,7,7,7,7,7,7,7,7,7,7,7,7,7,7,7,7,7,7,7,7,7,7,7,7,7,7,7,7,7,7,7,13,13,13,13,13,13,13,13,13,13,13,13,13,13,13,13,13,13,13,13,13,13,13,13,13,13,13,13,13,13,13,13,13,13,13,13,13,13,13,13,13,13,10,10,10,10,10,10,10,10,10,10,10,10,10,10,10,10,10,10,10,10,10,10,10,10,10,10,10,10,10,10,10,10,10,10,10,10,10,10,10,10,9,9,9,9,9,9,9,9,9,9,9,9,9,9,9,9,9,9,9,9,9,9,9,9,9,9,9,9,3,3,3,3,3,3,3,3,3,3,3,3,3,3,3,3,3,3,3,3,3,3,3,3,3,3,3,3,3,3,3,3,3,3,3,3,3,3,3,3,23,23,23,23,23,23,23,23,23,23,23,23,23,23,23,23,23,23,23,23,23,23,23,23,23,23,23,23,23,23,23,23,23,23,23,23,23,23,23,23,23,23,23,23,23,23,23,23,23,23,23,23,23,23,23,23,23,23,23,23,23,23,23,23,23,23,23,23,23,23],\"xaxis\":\"x\",\"yaxis\":\"y\",\"type\":\"histogram\"}],                        {\"template\":{\"data\":{\"histogram2dcontour\":[{\"type\":\"histogram2dcontour\",\"colorbar\":{\"outlinewidth\":0,\"ticks\":\"\"},\"colorscale\":[[0.0,\"#0d0887\"],[0.1111111111111111,\"#46039f\"],[0.2222222222222222,\"#7201a8\"],[0.3333333333333333,\"#9c179e\"],[0.4444444444444444,\"#bd3786\"],[0.5555555555555556,\"#d8576b\"],[0.6666666666666666,\"#ed7953\"],[0.7777777777777778,\"#fb9f3a\"],[0.8888888888888888,\"#fdca26\"],[1.0,\"#f0f921\"]]}],\"choropleth\":[{\"type\":\"choropleth\",\"colorbar\":{\"outlinewidth\":0,\"ticks\":\"\"}}],\"histogram2d\":[{\"type\":\"histogram2d\",\"colorbar\":{\"outlinewidth\":0,\"ticks\":\"\"},\"colorscale\":[[0.0,\"#0d0887\"],[0.1111111111111111,\"#46039f\"],[0.2222222222222222,\"#7201a8\"],[0.3333333333333333,\"#9c179e\"],[0.4444444444444444,\"#bd3786\"],[0.5555555555555556,\"#d8576b\"],[0.6666666666666666,\"#ed7953\"],[0.7777777777777778,\"#fb9f3a\"],[0.8888888888888888,\"#fdca26\"],[1.0,\"#f0f921\"]]}],\"heatmap\":[{\"type\":\"heatmap\",\"colorbar\":{\"outlinewidth\":0,\"ticks\":\"\"},\"colorscale\":[[0.0,\"#0d0887\"],[0.1111111111111111,\"#46039f\"],[0.2222222222222222,\"#7201a8\"],[0.3333333333333333,\"#9c179e\"],[0.4444444444444444,\"#bd3786\"],[0.5555555555555556,\"#d8576b\"],[0.6666666666666666,\"#ed7953\"],[0.7777777777777778,\"#fb9f3a\"],[0.8888888888888888,\"#fdca26\"],[1.0,\"#f0f921\"]]}],\"heatmapgl\":[{\"type\":\"heatmapgl\",\"colorbar\":{\"outlinewidth\":0,\"ticks\":\"\"},\"colorscale\":[[0.0,\"#0d0887\"],[0.1111111111111111,\"#46039f\"],[0.2222222222222222,\"#7201a8\"],[0.3333333333333333,\"#9c179e\"],[0.4444444444444444,\"#bd3786\"],[0.5555555555555556,\"#d8576b\"],[0.6666666666666666,\"#ed7953\"],[0.7777777777777778,\"#fb9f3a\"],[0.8888888888888888,\"#fdca26\"],[1.0,\"#f0f921\"]]}],\"contourcarpet\":[{\"type\":\"contourcarpet\",\"colorbar\":{\"outlinewidth\":0,\"ticks\":\"\"}}],\"contour\":[{\"type\":\"contour\",\"colorbar\":{\"outlinewidth\":0,\"ticks\":\"\"},\"colorscale\":[[0.0,\"#0d0887\"],[0.1111111111111111,\"#46039f\"],[0.2222222222222222,\"#7201a8\"],[0.3333333333333333,\"#9c179e\"],[0.4444444444444444,\"#bd3786\"],[0.5555555555555556,\"#d8576b\"],[0.6666666666666666,\"#ed7953\"],[0.7777777777777778,\"#fb9f3a\"],[0.8888888888888888,\"#fdca26\"],[1.0,\"#f0f921\"]]}],\"surface\":[{\"type\":\"surface\",\"colorbar\":{\"outlinewidth\":0,\"ticks\":\"\"},\"colorscale\":[[0.0,\"#0d0887\"],[0.1111111111111111,\"#46039f\"],[0.2222222222222222,\"#7201a8\"],[0.3333333333333333,\"#9c179e\"],[0.4444444444444444,\"#bd3786\"],[0.5555555555555556,\"#d8576b\"],[0.6666666666666666,\"#ed7953\"],[0.7777777777777778,\"#fb9f3a\"],[0.8888888888888888,\"#fdca26\"],[1.0,\"#f0f921\"]]}],\"mesh3d\":[{\"type\":\"mesh3d\",\"colorbar\":{\"outlinewidth\":0,\"ticks\":\"\"}}],\"scatter\":[{\"fillpattern\":{\"fillmode\":\"overlay\",\"size\":10,\"solidity\":0.2},\"type\":\"scatter\"}],\"parcoords\":[{\"type\":\"parcoords\",\"line\":{\"colorbar\":{\"outlinewidth\":0,\"ticks\":\"\"}}}],\"scatterpolargl\":[{\"type\":\"scatterpolargl\",\"marker\":{\"colorbar\":{\"outlinewidth\":0,\"ticks\":\"\"}}}],\"bar\":[{\"error_x\":{\"color\":\"#2a3f5f\"},\"error_y\":{\"color\":\"#2a3f5f\"},\"marker\":{\"line\":{\"color\":\"#E5ECF6\",\"width\":0.5},\"pattern\":{\"fillmode\":\"overlay\",\"size\":10,\"solidity\":0.2}},\"type\":\"bar\"}],\"scattergeo\":[{\"type\":\"scattergeo\",\"marker\":{\"colorbar\":{\"outlinewidth\":0,\"ticks\":\"\"}}}],\"scatterpolar\":[{\"type\":\"scatterpolar\",\"marker\":{\"colorbar\":{\"outlinewidth\":0,\"ticks\":\"\"}}}],\"histogram\":[{\"marker\":{\"pattern\":{\"fillmode\":\"overlay\",\"size\":10,\"solidity\":0.2}},\"type\":\"histogram\"}],\"scattergl\":[{\"type\":\"scattergl\",\"marker\":{\"colorbar\":{\"outlinewidth\":0,\"ticks\":\"\"}}}],\"scatter3d\":[{\"type\":\"scatter3d\",\"line\":{\"colorbar\":{\"outlinewidth\":0,\"ticks\":\"\"}},\"marker\":{\"colorbar\":{\"outlinewidth\":0,\"ticks\":\"\"}}}],\"scattermapbox\":[{\"type\":\"scattermapbox\",\"marker\":{\"colorbar\":{\"outlinewidth\":0,\"ticks\":\"\"}}}],\"scatterternary\":[{\"type\":\"scatterternary\",\"marker\":{\"colorbar\":{\"outlinewidth\":0,\"ticks\":\"\"}}}],\"scattercarpet\":[{\"type\":\"scattercarpet\",\"marker\":{\"colorbar\":{\"outlinewidth\":0,\"ticks\":\"\"}}}],\"carpet\":[{\"aaxis\":{\"endlinecolor\":\"#2a3f5f\",\"gridcolor\":\"white\",\"linecolor\":\"white\",\"minorgridcolor\":\"white\",\"startlinecolor\":\"#2a3f5f\"},\"baxis\":{\"endlinecolor\":\"#2a3f5f\",\"gridcolor\":\"white\",\"linecolor\":\"white\",\"minorgridcolor\":\"white\",\"startlinecolor\":\"#2a3f5f\"},\"type\":\"carpet\"}],\"table\":[{\"cells\":{\"fill\":{\"color\":\"#EBF0F8\"},\"line\":{\"color\":\"white\"}},\"header\":{\"fill\":{\"color\":\"#C8D4E3\"},\"line\":{\"color\":\"white\"}},\"type\":\"table\"}],\"barpolar\":[{\"marker\":{\"line\":{\"color\":\"#E5ECF6\",\"width\":0.5},\"pattern\":{\"fillmode\":\"overlay\",\"size\":10,\"solidity\":0.2}},\"type\":\"barpolar\"}],\"pie\":[{\"automargin\":true,\"type\":\"pie\"}]},\"layout\":{\"autotypenumbers\":\"strict\",\"colorway\":[\"#636efa\",\"#EF553B\",\"#00cc96\",\"#ab63fa\",\"#FFA15A\",\"#19d3f3\",\"#FF6692\",\"#B6E880\",\"#FF97FF\",\"#FECB52\"],\"font\":{\"color\":\"#2a3f5f\"},\"hovermode\":\"closest\",\"hoverlabel\":{\"align\":\"left\"},\"paper_bgcolor\":\"white\",\"plot_bgcolor\":\"#E5ECF6\",\"polar\":{\"bgcolor\":\"#E5ECF6\",\"angularaxis\":{\"gridcolor\":\"white\",\"linecolor\":\"white\",\"ticks\":\"\"},\"radialaxis\":{\"gridcolor\":\"white\",\"linecolor\":\"white\",\"ticks\":\"\"}},\"ternary\":{\"bgcolor\":\"#E5ECF6\",\"aaxis\":{\"gridcolor\":\"white\",\"linecolor\":\"white\",\"ticks\":\"\"},\"baxis\":{\"gridcolor\":\"white\",\"linecolor\":\"white\",\"ticks\":\"\"},\"caxis\":{\"gridcolor\":\"white\",\"linecolor\":\"white\",\"ticks\":\"\"}},\"coloraxis\":{\"colorbar\":{\"outlinewidth\":0,\"ticks\":\"\"}},\"colorscale\":{\"sequential\":[[0.0,\"#0d0887\"],[0.1111111111111111,\"#46039f\"],[0.2222222222222222,\"#7201a8\"],[0.3333333333333333,\"#9c179e\"],[0.4444444444444444,\"#bd3786\"],[0.5555555555555556,\"#d8576b\"],[0.6666666666666666,\"#ed7953\"],[0.7777777777777778,\"#fb9f3a\"],[0.8888888888888888,\"#fdca26\"],[1.0,\"#f0f921\"]],\"sequentialminus\":[[0.0,\"#0d0887\"],[0.1111111111111111,\"#46039f\"],[0.2222222222222222,\"#7201a8\"],[0.3333333333333333,\"#9c179e\"],[0.4444444444444444,\"#bd3786\"],[0.5555555555555556,\"#d8576b\"],[0.6666666666666666,\"#ed7953\"],[0.7777777777777778,\"#fb9f3a\"],[0.8888888888888888,\"#fdca26\"],[1.0,\"#f0f921\"]],\"diverging\":[[0,\"#8e0152\"],[0.1,\"#c51b7d\"],[0.2,\"#de77ae\"],[0.3,\"#f1b6da\"],[0.4,\"#fde0ef\"],[0.5,\"#f7f7f7\"],[0.6,\"#e6f5d0\"],[0.7,\"#b8e186\"],[0.8,\"#7fbc41\"],[0.9,\"#4d9221\"],[1,\"#276419\"]]},\"xaxis\":{\"gridcolor\":\"white\",\"linecolor\":\"white\",\"ticks\":\"\",\"title\":{\"standoff\":15},\"zerolinecolor\":\"white\",\"automargin\":true,\"zerolinewidth\":2},\"yaxis\":{\"gridcolor\":\"white\",\"linecolor\":\"white\",\"ticks\":\"\",\"title\":{\"standoff\":15},\"zerolinecolor\":\"white\",\"automargin\":true,\"zerolinewidth\":2},\"scene\":{\"xaxis\":{\"backgroundcolor\":\"#E5ECF6\",\"gridcolor\":\"white\",\"linecolor\":\"white\",\"showbackground\":true,\"ticks\":\"\",\"zerolinecolor\":\"white\",\"gridwidth\":2},\"yaxis\":{\"backgroundcolor\":\"#E5ECF6\",\"gridcolor\":\"white\",\"linecolor\":\"white\",\"showbackground\":true,\"ticks\":\"\",\"zerolinecolor\":\"white\",\"gridwidth\":2},\"zaxis\":{\"backgroundcolor\":\"#E5ECF6\",\"gridcolor\":\"white\",\"linecolor\":\"white\",\"showbackground\":true,\"ticks\":\"\",\"zerolinecolor\":\"white\",\"gridwidth\":2}},\"shapedefaults\":{\"line\":{\"color\":\"#2a3f5f\"}},\"annotationdefaults\":{\"arrowcolor\":\"#2a3f5f\",\"arrowhead\":0,\"arrowwidth\":1},\"geo\":{\"bgcolor\":\"white\",\"landcolor\":\"#E5ECF6\",\"subunitcolor\":\"white\",\"showland\":true,\"showlakes\":true,\"lakecolor\":\"white\"},\"title\":{\"x\":0.05},\"mapbox\":{\"style\":\"light\"}}},\"xaxis\":{\"anchor\":\"y\",\"domain\":[0.0,1.0],\"title\":{\"text\":\"Encoded Category\"}},\"yaxis\":{\"anchor\":\"x\",\"domain\":[0.0,1.0],\"title\":{\"text\":\"Count\"}},\"legend\":{\"tracegroupgap\":0,\"title\":{\"text\":\"Categories\"},\"orientation\":\"h\",\"x\":0.5,\"y\":1.15},\"title\":{\"text\":\"Histogram of Encoded Categories\"},\"barmode\":\"relative\",\"font\":{\"family\":\"Arial\",\"size\":12,\"color\":\"black\"},\"margin\":{\"t\":80,\"b\":80,\"l\":80,\"r\":80}},                        {\"responsive\": true}                    ).then(function(){\n",
       "                            \n",
       "var gd = document.getElementById('45c1f538-93a2-415c-a1f1-797534fb722d');\n",
       "var x = new MutationObserver(function (mutations, observer) {{\n",
       "        var display = window.getComputedStyle(gd).display;\n",
       "        if (!display || display === 'none') {{\n",
       "            console.log([gd, 'removed!']);\n",
       "            Plotly.purge(gd);\n",
       "            observer.disconnect();\n",
       "        }}\n",
       "}});\n",
       "\n",
       "// Listen for the removal of the full notebook cells\n",
       "var notebookContainer = gd.closest('#notebook-container');\n",
       "if (notebookContainer) {{\n",
       "    x.observe(notebookContainer, {childList: true});\n",
       "}}\n",
       "\n",
       "// Listen for the clearing of the current output cell\n",
       "var outputEl = gd.closest('.output');\n",
       "if (outputEl) {{\n",
       "    x.observe(outputEl, {childList: true});\n",
       "}}\n",
       "\n",
       "                        })                };                });            </script>        </div>"
      ]
     },
     "metadata": {},
     "output_type": "display_data"
    }
   ],
   "source": [
    "# Create the histogram using Plotly Express\n",
    "fig = px.histogram(df, x='Category_but_Encoded',\n",
    "                   title='Histogram of Encoded Categories',\n",
    "                   labels={'Category_but_Encoded': 'Encoded Category'},\n",
    "                   nbins=10,\n",
    "                   opacity=0.7,\n",
    "                   color_discrete_sequence=['#1f77b4']\n",
    "                   )\n",
    "\n",
    "fig.update_layout(\n",
    "    xaxis_title='Encoded Category',\n",
    "    yaxis_title='Count',\n",
    "    font=dict(family='Arial', size=12, color='black'),\n",
    "    legend_title='Categories',\n",
    "    legend=dict(orientation='h', x=0.5, y=1.15),\n",
    "    margin=dict(t=80, b=80, l=80, r=80),\n",
    ")\n",
    "\n",
    "# Show the interactive plot\n",
    "fig.show()"
   ]
  },
  {
   "cell_type": "code",
   "execution_count": 136,
   "id": "048805a9",
   "metadata": {},
   "outputs": [],
   "source": [
    "# Vectorizing the cleaned columns\n",
    "text = df['cleaned_text'].values\n",
    "target = df['Category_but_Encoded'].values\n",
    "word_vectorizer = TfidfVectorizer(\n",
    "    sublinear_tf=True,\n",
    "    stop_words='english',\n",
    "    max_features=1500)\n",
    "word_vectorizer.fit(text)\n",
    "WordFeatures = word_vectorizer.transform(text)"
   ]
  },
  {
   "cell_type": "code",
   "execution_count": 137,
   "id": "a641da65",
   "metadata": {
    "scrolled": true
   },
   "outputs": [
    {
     "data": {
      "text/plain": [
       "(962, 1500)"
      ]
     },
     "execution_count": 137,
     "metadata": {},
     "output_type": "execute_result"
    }
   ],
   "source": [
    "WordFeatures.shape"
   ]
  },
  {
   "cell_type": "markdown",
   "id": "16820f09",
   "metadata": {},
   "source": [
    "# Model Training"
   ]
  },
  {
   "cell_type": "code",
   "execution_count": 138,
   "id": "9cba30b6",
   "metadata": {},
   "outputs": [],
   "source": [
    "# For model training\n",
    "from sklearn.model_selection import train_test_split\n",
    "from scipy.sparse import hstack\n",
    "from sklearn.multiclass import OneVsRestClassifier\n",
    "from sklearn.neighbors import KNeighborsClassifier\n",
    "from sklearn import metrics"
   ]
  },
  {
   "cell_type": "code",
   "execution_count": 139,
   "id": "5dd06ec4",
   "metadata": {},
   "outputs": [],
   "source": [
    "# Doing train test split\n",
    "X_train, X_test, y_train, y_test = train_test_split(WordFeatures, target, random_state=24, test_size=0.2)"
   ]
  },
  {
   "cell_type": "code",
   "execution_count": 140,
   "id": "326b1c29",
   "metadata": {},
   "outputs": [
    {
     "data": {
      "text/plain": [
       "((769, 1500), (193, 1500), (769,), (193,))"
      ]
     },
     "execution_count": 140,
     "metadata": {},
     "output_type": "execute_result"
    }
   ],
   "source": [
    "X_train.shape, X_test.shape, y_train.shape, y_test.shape"
   ]
  },
  {
   "cell_type": "code",
   "execution_count": 141,
   "id": "657caa45",
   "metadata": {},
   "outputs": [
    {
     "data": {
      "text/html": [
       "<style>#sk-container-id-2 {color: black;background-color: white;}#sk-container-id-2 pre{padding: 0;}#sk-container-id-2 div.sk-toggleable {background-color: white;}#sk-container-id-2 label.sk-toggleable__label {cursor: pointer;display: block;width: 100%;margin-bottom: 0;padding: 0.3em;box-sizing: border-box;text-align: center;}#sk-container-id-2 label.sk-toggleable__label-arrow:before {content: \"▸\";float: left;margin-right: 0.25em;color: #696969;}#sk-container-id-2 label.sk-toggleable__label-arrow:hover:before {color: black;}#sk-container-id-2 div.sk-estimator:hover label.sk-toggleable__label-arrow:before {color: black;}#sk-container-id-2 div.sk-toggleable__content {max-height: 0;max-width: 0;overflow: hidden;text-align: left;background-color: #f0f8ff;}#sk-container-id-2 div.sk-toggleable__content pre {margin: 0.2em;color: black;border-radius: 0.25em;background-color: #f0f8ff;}#sk-container-id-2 input.sk-toggleable__control:checked~div.sk-toggleable__content {max-height: 200px;max-width: 100%;overflow: auto;}#sk-container-id-2 input.sk-toggleable__control:checked~label.sk-toggleable__label-arrow:before {content: \"▾\";}#sk-container-id-2 div.sk-estimator input.sk-toggleable__control:checked~label.sk-toggleable__label {background-color: #d4ebff;}#sk-container-id-2 div.sk-label input.sk-toggleable__control:checked~label.sk-toggleable__label {background-color: #d4ebff;}#sk-container-id-2 input.sk-hidden--visually {border: 0;clip: rect(1px 1px 1px 1px);clip: rect(1px, 1px, 1px, 1px);height: 1px;margin: -1px;overflow: hidden;padding: 0;position: absolute;width: 1px;}#sk-container-id-2 div.sk-estimator {font-family: monospace;background-color: #f0f8ff;border: 1px dotted black;border-radius: 0.25em;box-sizing: border-box;margin-bottom: 0.5em;}#sk-container-id-2 div.sk-estimator:hover {background-color: #d4ebff;}#sk-container-id-2 div.sk-parallel-item::after {content: \"\";width: 100%;border-bottom: 1px solid gray;flex-grow: 1;}#sk-container-id-2 div.sk-label:hover label.sk-toggleable__label {background-color: #d4ebff;}#sk-container-id-2 div.sk-serial::before {content: \"\";position: absolute;border-left: 1px solid gray;box-sizing: border-box;top: 0;bottom: 0;left: 50%;z-index: 0;}#sk-container-id-2 div.sk-serial {display: flex;flex-direction: column;align-items: center;background-color: white;padding-right: 0.2em;padding-left: 0.2em;position: relative;}#sk-container-id-2 div.sk-item {position: relative;z-index: 1;}#sk-container-id-2 div.sk-parallel {display: flex;align-items: stretch;justify-content: center;background-color: white;position: relative;}#sk-container-id-2 div.sk-item::before, #sk-container-id-2 div.sk-parallel-item::before {content: \"\";position: absolute;border-left: 1px solid gray;box-sizing: border-box;top: 0;bottom: 0;left: 50%;z-index: -1;}#sk-container-id-2 div.sk-parallel-item {display: flex;flex-direction: column;z-index: 1;position: relative;background-color: white;}#sk-container-id-2 div.sk-parallel-item:first-child::after {align-self: flex-end;width: 50%;}#sk-container-id-2 div.sk-parallel-item:last-child::after {align-self: flex-start;width: 50%;}#sk-container-id-2 div.sk-parallel-item:only-child::after {width: 0;}#sk-container-id-2 div.sk-dashed-wrapped {border: 1px dashed gray;margin: 0 0.4em 0.5em 0.4em;box-sizing: border-box;padding-bottom: 0.4em;background-color: white;}#sk-container-id-2 div.sk-label label {font-family: monospace;font-weight: bold;display: inline-block;line-height: 1.2em;}#sk-container-id-2 div.sk-label-container {text-align: center;}#sk-container-id-2 div.sk-container {/* jupyter's `normalize.less` sets `[hidden] { display: none; }` but bootstrap.min.css set `[hidden] { display: none !important; }` so we also need the `!important` here to be able to override the default hidden behavior on the sphinx rendered scikit-learn.org. See: https://github.com/scikit-learn/scikit-learn/issues/21755 */display: inline-block !important;position: relative;}#sk-container-id-2 div.sk-text-repr-fallback {display: none;}</style><div id=\"sk-container-id-2\" class=\"sk-top-container\"><div class=\"sk-text-repr-fallback\"><pre>OneVsRestClassifier(estimator=KNeighborsClassifier())</pre><b>In a Jupyter environment, please rerun this cell to show the HTML representation or trust the notebook. <br />On GitHub, the HTML representation is unable to render, please try loading this page with nbviewer.org.</b></div><div class=\"sk-container\" hidden><div class=\"sk-item sk-dashed-wrapped\"><div class=\"sk-label-container\"><div class=\"sk-label sk-toggleable\"><input class=\"sk-toggleable__control sk-hidden--visually\" id=\"sk-estimator-id-4\" type=\"checkbox\" ><label for=\"sk-estimator-id-4\" class=\"sk-toggleable__label sk-toggleable__label-arrow\">OneVsRestClassifier</label><div class=\"sk-toggleable__content\"><pre>OneVsRestClassifier(estimator=KNeighborsClassifier())</pre></div></div></div><div class=\"sk-parallel\"><div class=\"sk-parallel-item\"><div class=\"sk-item\"><div class=\"sk-label-container\"><div class=\"sk-label sk-toggleable\"><input class=\"sk-toggleable__control sk-hidden--visually\" id=\"sk-estimator-id-5\" type=\"checkbox\" ><label for=\"sk-estimator-id-5\" class=\"sk-toggleable__label sk-toggleable__label-arrow\">estimator: KNeighborsClassifier</label><div class=\"sk-toggleable__content\"><pre>KNeighborsClassifier()</pre></div></div></div><div class=\"sk-serial\"><div class=\"sk-item\"><div class=\"sk-estimator sk-toggleable\"><input class=\"sk-toggleable__control sk-hidden--visually\" id=\"sk-estimator-id-6\" type=\"checkbox\" ><label for=\"sk-estimator-id-6\" class=\"sk-toggleable__label sk-toggleable__label-arrow\">KNeighborsClassifier</label><div class=\"sk-toggleable__content\"><pre>KNeighborsClassifier()</pre></div></div></div></div></div></div></div></div></div></div>"
      ],
      "text/plain": [
       "OneVsRestClassifier(estimator=KNeighborsClassifier())"
      ]
     },
     "execution_count": 141,
     "metadata": {},
     "output_type": "execute_result"
    }
   ],
   "source": [
    "# Model Training\n",
    "model = OneVsRestClassifier(KNeighborsClassifier())\n",
    "model.fit(X_train, y_train)"
   ]
  },
  {
   "cell_type": "code",
   "execution_count": 142,
   "id": "c659d3fe",
   "metadata": {},
   "outputs": [],
   "source": [
    "# Prediction\n",
    "y_pred = model.predict(X_test)"
   ]
  },
  {
   "cell_type": "code",
   "execution_count": 143,
   "id": "d4170a59",
   "metadata": {
    "scrolled": true
   },
   "outputs": [
    {
     "name": "stdout",
     "output_type": "stream",
     "text": [
      "Training Accuracy   :- 98.96 %\n",
      "Validation Accuracy :- 96.89 %\n"
     ]
    }
   ],
   "source": [
    "print(\"Training Accuracy   :-\", (model.score(X_train, y_train)*100).round(2) ,\"%\")\n",
    "print(\"Validation Accuracy :-\", (model.score(X_test, y_test)*100).round(2) ,\"%\")"
   ]
  },
  {
   "cell_type": "code",
   "execution_count": 144,
   "id": "01a94f5c",
   "metadata": {},
   "outputs": [
    {
     "name": "stdout",
     "output_type": "stream",
     "text": [
      "              precision    recall  f1-score   support\n",
      "\n",
      "           0       1.00      1.00      1.00         4\n",
      "           1       1.00      1.00      1.00         9\n",
      "           2       1.00      1.00      1.00         6\n",
      "           3       1.00      1.00      1.00         9\n",
      "           4       1.00      1.00      1.00         3\n",
      "           5       1.00      1.00      1.00         3\n",
      "           6       1.00      1.00      1.00         7\n",
      "           7       1.00      1.00      1.00         6\n",
      "           8       1.00      1.00      1.00        10\n",
      "           9       1.00      1.00      1.00         6\n",
      "          10       1.00      1.00      1.00        10\n",
      "          11       1.00      1.00      1.00         8\n",
      "          12       1.00      1.00      1.00         6\n",
      "          13       1.00      1.00      1.00         6\n",
      "          14       1.00      1.00      1.00         8\n",
      "          15       1.00      1.00      1.00        16\n",
      "          16       1.00      1.00      1.00         7\n",
      "          17       1.00      1.00      1.00         6\n",
      "          18       1.00      1.00      1.00         8\n",
      "          19       1.00      1.00      1.00         8\n",
      "          20       1.00      1.00      1.00        11\n",
      "          21       1.00      1.00      1.00         4\n",
      "          22       1.00      1.00      1.00         9\n",
      "          23       1.00      1.00      1.00        13\n",
      "          24       1.00      1.00      1.00        10\n",
      "\n",
      "    accuracy                           1.00       193\n",
      "   macro avg       1.00      1.00      1.00       193\n",
      "weighted avg       1.00      1.00      1.00       193\n",
      "\n"
     ]
    }
   ],
   "source": [
    "print(metrics.classification_report(y_test, y_test))"
   ]
  },
  {
   "cell_type": "code",
   "execution_count": 145,
   "id": "c4db1f27",
   "metadata": {},
   "outputs": [],
   "source": [
    "stopwords = nltk.corpus.stopwords.words('english')\n",
    "words_new = []\n",
    "for word in words:\n",
    "    if word not in stopwords:\n",
    "        words_new.append(word)"
   ]
  },
  {
   "cell_type": "code",
   "execution_count": 146,
   "id": "1499a2c1",
   "metadata": {},
   "outputs": [
    {
     "name": "stderr",
     "output_type": "stream",
     "text": [
      "[nltk_data] Downloading package omw-1.4 to C:\\Users\\MD\n",
      "[nltk_data]     KAMALUDDIN\\AppData\\Roaming\\nltk_data...\n",
      "[nltk_data]   Package omw-1.4 is already up-to-date!\n"
     ]
    },
    {
     "data": {
      "text/plain": [
       "True"
      ]
     },
     "execution_count": 146,
     "metadata": {},
     "output_type": "execute_result"
    }
   ],
   "source": [
    "import nltk\n",
    "nltk.download('omw-1.4')"
   ]
  },
  {
   "cell_type": "code",
   "execution_count": 147,
   "id": "b7439050",
   "metadata": {},
   "outputs": [
    {
     "name": "stderr",
     "output_type": "stream",
     "text": [
      "[nltk_data] Downloading package wordnet to C:\\Users\\MD\n",
      "[nltk_data]     KAMALUDDIN\\AppData\\Roaming\\nltk_data...\n",
      "[nltk_data]   Package wordnet is already up-to-date!\n"
     ]
    }
   ],
   "source": [
    "# Performing Lemmatization\n",
    "from nltk.stem import WordNetLemmatizer \n",
    "nltk.download('wordnet')\n",
    "wn = WordNetLemmatizer() \n",
    "lem_words=[]\n",
    "for word in words_new:\n",
    "    word=wn.lemmatize(word)\n",
    "    lem_words.append(word)"
   ]
  },
  {
   "cell_type": "code",
   "execution_count": 148,
   "id": "3f489031",
   "metadata": {},
   "outputs": [
    {
     "data": {
      "text/plain": [
       "['skill', 'programming', 'language', 'python', 'panda']"
      ]
     },
     "execution_count": 148,
     "metadata": {},
     "output_type": "execute_result"
    }
   ],
   "source": [
    "lem_words[0:5]"
   ]
  },
  {
   "cell_type": "code",
   "execution_count": 149,
   "id": "d97167ee",
   "metadata": {
    "scrolled": false
   },
   "outputs": [
    {
     "name": "stdout",
     "output_type": "stream",
     "text": [
      "Number of words Lemmatized= 291\n",
      "Number of words not Lemmatized= 1541\n"
     ]
    }
   ],
   "source": [
    "same=0\n",
    "diff=0\n",
    "for i in range(0,1832):\n",
    "    if(lem_words[i]==words_new[i]):\n",
    "        same=same+1\n",
    "    elif(lem_words[i]!=words_new[i]):\n",
    "        diff=diff+1\n",
    "print('Number of words Lemmatized=', diff)\n",
    "print('Number of words not Lemmatized=', same)"
   ]
  },
  {
   "cell_type": "code",
   "execution_count": 150,
   "id": "13c31773",
   "metadata": {},
   "outputs": [],
   "source": [
    "# Calculate the frequency distribution\n",
    "freq_dist = nltk.FreqDist(lem_words)\n",
    "\n",
    "# Get the top 50 most common words\n",
    "common_words = freq_dist.most_common(50)\n",
    "\n",
    "# Extract words and frequencies for the plot\n",
    "words, frequencies = zip(*common_words)"
   ]
  },
  {
   "cell_type": "code",
   "execution_count": 151,
   "id": "ab498afd",
   "metadata": {
    "scrolled": true
   },
   "outputs": [
    {
     "data": {
      "application/vnd.plotly.v1+json": {
       "config": {
        "plotlyServerURL": "https://plot.ly"
       },
       "data": [
        {
         "marker": {
          "color": "rgb(26, 118, 255)"
         },
         "mode": "lines+markers",
         "type": "scatter",
         "x": [
          "project",
          "exprience",
          "company",
          "month",
          "detail",
          "description",
          "team",
          "data",
          "1",
          "management",
          "system",
          "skill",
          "database",
          "6",
          "year",
          "client",
          "maharashtra",
          "application",
          "service",
          "testing",
          "technology",
          "test",
          "requirement",
          "business",
          "report",
          "le",
          "development",
          "developer",
          "server",
          "customer",
          "ltd",
          "process",
          "responsibility",
          "using",
          "sql",
          "january",
          "java",
          "engineering",
          "work",
          "pune",
          "role",
          "c",
          "user",
          "operation",
          "pvt",
          "software",
          "sale",
          "activity",
          "environment",
          "design"
         ],
         "y": [
          4063,
          3829,
          3635,
          3335,
          3132,
          3037,
          2149,
          2138,
          2134,
          2024,
          1944,
          1906,
          1529,
          1499,
          1483,
          1466,
          1449,
          1379,
          1375,
          1349,
          1340,
          1297,
          1274,
          1261,
          1219,
          1217,
          1204,
          1182,
          1179,
          1178,
          1171,
          1162,
          1133,
          1124,
          1116,
          1090,
          1076,
          1047,
          1036,
          1014,
          964,
          951,
          916,
          895,
          879,
          869,
          845,
          832,
          800,
          786
         ]
        }
       ],
       "layout": {
        "font": {
         "family": "Arial",
         "size": 12
        },
        "plot_bgcolor": "white",
        "template": {
         "data": {
          "bar": [
           {
            "error_x": {
             "color": "#2a3f5f"
            },
            "error_y": {
             "color": "#2a3f5f"
            },
            "marker": {
             "line": {
              "color": "#E5ECF6",
              "width": 0.5
             },
             "pattern": {
              "fillmode": "overlay",
              "size": 10,
              "solidity": 0.2
             }
            },
            "type": "bar"
           }
          ],
          "barpolar": [
           {
            "marker": {
             "line": {
              "color": "#E5ECF6",
              "width": 0.5
             },
             "pattern": {
              "fillmode": "overlay",
              "size": 10,
              "solidity": 0.2
             }
            },
            "type": "barpolar"
           }
          ],
          "carpet": [
           {
            "aaxis": {
             "endlinecolor": "#2a3f5f",
             "gridcolor": "white",
             "linecolor": "white",
             "minorgridcolor": "white",
             "startlinecolor": "#2a3f5f"
            },
            "baxis": {
             "endlinecolor": "#2a3f5f",
             "gridcolor": "white",
             "linecolor": "white",
             "minorgridcolor": "white",
             "startlinecolor": "#2a3f5f"
            },
            "type": "carpet"
           }
          ],
          "choropleth": [
           {
            "colorbar": {
             "outlinewidth": 0,
             "ticks": ""
            },
            "type": "choropleth"
           }
          ],
          "contour": [
           {
            "colorbar": {
             "outlinewidth": 0,
             "ticks": ""
            },
            "colorscale": [
             [
              0,
              "#0d0887"
             ],
             [
              0.1111111111111111,
              "#46039f"
             ],
             [
              0.2222222222222222,
              "#7201a8"
             ],
             [
              0.3333333333333333,
              "#9c179e"
             ],
             [
              0.4444444444444444,
              "#bd3786"
             ],
             [
              0.5555555555555556,
              "#d8576b"
             ],
             [
              0.6666666666666666,
              "#ed7953"
             ],
             [
              0.7777777777777778,
              "#fb9f3a"
             ],
             [
              0.8888888888888888,
              "#fdca26"
             ],
             [
              1,
              "#f0f921"
             ]
            ],
            "type": "contour"
           }
          ],
          "contourcarpet": [
           {
            "colorbar": {
             "outlinewidth": 0,
             "ticks": ""
            },
            "type": "contourcarpet"
           }
          ],
          "heatmap": [
           {
            "colorbar": {
             "outlinewidth": 0,
             "ticks": ""
            },
            "colorscale": [
             [
              0,
              "#0d0887"
             ],
             [
              0.1111111111111111,
              "#46039f"
             ],
             [
              0.2222222222222222,
              "#7201a8"
             ],
             [
              0.3333333333333333,
              "#9c179e"
             ],
             [
              0.4444444444444444,
              "#bd3786"
             ],
             [
              0.5555555555555556,
              "#d8576b"
             ],
             [
              0.6666666666666666,
              "#ed7953"
             ],
             [
              0.7777777777777778,
              "#fb9f3a"
             ],
             [
              0.8888888888888888,
              "#fdca26"
             ],
             [
              1,
              "#f0f921"
             ]
            ],
            "type": "heatmap"
           }
          ],
          "heatmapgl": [
           {
            "colorbar": {
             "outlinewidth": 0,
             "ticks": ""
            },
            "colorscale": [
             [
              0,
              "#0d0887"
             ],
             [
              0.1111111111111111,
              "#46039f"
             ],
             [
              0.2222222222222222,
              "#7201a8"
             ],
             [
              0.3333333333333333,
              "#9c179e"
             ],
             [
              0.4444444444444444,
              "#bd3786"
             ],
             [
              0.5555555555555556,
              "#d8576b"
             ],
             [
              0.6666666666666666,
              "#ed7953"
             ],
             [
              0.7777777777777778,
              "#fb9f3a"
             ],
             [
              0.8888888888888888,
              "#fdca26"
             ],
             [
              1,
              "#f0f921"
             ]
            ],
            "type": "heatmapgl"
           }
          ],
          "histogram": [
           {
            "marker": {
             "pattern": {
              "fillmode": "overlay",
              "size": 10,
              "solidity": 0.2
             }
            },
            "type": "histogram"
           }
          ],
          "histogram2d": [
           {
            "colorbar": {
             "outlinewidth": 0,
             "ticks": ""
            },
            "colorscale": [
             [
              0,
              "#0d0887"
             ],
             [
              0.1111111111111111,
              "#46039f"
             ],
             [
              0.2222222222222222,
              "#7201a8"
             ],
             [
              0.3333333333333333,
              "#9c179e"
             ],
             [
              0.4444444444444444,
              "#bd3786"
             ],
             [
              0.5555555555555556,
              "#d8576b"
             ],
             [
              0.6666666666666666,
              "#ed7953"
             ],
             [
              0.7777777777777778,
              "#fb9f3a"
             ],
             [
              0.8888888888888888,
              "#fdca26"
             ],
             [
              1,
              "#f0f921"
             ]
            ],
            "type": "histogram2d"
           }
          ],
          "histogram2dcontour": [
           {
            "colorbar": {
             "outlinewidth": 0,
             "ticks": ""
            },
            "colorscale": [
             [
              0,
              "#0d0887"
             ],
             [
              0.1111111111111111,
              "#46039f"
             ],
             [
              0.2222222222222222,
              "#7201a8"
             ],
             [
              0.3333333333333333,
              "#9c179e"
             ],
             [
              0.4444444444444444,
              "#bd3786"
             ],
             [
              0.5555555555555556,
              "#d8576b"
             ],
             [
              0.6666666666666666,
              "#ed7953"
             ],
             [
              0.7777777777777778,
              "#fb9f3a"
             ],
             [
              0.8888888888888888,
              "#fdca26"
             ],
             [
              1,
              "#f0f921"
             ]
            ],
            "type": "histogram2dcontour"
           }
          ],
          "mesh3d": [
           {
            "colorbar": {
             "outlinewidth": 0,
             "ticks": ""
            },
            "type": "mesh3d"
           }
          ],
          "parcoords": [
           {
            "line": {
             "colorbar": {
              "outlinewidth": 0,
              "ticks": ""
             }
            },
            "type": "parcoords"
           }
          ],
          "pie": [
           {
            "automargin": true,
            "type": "pie"
           }
          ],
          "scatter": [
           {
            "fillpattern": {
             "fillmode": "overlay",
             "size": 10,
             "solidity": 0.2
            },
            "type": "scatter"
           }
          ],
          "scatter3d": [
           {
            "line": {
             "colorbar": {
              "outlinewidth": 0,
              "ticks": ""
             }
            },
            "marker": {
             "colorbar": {
              "outlinewidth": 0,
              "ticks": ""
             }
            },
            "type": "scatter3d"
           }
          ],
          "scattercarpet": [
           {
            "marker": {
             "colorbar": {
              "outlinewidth": 0,
              "ticks": ""
             }
            },
            "type": "scattercarpet"
           }
          ],
          "scattergeo": [
           {
            "marker": {
             "colorbar": {
              "outlinewidth": 0,
              "ticks": ""
             }
            },
            "type": "scattergeo"
           }
          ],
          "scattergl": [
           {
            "marker": {
             "colorbar": {
              "outlinewidth": 0,
              "ticks": ""
             }
            },
            "type": "scattergl"
           }
          ],
          "scattermapbox": [
           {
            "marker": {
             "colorbar": {
              "outlinewidth": 0,
              "ticks": ""
             }
            },
            "type": "scattermapbox"
           }
          ],
          "scatterpolar": [
           {
            "marker": {
             "colorbar": {
              "outlinewidth": 0,
              "ticks": ""
             }
            },
            "type": "scatterpolar"
           }
          ],
          "scatterpolargl": [
           {
            "marker": {
             "colorbar": {
              "outlinewidth": 0,
              "ticks": ""
             }
            },
            "type": "scatterpolargl"
           }
          ],
          "scatterternary": [
           {
            "marker": {
             "colorbar": {
              "outlinewidth": 0,
              "ticks": ""
             }
            },
            "type": "scatterternary"
           }
          ],
          "surface": [
           {
            "colorbar": {
             "outlinewidth": 0,
             "ticks": ""
            },
            "colorscale": [
             [
              0,
              "#0d0887"
             ],
             [
              0.1111111111111111,
              "#46039f"
             ],
             [
              0.2222222222222222,
              "#7201a8"
             ],
             [
              0.3333333333333333,
              "#9c179e"
             ],
             [
              0.4444444444444444,
              "#bd3786"
             ],
             [
              0.5555555555555556,
              "#d8576b"
             ],
             [
              0.6666666666666666,
              "#ed7953"
             ],
             [
              0.7777777777777778,
              "#fb9f3a"
             ],
             [
              0.8888888888888888,
              "#fdca26"
             ],
             [
              1,
              "#f0f921"
             ]
            ],
            "type": "surface"
           }
          ],
          "table": [
           {
            "cells": {
             "fill": {
              "color": "#EBF0F8"
             },
             "line": {
              "color": "white"
             }
            },
            "header": {
             "fill": {
              "color": "#C8D4E3"
             },
             "line": {
              "color": "white"
             }
            },
            "type": "table"
           }
          ]
         },
         "layout": {
          "annotationdefaults": {
           "arrowcolor": "#2a3f5f",
           "arrowhead": 0,
           "arrowwidth": 1
          },
          "autotypenumbers": "strict",
          "coloraxis": {
           "colorbar": {
            "outlinewidth": 0,
            "ticks": ""
           }
          },
          "colorscale": {
           "diverging": [
            [
             0,
             "#8e0152"
            ],
            [
             0.1,
             "#c51b7d"
            ],
            [
             0.2,
             "#de77ae"
            ],
            [
             0.3,
             "#f1b6da"
            ],
            [
             0.4,
             "#fde0ef"
            ],
            [
             0.5,
             "#f7f7f7"
            ],
            [
             0.6,
             "#e6f5d0"
            ],
            [
             0.7,
             "#b8e186"
            ],
            [
             0.8,
             "#7fbc41"
            ],
            [
             0.9,
             "#4d9221"
            ],
            [
             1,
             "#276419"
            ]
           ],
           "sequential": [
            [
             0,
             "#0d0887"
            ],
            [
             0.1111111111111111,
             "#46039f"
            ],
            [
             0.2222222222222222,
             "#7201a8"
            ],
            [
             0.3333333333333333,
             "#9c179e"
            ],
            [
             0.4444444444444444,
             "#bd3786"
            ],
            [
             0.5555555555555556,
             "#d8576b"
            ],
            [
             0.6666666666666666,
             "#ed7953"
            ],
            [
             0.7777777777777778,
             "#fb9f3a"
            ],
            [
             0.8888888888888888,
             "#fdca26"
            ],
            [
             1,
             "#f0f921"
            ]
           ],
           "sequentialminus": [
            [
             0,
             "#0d0887"
            ],
            [
             0.1111111111111111,
             "#46039f"
            ],
            [
             0.2222222222222222,
             "#7201a8"
            ],
            [
             0.3333333333333333,
             "#9c179e"
            ],
            [
             0.4444444444444444,
             "#bd3786"
            ],
            [
             0.5555555555555556,
             "#d8576b"
            ],
            [
             0.6666666666666666,
             "#ed7953"
            ],
            [
             0.7777777777777778,
             "#fb9f3a"
            ],
            [
             0.8888888888888888,
             "#fdca26"
            ],
            [
             1,
             "#f0f921"
            ]
           ]
          },
          "colorway": [
           "#636efa",
           "#EF553B",
           "#00cc96",
           "#ab63fa",
           "#FFA15A",
           "#19d3f3",
           "#FF6692",
           "#B6E880",
           "#FF97FF",
           "#FECB52"
          ],
          "font": {
           "color": "#2a3f5f"
          },
          "geo": {
           "bgcolor": "white",
           "lakecolor": "white",
           "landcolor": "#E5ECF6",
           "showlakes": true,
           "showland": true,
           "subunitcolor": "white"
          },
          "hoverlabel": {
           "align": "left"
          },
          "hovermode": "closest",
          "mapbox": {
           "style": "light"
          },
          "paper_bgcolor": "white",
          "plot_bgcolor": "#E5ECF6",
          "polar": {
           "angularaxis": {
            "gridcolor": "white",
            "linecolor": "white",
            "ticks": ""
           },
           "bgcolor": "#E5ECF6",
           "radialaxis": {
            "gridcolor": "white",
            "linecolor": "white",
            "ticks": ""
           }
          },
          "scene": {
           "xaxis": {
            "backgroundcolor": "#E5ECF6",
            "gridcolor": "white",
            "gridwidth": 2,
            "linecolor": "white",
            "showbackground": true,
            "ticks": "",
            "zerolinecolor": "white"
           },
           "yaxis": {
            "backgroundcolor": "#E5ECF6",
            "gridcolor": "white",
            "gridwidth": 2,
            "linecolor": "white",
            "showbackground": true,
            "ticks": "",
            "zerolinecolor": "white"
           },
           "zaxis": {
            "backgroundcolor": "#E5ECF6",
            "gridcolor": "white",
            "gridwidth": 2,
            "linecolor": "white",
            "showbackground": true,
            "ticks": "",
            "zerolinecolor": "white"
           }
          },
          "shapedefaults": {
           "line": {
            "color": "#2a3f5f"
           }
          },
          "ternary": {
           "aaxis": {
            "gridcolor": "white",
            "linecolor": "white",
            "ticks": ""
           },
           "baxis": {
            "gridcolor": "white",
            "linecolor": "white",
            "ticks": ""
           },
           "bgcolor": "#E5ECF6",
           "caxis": {
            "gridcolor": "white",
            "linecolor": "white",
            "ticks": ""
           }
          },
          "title": {
           "x": 0.05
          },
          "xaxis": {
           "automargin": true,
           "gridcolor": "white",
           "linecolor": "white",
           "ticks": "",
           "title": {
            "standoff": 15
           },
           "zerolinecolor": "white",
           "zerolinewidth": 2
          },
          "yaxis": {
           "automargin": true,
           "gridcolor": "white",
           "linecolor": "white",
           "ticks": "",
           "title": {
            "standoff": 15
           },
           "zerolinecolor": "white",
           "zerolinewidth": 2
          }
         }
        },
        "title": {
         "text": "Top 50 Most Common Words in the Text"
        },
        "xaxis": {
         "title": {
          "text": "Words"
         }
        },
        "yaxis": {
         "title": {
          "text": "Frequency"
         }
        }
       }
      },
      "text/html": [
       "<div>                            <div id=\"5374dd3d-cb94-42df-8606-4aedeff30db2\" class=\"plotly-graph-div\" style=\"height:525px; width:100%;\"></div>            <script type=\"text/javascript\">                require([\"plotly\"], function(Plotly) {                    window.PLOTLYENV=window.PLOTLYENV || {};                                    if (document.getElementById(\"5374dd3d-cb94-42df-8606-4aedeff30db2\")) {                    Plotly.newPlot(                        \"5374dd3d-cb94-42df-8606-4aedeff30db2\",                        [{\"marker\":{\"color\":\"rgb(26, 118, 255)\"},\"mode\":\"lines+markers\",\"x\":[\"project\",\"exprience\",\"company\",\"month\",\"detail\",\"description\",\"team\",\"data\",\"1\",\"management\",\"system\",\"skill\",\"database\",\"6\",\"year\",\"client\",\"maharashtra\",\"application\",\"service\",\"testing\",\"technology\",\"test\",\"requirement\",\"business\",\"report\",\"le\",\"development\",\"developer\",\"server\",\"customer\",\"ltd\",\"process\",\"responsibility\",\"using\",\"sql\",\"january\",\"java\",\"engineering\",\"work\",\"pune\",\"role\",\"c\",\"user\",\"operation\",\"pvt\",\"software\",\"sale\",\"activity\",\"environment\",\"design\"],\"y\":[4063,3829,3635,3335,3132,3037,2149,2138,2134,2024,1944,1906,1529,1499,1483,1466,1449,1379,1375,1349,1340,1297,1274,1261,1219,1217,1204,1182,1179,1178,1171,1162,1133,1124,1116,1090,1076,1047,1036,1014,964,951,916,895,879,869,845,832,800,786],\"type\":\"scatter\"}],                        {\"template\":{\"data\":{\"histogram2dcontour\":[{\"type\":\"histogram2dcontour\",\"colorbar\":{\"outlinewidth\":0,\"ticks\":\"\"},\"colorscale\":[[0.0,\"#0d0887\"],[0.1111111111111111,\"#46039f\"],[0.2222222222222222,\"#7201a8\"],[0.3333333333333333,\"#9c179e\"],[0.4444444444444444,\"#bd3786\"],[0.5555555555555556,\"#d8576b\"],[0.6666666666666666,\"#ed7953\"],[0.7777777777777778,\"#fb9f3a\"],[0.8888888888888888,\"#fdca26\"],[1.0,\"#f0f921\"]]}],\"choropleth\":[{\"type\":\"choropleth\",\"colorbar\":{\"outlinewidth\":0,\"ticks\":\"\"}}],\"histogram2d\":[{\"type\":\"histogram2d\",\"colorbar\":{\"outlinewidth\":0,\"ticks\":\"\"},\"colorscale\":[[0.0,\"#0d0887\"],[0.1111111111111111,\"#46039f\"],[0.2222222222222222,\"#7201a8\"],[0.3333333333333333,\"#9c179e\"],[0.4444444444444444,\"#bd3786\"],[0.5555555555555556,\"#d8576b\"],[0.6666666666666666,\"#ed7953\"],[0.7777777777777778,\"#fb9f3a\"],[0.8888888888888888,\"#fdca26\"],[1.0,\"#f0f921\"]]}],\"heatmap\":[{\"type\":\"heatmap\",\"colorbar\":{\"outlinewidth\":0,\"ticks\":\"\"},\"colorscale\":[[0.0,\"#0d0887\"],[0.1111111111111111,\"#46039f\"],[0.2222222222222222,\"#7201a8\"],[0.3333333333333333,\"#9c179e\"],[0.4444444444444444,\"#bd3786\"],[0.5555555555555556,\"#d8576b\"],[0.6666666666666666,\"#ed7953\"],[0.7777777777777778,\"#fb9f3a\"],[0.8888888888888888,\"#fdca26\"],[1.0,\"#f0f921\"]]}],\"heatmapgl\":[{\"type\":\"heatmapgl\",\"colorbar\":{\"outlinewidth\":0,\"ticks\":\"\"},\"colorscale\":[[0.0,\"#0d0887\"],[0.1111111111111111,\"#46039f\"],[0.2222222222222222,\"#7201a8\"],[0.3333333333333333,\"#9c179e\"],[0.4444444444444444,\"#bd3786\"],[0.5555555555555556,\"#d8576b\"],[0.6666666666666666,\"#ed7953\"],[0.7777777777777778,\"#fb9f3a\"],[0.8888888888888888,\"#fdca26\"],[1.0,\"#f0f921\"]]}],\"contourcarpet\":[{\"type\":\"contourcarpet\",\"colorbar\":{\"outlinewidth\":0,\"ticks\":\"\"}}],\"contour\":[{\"type\":\"contour\",\"colorbar\":{\"outlinewidth\":0,\"ticks\":\"\"},\"colorscale\":[[0.0,\"#0d0887\"],[0.1111111111111111,\"#46039f\"],[0.2222222222222222,\"#7201a8\"],[0.3333333333333333,\"#9c179e\"],[0.4444444444444444,\"#bd3786\"],[0.5555555555555556,\"#d8576b\"],[0.6666666666666666,\"#ed7953\"],[0.7777777777777778,\"#fb9f3a\"],[0.8888888888888888,\"#fdca26\"],[1.0,\"#f0f921\"]]}],\"surface\":[{\"type\":\"surface\",\"colorbar\":{\"outlinewidth\":0,\"ticks\":\"\"},\"colorscale\":[[0.0,\"#0d0887\"],[0.1111111111111111,\"#46039f\"],[0.2222222222222222,\"#7201a8\"],[0.3333333333333333,\"#9c179e\"],[0.4444444444444444,\"#bd3786\"],[0.5555555555555556,\"#d8576b\"],[0.6666666666666666,\"#ed7953\"],[0.7777777777777778,\"#fb9f3a\"],[0.8888888888888888,\"#fdca26\"],[1.0,\"#f0f921\"]]}],\"mesh3d\":[{\"type\":\"mesh3d\",\"colorbar\":{\"outlinewidth\":0,\"ticks\":\"\"}}],\"scatter\":[{\"fillpattern\":{\"fillmode\":\"overlay\",\"size\":10,\"solidity\":0.2},\"type\":\"scatter\"}],\"parcoords\":[{\"type\":\"parcoords\",\"line\":{\"colorbar\":{\"outlinewidth\":0,\"ticks\":\"\"}}}],\"scatterpolargl\":[{\"type\":\"scatterpolargl\",\"marker\":{\"colorbar\":{\"outlinewidth\":0,\"ticks\":\"\"}}}],\"bar\":[{\"error_x\":{\"color\":\"#2a3f5f\"},\"error_y\":{\"color\":\"#2a3f5f\"},\"marker\":{\"line\":{\"color\":\"#E5ECF6\",\"width\":0.5},\"pattern\":{\"fillmode\":\"overlay\",\"size\":10,\"solidity\":0.2}},\"type\":\"bar\"}],\"scattergeo\":[{\"type\":\"scattergeo\",\"marker\":{\"colorbar\":{\"outlinewidth\":0,\"ticks\":\"\"}}}],\"scatterpolar\":[{\"type\":\"scatterpolar\",\"marker\":{\"colorbar\":{\"outlinewidth\":0,\"ticks\":\"\"}}}],\"histogram\":[{\"marker\":{\"pattern\":{\"fillmode\":\"overlay\",\"size\":10,\"solidity\":0.2}},\"type\":\"histogram\"}],\"scattergl\":[{\"type\":\"scattergl\",\"marker\":{\"colorbar\":{\"outlinewidth\":0,\"ticks\":\"\"}}}],\"scatter3d\":[{\"type\":\"scatter3d\",\"line\":{\"colorbar\":{\"outlinewidth\":0,\"ticks\":\"\"}},\"marker\":{\"colorbar\":{\"outlinewidth\":0,\"ticks\":\"\"}}}],\"scattermapbox\":[{\"type\":\"scattermapbox\",\"marker\":{\"colorbar\":{\"outlinewidth\":0,\"ticks\":\"\"}}}],\"scatterternary\":[{\"type\":\"scatterternary\",\"marker\":{\"colorbar\":{\"outlinewidth\":0,\"ticks\":\"\"}}}],\"scattercarpet\":[{\"type\":\"scattercarpet\",\"marker\":{\"colorbar\":{\"outlinewidth\":0,\"ticks\":\"\"}}}],\"carpet\":[{\"aaxis\":{\"endlinecolor\":\"#2a3f5f\",\"gridcolor\":\"white\",\"linecolor\":\"white\",\"minorgridcolor\":\"white\",\"startlinecolor\":\"#2a3f5f\"},\"baxis\":{\"endlinecolor\":\"#2a3f5f\",\"gridcolor\":\"white\",\"linecolor\":\"white\",\"minorgridcolor\":\"white\",\"startlinecolor\":\"#2a3f5f\"},\"type\":\"carpet\"}],\"table\":[{\"cells\":{\"fill\":{\"color\":\"#EBF0F8\"},\"line\":{\"color\":\"white\"}},\"header\":{\"fill\":{\"color\":\"#C8D4E3\"},\"line\":{\"color\":\"white\"}},\"type\":\"table\"}],\"barpolar\":[{\"marker\":{\"line\":{\"color\":\"#E5ECF6\",\"width\":0.5},\"pattern\":{\"fillmode\":\"overlay\",\"size\":10,\"solidity\":0.2}},\"type\":\"barpolar\"}],\"pie\":[{\"automargin\":true,\"type\":\"pie\"}]},\"layout\":{\"autotypenumbers\":\"strict\",\"colorway\":[\"#636efa\",\"#EF553B\",\"#00cc96\",\"#ab63fa\",\"#FFA15A\",\"#19d3f3\",\"#FF6692\",\"#B6E880\",\"#FF97FF\",\"#FECB52\"],\"font\":{\"color\":\"#2a3f5f\"},\"hovermode\":\"closest\",\"hoverlabel\":{\"align\":\"left\"},\"paper_bgcolor\":\"white\",\"plot_bgcolor\":\"#E5ECF6\",\"polar\":{\"bgcolor\":\"#E5ECF6\",\"angularaxis\":{\"gridcolor\":\"white\",\"linecolor\":\"white\",\"ticks\":\"\"},\"radialaxis\":{\"gridcolor\":\"white\",\"linecolor\":\"white\",\"ticks\":\"\"}},\"ternary\":{\"bgcolor\":\"#E5ECF6\",\"aaxis\":{\"gridcolor\":\"white\",\"linecolor\":\"white\",\"ticks\":\"\"},\"baxis\":{\"gridcolor\":\"white\",\"linecolor\":\"white\",\"ticks\":\"\"},\"caxis\":{\"gridcolor\":\"white\",\"linecolor\":\"white\",\"ticks\":\"\"}},\"coloraxis\":{\"colorbar\":{\"outlinewidth\":0,\"ticks\":\"\"}},\"colorscale\":{\"sequential\":[[0.0,\"#0d0887\"],[0.1111111111111111,\"#46039f\"],[0.2222222222222222,\"#7201a8\"],[0.3333333333333333,\"#9c179e\"],[0.4444444444444444,\"#bd3786\"],[0.5555555555555556,\"#d8576b\"],[0.6666666666666666,\"#ed7953\"],[0.7777777777777778,\"#fb9f3a\"],[0.8888888888888888,\"#fdca26\"],[1.0,\"#f0f921\"]],\"sequentialminus\":[[0.0,\"#0d0887\"],[0.1111111111111111,\"#46039f\"],[0.2222222222222222,\"#7201a8\"],[0.3333333333333333,\"#9c179e\"],[0.4444444444444444,\"#bd3786\"],[0.5555555555555556,\"#d8576b\"],[0.6666666666666666,\"#ed7953\"],[0.7777777777777778,\"#fb9f3a\"],[0.8888888888888888,\"#fdca26\"],[1.0,\"#f0f921\"]],\"diverging\":[[0,\"#8e0152\"],[0.1,\"#c51b7d\"],[0.2,\"#de77ae\"],[0.3,\"#f1b6da\"],[0.4,\"#fde0ef\"],[0.5,\"#f7f7f7\"],[0.6,\"#e6f5d0\"],[0.7,\"#b8e186\"],[0.8,\"#7fbc41\"],[0.9,\"#4d9221\"],[1,\"#276419\"]]},\"xaxis\":{\"gridcolor\":\"white\",\"linecolor\":\"white\",\"ticks\":\"\",\"title\":{\"standoff\":15},\"zerolinecolor\":\"white\",\"automargin\":true,\"zerolinewidth\":2},\"yaxis\":{\"gridcolor\":\"white\",\"linecolor\":\"white\",\"ticks\":\"\",\"title\":{\"standoff\":15},\"zerolinecolor\":\"white\",\"automargin\":true,\"zerolinewidth\":2},\"scene\":{\"xaxis\":{\"backgroundcolor\":\"#E5ECF6\",\"gridcolor\":\"white\",\"linecolor\":\"white\",\"showbackground\":true,\"ticks\":\"\",\"zerolinecolor\":\"white\",\"gridwidth\":2},\"yaxis\":{\"backgroundcolor\":\"#E5ECF6\",\"gridcolor\":\"white\",\"linecolor\":\"white\",\"showbackground\":true,\"ticks\":\"\",\"zerolinecolor\":\"white\",\"gridwidth\":2},\"zaxis\":{\"backgroundcolor\":\"#E5ECF6\",\"gridcolor\":\"white\",\"linecolor\":\"white\",\"showbackground\":true,\"ticks\":\"\",\"zerolinecolor\":\"white\",\"gridwidth\":2}},\"shapedefaults\":{\"line\":{\"color\":\"#2a3f5f\"}},\"annotationdefaults\":{\"arrowcolor\":\"#2a3f5f\",\"arrowhead\":0,\"arrowwidth\":1},\"geo\":{\"bgcolor\":\"white\",\"landcolor\":\"#E5ECF6\",\"subunitcolor\":\"white\",\"showland\":true,\"showlakes\":true,\"lakecolor\":\"white\"},\"title\":{\"x\":0.05},\"mapbox\":{\"style\":\"light\"}}},\"font\":{\"family\":\"Arial\",\"size\":12},\"title\":{\"text\":\"Top 50 Most Common Words in the Text\"},\"xaxis\":{\"title\":{\"text\":\"Words\"}},\"yaxis\":{\"title\":{\"text\":\"Frequency\"}},\"plot_bgcolor\":\"white\"},                        {\"responsive\": true}                    ).then(function(){\n",
       "                            \n",
       "var gd = document.getElementById('5374dd3d-cb94-42df-8606-4aedeff30db2');\n",
       "var x = new MutationObserver(function (mutations, observer) {{\n",
       "        var display = window.getComputedStyle(gd).display;\n",
       "        if (!display || display === 'none') {{\n",
       "            console.log([gd, 'removed!']);\n",
       "            Plotly.purge(gd);\n",
       "            observer.disconnect();\n",
       "        }}\n",
       "}});\n",
       "\n",
       "// Listen for the removal of the full notebook cells\n",
       "var notebookContainer = gd.closest('#notebook-container');\n",
       "if (notebookContainer) {{\n",
       "    x.observe(notebookContainer, {childList: true});\n",
       "}}\n",
       "\n",
       "// Listen for the clearing of the current output cell\n",
       "var outputEl = gd.closest('.output');\n",
       "if (outputEl) {{\n",
       "    x.observe(outputEl, {childList: true});\n",
       "}}\n",
       "\n",
       "                        })                };                });            </script>        </div>"
      ]
     },
     "metadata": {},
     "output_type": "display_data"
    }
   ],
   "source": [
    "# Creating a line plot\n",
    "fig = go.Figure(go.Scatter(\n",
    "    x=words,\n",
    "    y=frequencies,\n",
    "    mode='lines+markers',  # Line plot with markers\n",
    "    marker=dict(color='rgb(26, 118, 255)')\n",
    "))\n",
    "\n",
    "fig.update_layout(\n",
    "    title='Top 50 Most Common Words in the Text',\n",
    "    xaxis_title='Words',\n",
    "    yaxis_title='Frequency',\n",
    "    font=dict(family='Arial', size=12),\n",
    "    plot_bgcolor='white'\n",
    ")\n",
    "\n",
    "# Show the interactive plot\n",
    "fig.show()"
   ]
  },
  {
   "cell_type": "code",
   "execution_count": null,
   "id": "065daa20",
   "metadata": {},
   "outputs": [],
   "source": [
    "# Join the lemmatized words into a string\n",
    "res = ' '.join([i for i in lem_words if not i.isdigit()])\n",
    "\n",
    "# Create a word cloud\n",
    "wordcloud = WordCloud(background_color='white',\n",
    "                      max_words=100,\n",
    "                      width=2800,\n",
    "                      height=2200\n",
    "                      ).generate(res)\n",
    "\n",
    "# Convert the word cloud to an image\n",
    "wordcloud_image = wordcloud.to_image()\n",
    "\n",
    "# Display the word cloud using Plotly as an image\n",
    "fig = go.Figure(go.Image(z=wordcloud_image))\n",
    "fig.update_layout(\n",
    "    title='Resume Text WordCloud',\n",
    "    xaxis_showticklabels=False,\n",
    "    yaxis_showticklabels=False\n",
    ")\n",
    "fig.show()"
   ]
  },
  {
   "cell_type": "code",
   "execution_count": null,
   "id": "939e4998",
   "metadata": {},
   "outputs": [],
   "source": []
  }
 ],
 "metadata": {
  "kernelspec": {
   "display_name": "Python 3 (ipykernel)",
   "language": "python",
   "name": "python3"
  },
  "language_info": {
   "codemirror_mode": {
    "name": "ipython",
    "version": 3
   },
   "file_extension": ".py",
   "mimetype": "text/x-python",
   "name": "python",
   "nbconvert_exporter": "python",
   "pygments_lexer": "ipython3",
   "version": "3.9.16"
  }
 },
 "nbformat": 4,
 "nbformat_minor": 5
}
